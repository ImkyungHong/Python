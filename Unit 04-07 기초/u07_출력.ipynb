{
  "nbformat": 4,
  "nbformat_minor": 0,
  "metadata": {
    "colab": {
      "name": "u07_출력.ipynb",
      "provenance": []
    },
    "kernelspec": {
      "name": "python3",
      "display_name": "Python 3"
    },
    "language_info": {
      "name": "python"
    }
  },
  "cells": [
    {
      "cell_type": "markdown",
      "metadata": {
        "id": "fLWooli3ZtBt"
      },
      "source": [
        "# Unit 7. 출력"
      ]
    },
    {
      "cell_type": "markdown",
      "metadata": {
        "id": "tCy7CvG8acRA"
      },
      "source": [
        "## 7.1 여러 개의 값을 출력"
      ]
    },
    {
      "cell_type": "code",
      "metadata": {
        "colab": {
          "base_uri": "https://localhost:8080/"
        },
        "id": "HyC1JXgeZp1e",
        "outputId": "2b7770bd-fa6c-4b20-dbd6-f837ab8e6260"
      },
      "source": [
        "a, b = map(int, input('정수 두개 입력> ').split())\n",
        "a\n",
        "b\n",
        "# 제일 마지막에 있는 b만 출력됨"
      ],
      "execution_count": 1,
      "outputs": [
        {
          "output_type": "stream",
          "text": [
            "정수 두개 입력> 10 20\n"
          ],
          "name": "stdout"
        },
        {
          "output_type": "execute_result",
          "data": {
            "text/plain": [
              "20"
            ]
          },
          "metadata": {
            "tags": []
          },
          "execution_count": 1
        }
      ]
    },
    {
      "cell_type": "code",
      "metadata": {
        "colab": {
          "base_uri": "https://localhost:8080/"
        },
        "id": "9MHrBluZaGqF",
        "outputId": "b9abe34f-e0d4-498e-d1b9-920337d032a3"
      },
      "source": [
        "a, b = map(int, input('정수 두개 입력> ').split())\n",
        "print(a)\n",
        "print(b)\n",
        "#print 함수를 이용하니 a, b 모두 출력됨"
      ],
      "execution_count": 2,
      "outputs": [
        {
          "output_type": "stream",
          "text": [
            "정수 두개 입력> 10 20\n",
            "10\n",
            "20\n"
          ],
          "name": "stdout"
        }
      ]
    },
    {
      "cell_type": "code",
      "metadata": {
        "colab": {
          "base_uri": "https://localhost:8080/"
        },
        "id": "rnjAE_1UaTJF",
        "outputId": "bc68e89c-3d41-4d9d-e946-c8aeaf25973e"
      },
      "source": [
        "print(a, b)     #a,b 값을 모두 출력"
      ],
      "execution_count": 3,
      "outputs": [
        {
          "output_type": "stream",
          "text": [
            "10 20\n"
          ],
          "name": "stdout"
        }
      ]
    },
    {
      "cell_type": "code",
      "metadata": {
        "colab": {
          "base_uri": "https://localhost:8080/"
        },
        "id": "40OjLo_6aqOA",
        "outputId": "4cee7c9f-a051-4ea9-a132-3fd16561bf9b"
      },
      "source": [
        "print(a, b, sep=', ')   #중간에 들어오는, 가 sep 값"
      ],
      "execution_count": 5,
      "outputs": [
        {
          "output_type": "stream",
          "text": [
            "10, 20\n"
          ],
          "name": "stdout"
        }
      ]
    },
    {
      "cell_type": "markdown",
      "metadata": {
        "id": "6gBSNENkbBM_"
      },
      "source": [
        "## 7.2 줄바꿈 활용"
      ]
    },
    {
      "cell_type": "code",
      "metadata": {
        "colab": {
          "base_uri": "https://localhost:8080/"
        },
        "id": "mdzgci4Dazfa",
        "outputId": "facd67ac-1ec7-4586-ec78-5b2e71762d6c"
      },
      "source": [
        "print(a, b, sep='\\n')   # \\n 라인을 바꾸는 글자"
      ],
      "execution_count": 6,
      "outputs": [
        {
          "output_type": "stream",
          "text": [
            "10\n",
            "20\n"
          ],
          "name": "stdout"
        }
      ]
    },
    {
      "cell_type": "code",
      "metadata": {
        "colab": {
          "base_uri": "https://localhost:8080/",
          "height": 132
        },
        "id": "cOXzWyTgbTxb",
        "outputId": "9d16a550-3750-46f4-991e-19c31d9a28f2"
      },
      "source": [
        "pritn(a,b, sep='/\\')   # 백슬래시 후 바로 '가 나오기 때문에 글자를 담지 못함"
      ],
      "execution_count": 12,
      "outputs": [
        {
          "output_type": "error",
          "ename": "SyntaxError",
          "evalue": "ignored",
          "traceback": [
            "\u001b[0;36m  File \u001b[0;32m\"<ipython-input-12-4818c487df1e>\"\u001b[0;36m, line \u001b[0;32m1\u001b[0m\n\u001b[0;31m    pritn(a,b, sep='/\\')    #백슬래시 후 바로 '가 나오기 때문에 글자를 담지 못함\u001b[0m\n\u001b[0m                                        ^\u001b[0m\n\u001b[0;31mSyntaxError\u001b[0m\u001b[0;31m:\u001b[0m invalid syntax\n"
          ]
        }
      ]
    },
    {
      "cell_type": "code",
      "metadata": {
        "colab": {
          "base_uri": "https://localhost:8080/"
        },
        "id": "fHyJtMMYblh9",
        "outputId": "27307434-6d0e-4f6f-f50b-5e5b673f8096"
      },
      "source": [
        "print(a,b, sep='/\\\\')   #백슬래시를 2번 써야 함"
      ],
      "execution_count": 10,
      "outputs": [
        {
          "output_type": "stream",
          "text": [
            "10/\\20\n"
          ],
          "name": "stdout"
        }
      ]
    },
    {
      "cell_type": "code",
      "metadata": {
        "colab": {
          "base_uri": "https://localhost:8080/"
        },
        "id": "OD6T2hN3bz5U",
        "outputId": "1c008c94-2c44-4e23-b4cd-663685b85306"
      },
      "source": [
        "print(a)\n",
        "print(b)"
      ],
      "execution_count": 13,
      "outputs": [
        {
          "output_type": "stream",
          "text": [
            "10\n",
            "20\n"
          ],
          "name": "stdout"
        }
      ]
    },
    {
      "cell_type": "code",
      "metadata": {
        "colab": {
          "base_uri": "https://localhost:8080/"
        },
        "id": "m5VFDPlbcYYn",
        "outputId": "a416c7a3-2aa3-4276-966c-fea06b90e418"
      },
      "source": [
        "print(a, end=' ')\n",
        "print(b)"
      ],
      "execution_count": 14,
      "outputs": [
        {
          "output_type": "stream",
          "text": [
            "10 20\n"
          ],
          "name": "stdout"
        }
      ]
    },
    {
      "cell_type": "code",
      "metadata": {
        "colab": {
          "base_uri": "https://localhost:8080/"
        },
        "id": "3CpSv-F0ceMQ",
        "outputId": "47b44741-f6cf-4998-bf8a-3d29c29e55e3"
      },
      "source": [
        "for i in range(5):\n",
        "    print(i, end=' ')"
      ],
      "execution_count": 15,
      "outputs": [
        {
          "output_type": "stream",
          "text": [
            "0 1 2 3 4 "
          ],
          "name": "stdout"
        }
      ]
    },
    {
      "cell_type": "code",
      "metadata": {
        "id": "1AEpXOOEcyRG"
      },
      "source": [
        ""
      ],
      "execution_count": null,
      "outputs": []
    }
  ]
}