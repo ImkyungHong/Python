{
  "nbformat": 4,
  "nbformat_minor": 0,
  "metadata": {
    "colab": {
      "name": "u14_else.ipynb",
      "provenance": []
    },
    "kernelspec": {
      "name": "python3",
      "display_name": "Python 3"
    },
    "language_info": {
      "name": "python"
    }
  },
  "cells": [
    {
      "cell_type": "markdown",
      "metadata": {
        "id": "tYthirbolyf6"
      },
      "source": [
        "# Unit 14. else"
      ]
    },
    {
      "cell_type": "markdown",
      "metadata": {
        "id": "QQNmOiwWl47M"
      },
      "source": [
        "## 14.1 else 사용하기\n",
        "- 단독으로 사용 불가\n",
        "- if 와 같이 사용"
      ]
    },
    {
      "cell_type": "code",
      "metadata": {
        "colab": {
          "base_uri": "https://localhost:8080/"
        },
        "id": "FK-zWjbklYlU",
        "outputId": "f4b5ee26-c72d-40a2-b1d6-3c040418b6c4"
      },
      "source": [
        "x = 5\n",
        "if x == 10:\n",
        "    print('It is 10.')\n",
        "else: \n",
        "    print('It is not 10.')"
      ],
      "execution_count": null,
      "outputs": [
        {
          "output_type": "stream",
          "text": [
            "It is not 10.\n"
          ],
          "name": "stdout"
        }
      ]
    },
    {
      "cell_type": "markdown",
      "metadata": {
        "id": "m6dy88YGmt89"
      },
      "source": [
        "### 3항 연산자\n",
        "- Java: a = (조건) ? 참일때의 값 : 거짓일때의 값\n",
        "- 파이썬: a = 참일 때의 값 if 조건 else 거짓일때의 값"
      ]
    },
    {
      "cell_type": "code",
      "metadata": {
        "colab": {
          "base_uri": "https://localhost:8080/",
          "height": 35
        },
        "id": "VeiDLxkkmbzR",
        "outputId": "f6601c28-f8ad-408c-9798-f2c481bf3f32"
      },
      "source": [
        "x = 1\n",
        "if x % 2 == 0:         #짝수: 2로 나누었을 때 나머지가 0\n",
        "    y = 'even'\n",
        "else:\n",
        "    y = 'odd'\n",
        "y"
      ],
      "execution_count": null,
      "outputs": [
        {
          "output_type": "execute_result",
          "data": {
            "application/vnd.google.colaboratory.intrinsic+json": {
              "type": "string"
            },
            "text/plain": [
              "'odd'"
            ]
          },
          "metadata": {
            "tags": []
          },
          "execution_count": 7
        }
      ]
    },
    {
      "cell_type": "code",
      "metadata": {
        "colab": {
          "base_uri": "https://localhost:8080/",
          "height": 35
        },
        "id": "SY_CpEbRnCEZ",
        "outputId": "6e107e5d-3b17-4cf3-95bb-c47f26894cfa"
      },
      "source": [
        "# 위의 형태를 3항 연산자로 표현한 것 \n",
        "# 조건이 참일 떄의 값 - 조건식 - 거짓일때의 값 \n",
        "y = 'even' if x % 2 == 0 else 'odd'\n",
        "y"
      ],
      "execution_count": null,
      "outputs": [
        {
          "output_type": "execute_result",
          "data": {
            "application/vnd.google.colaboratory.intrinsic+json": {
              "type": "string"
            },
            "text/plain": [
              "'odd'"
            ]
          },
          "metadata": {
            "tags": []
          },
          "execution_count": 6
        }
      ]
    },
    {
      "cell_type": "code",
      "metadata": {
        "colab": {
          "base_uri": "https://localhost:8080/"
        },
        "id": "GFkcR9QHnOaQ",
        "outputId": "4f27156d-8007-47ae-c5b8-5018838b1f81"
      },
      "source": [
        "# 예제) 90점 이상이면 'A', 80 ~ 89: B, 70 ~ 79: C,  60 ~ 69: D, 59이하: F\n",
        "score = int(input('점수 입력> '))"
      ],
      "execution_count": null,
      "outputs": [
        {
          "output_type": "stream",
          "text": [
            "점수 입력> 82\n"
          ],
          "name": "stdout"
        }
      ]
    },
    {
      "cell_type": "code",
      "metadata": {
        "colab": {
          "base_uri": "https://localhost:8080/"
        },
        "id": "9GDu9rA6oooK",
        "outputId": "f0ef0c55-8fd1-40cd-ec78-3c0d7a6f2ef1"
      },
      "source": [
        "# 정답 코드\n",
        "if score >= 90:\n",
        "    grade = 'A'\n",
        "else:\n",
        "    if score >= 80:\n",
        "        grade = 'B'\n",
        "    else:\n",
        "        if score >= 70:\n",
        "            grade = 'C'\n",
        "        else:\n",
        "            if score >= 60:\n",
        "                grade = 'D'\n",
        "            else:\n",
        "                grade = 'F'\n",
        "print(grade)    "
      ],
      "execution_count": null,
      "outputs": [
        {
          "output_type": "stream",
          "text": [
            "B\n"
          ],
          "name": "stdout"
        }
      ]
    },
    {
      "cell_type": "code",
      "metadata": {
        "colab": {
          "base_uri": "https://localhost:8080/",
          "height": 35
        },
        "id": "-m_XYjxxqf53",
        "outputId": "767cd33f-fd85-45aa-f298-5efab96fd56b"
      },
      "source": [
        "# 위의 식을 3항 연산자로 표현할 경우1\n",
        "grade = 'A' if score >= 90 else \\\n",
        "            'B' if score >= 80 else \\\n",
        "                'C' if score >= 70 else\\\n",
        "                    'D' if score >= 60 else F\n",
        "grade"
      ],
      "execution_count": null,
      "outputs": [
        {
          "output_type": "execute_result",
          "data": {
            "application/vnd.google.colaboratory.intrinsic+json": {
              "type": "string"
            },
            "text/plain": [
              "'B'"
            ]
          },
          "metadata": {
            "tags": []
          },
          "execution_count": 12
        }
      ]
    },
    {
      "cell_type": "code",
      "metadata": {
        "colab": {
          "base_uri": "https://localhost:8080/"
        },
        "id": "u5yNLNzAq2hk",
        "outputId": "c475086c-f300-400f-f017-49e007131bfb"
      },
      "source": [
        "# 위의 식을 3항 연산자로 표현할 경우2\n",
        "grade = 'A' if score >= 90 else \\\n",
        "            'B' if score >= 80 else \\\n",
        "                'C' if score >= 70 else\\\n",
        "                    'D' if score >= 60 else F\n",
        "print(grade)"
      ],
      "execution_count": null,
      "outputs": [
        {
          "output_type": "stream",
          "text": [
            "B\n"
          ],
          "name": "stdout"
        }
      ]
    },
    {
      "cell_type": "markdown",
      "metadata": {
        "id": "yjCoVgwKuh9h"
      },
      "source": [
        "### 조건식에서의 논리연산자"
      ]
    },
    {
      "cell_type": "code",
      "metadata": {
        "colab": {
          "base_uri": "https://localhost:8080/"
        },
        "id": "sCMrsOZIr3AU",
        "outputId": "d5e9ca01-c4f7-43ea-d660-3cbe56e5ad4f"
      },
      "source": [
        "x = 5\n",
        "if x > 0 and x < 10:\n",
        "    print('10보다 작은 양의 정수입니다.')"
      ],
      "execution_count": null,
      "outputs": [
        {
          "output_type": "stream",
          "text": [
            "10보다 작은 양의 정수입니다.\n"
          ],
          "name": "stdout"
        }
      ]
    },
    {
      "cell_type": "code",
      "metadata": {
        "colab": {
          "base_uri": "https://localhost:8080/"
        },
        "id": "m10PqhQZus3r",
        "outputId": "778e7d0a-d146-456a-f83a-83e4ec1ec4f4"
      },
      "source": [
        "if 0 < x < 10 :\n",
        "    print('10보다 작은 양의 정수입니다.')"
      ],
      "execution_count": null,
      "outputs": [
        {
          "output_type": "stream",
          "text": [
            "10보다 작은 양의 정수입니다.\n"
          ],
          "name": "stdout"
        }
      ]
    },
    {
      "cell_type": "code",
      "metadata": {
        "id": "bYihhaEzu0TE"
      },
      "source": [
        ""
      ],
      "execution_count": null,
      "outputs": []
    }
  ]
}