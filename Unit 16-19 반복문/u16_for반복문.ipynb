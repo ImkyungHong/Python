{
  "nbformat": 4,
  "nbformat_minor": 0,
  "metadata": {
    "colab": {
      "name": "u16_for반복문.ipynb",
      "provenance": [],
      "collapsed_sections": []
    },
    "kernelspec": {
      "name": "python3",
      "display_name": "Python 3"
    },
    "language_info": {
      "name": "python"
    }
  },
  "cells": [
    {
      "cell_type": "markdown",
      "metadata": {
        "id": "PL92gq4Mt2lR"
      },
      "source": [
        "# Unit 16. for 반복문"
      ]
    },
    {
      "cell_type": "markdown",
      "metadata": {
        "id": "z44WjlIft8sC"
      },
      "source": [
        "## 16.1 for와 range"
      ]
    },
    {
      "cell_type": "code",
      "metadata": {
        "colab": {
          "base_uri": "https://localhost:8080/"
        },
        "id": "rj0AnOCUt1hT",
        "outputId": "39e1c2f4-273d-4100-a7f1-4b590f8e0c13"
      },
      "source": [
        "# for 변수 in range(횟수):\n",
        "    #반복할 코드\n",
        "\n",
        "for i in range(10) :\n",
        "    print('Hello World!')"
      ],
      "execution_count": 1,
      "outputs": [
        {
          "output_type": "stream",
          "text": [
            "Hello World!\n",
            "Hello World!\n",
            "Hello World!\n",
            "Hello World!\n",
            "Hello World!\n",
            "Hello World!\n",
            "Hello World!\n",
            "Hello World!\n",
            "Hello World!\n",
            "Hello World!\n"
          ],
          "name": "stdout"
        }
      ]
    },
    {
      "cell_type": "code",
      "metadata": {
        "colab": {
          "base_uri": "https://localhost:8080/"
        },
        "id": "CvUXZ4NXuD97",
        "outputId": "35cc3b55-340e-49a0-d8df-016ae0e32637"
      },
      "source": [
        "for i in range(10):\n",
        "    print('Hello World!', i)"
      ],
      "execution_count": 3,
      "outputs": [
        {
          "output_type": "stream",
          "text": [
            "Hello World! 0\n",
            "Hello World! 1\n",
            "Hello World! 2\n",
            "Hello World! 3\n",
            "Hello World! 4\n",
            "Hello World! 5\n",
            "Hello World! 6\n",
            "Hello World! 7\n",
            "Hello World! 8\n",
            "Hello World! 9\n"
          ],
          "name": "stdout"
        }
      ]
    },
    {
      "cell_type": "code",
      "metadata": {
        "colab": {
          "base_uri": "https://localhost:8080/"
        },
        "id": "dqJAQRuevbu5",
        "outputId": "b3fac68b-c989-4332-f6f0-4cb11187f8f2"
      },
      "source": [
        "# 변수를 만들지 않을 때는 _ 를 사용\n",
        "for _ in range(5) :\n",
        "    print('Hello, World!')"
      ],
      "execution_count": 5,
      "outputs": [
        {
          "output_type": "stream",
          "text": [
            "Hello, World!\n",
            "Hello, World!\n",
            "Hello, World!\n",
            "Hello, World!\n",
            "Hello, World!\n"
          ],
          "name": "stdout"
        }
      ]
    },
    {
      "cell_type": "markdown",
      "metadata": {
        "id": "rL4lSyeMx7Ov"
      },
      "source": [
        "## 16.2 for와 range 응용"
      ]
    },
    {
      "cell_type": "code",
      "metadata": {
        "colab": {
          "base_uri": "https://localhost:8080/"
        },
        "id": "Wse8Dra5vi3H",
        "outputId": "f26a526a-e9e3-4a08-e2a2-fe11ceab71f3"
      },
      "source": [
        "for i in range(6,10) :\n",
        "    print('Hello, world!', i)"
      ],
      "execution_count": 7,
      "outputs": [
        {
          "output_type": "stream",
          "text": [
            "Hello, world! 6\n",
            "Hello, world! 7\n",
            "Hello, world! 8\n",
            "Hello, world! 9\n"
          ],
          "name": "stdout"
        }
      ]
    },
    {
      "cell_type": "code",
      "metadata": {
        "colab": {
          "base_uri": "https://localhost:8080/"
        },
        "id": "etcE9FeWyP3G",
        "outputId": "535196d8-664d-4d15-8cce-1bb8632eab37"
      },
      "source": [
        "for i in range(0, 10, 2) :\n",
        "    print('Hello, world!', i)"
      ],
      "execution_count": 8,
      "outputs": [
        {
          "output_type": "stream",
          "text": [
            "Hello, world! 0\n",
            "Hello, world! 2\n",
            "Hello, world! 4\n",
            "Hello, world! 6\n",
            "Hello, world! 8\n"
          ],
          "name": "stdout"
        }
      ]
    },
    {
      "cell_type": "code",
      "metadata": {
        "colab": {
          "base_uri": "https://localhost:8080/"
        },
        "id": "M6sQ2yVmyXkY",
        "outputId": "7fbd41c3-461b-4c56-9415-aa8553df9e20"
      },
      "source": [
        "for i in range(10, 0, -2) :\n",
        "    print('Hello, world!', i)"
      ],
      "execution_count": 9,
      "outputs": [
        {
          "output_type": "stream",
          "text": [
            "Hello, world! 10\n",
            "Hello, world! 8\n",
            "Hello, world! 6\n",
            "Hello, world! 4\n",
            "Hello, world! 2\n"
          ],
          "name": "stdout"
        }
      ]
    },
    {
      "cell_type": "code",
      "metadata": {
        "colab": {
          "base_uri": "https://localhost:8080/"
        },
        "id": "xuzA-pFQyca_",
        "outputId": "2e07e98f-63de-4423-c5b9-3c33a7e2e998"
      },
      "source": [
        "# 1에서 100까지 fizz, buzz, 일렬로 하면 end를 ' '\n",
        "for i in range(1, 101) :\n",
        "    print('Fizz'*(i%3==0) + 'Buzz'*(i%5==0)or i, end=' ')"
      ],
      "execution_count": 10,
      "outputs": [
        {
          "output_type": "stream",
          "text": [
            "1 2 Fizz 4 Buzz Fizz 7 8 Fizz Buzz 11 Fizz 13 14 FizzBuzz 16 17 Fizz 19 Buzz Fizz 22 23 Fizz Buzz 26 Fizz 28 29 FizzBuzz 31 32 Fizz 34 Buzz Fizz 37 38 Fizz Buzz 41 Fizz 43 44 FizzBuzz 46 47 Fizz 49 Buzz Fizz 52 53 Fizz Buzz 56 Fizz 58 59 FizzBuzz 61 62 Fizz 64 Buzz Fizz 67 68 Fizz Buzz 71 Fizz 73 74 FizzBuzz 76 77 Fizz 79 Buzz Fizz 82 83 Fizz Buzz 86 Fizz 88 89 FizzBuzz 91 92 Fizz 94 Buzz Fizz 97 98 Fizz Buzz "
          ],
          "name": "stdout"
        }
      ]
    },
    {
      "cell_type": "code",
      "metadata": {
        "colab": {
          "base_uri": "https://localhost:8080/"
        },
        "id": "9uDZ56zLzNBi",
        "outputId": "8330a2de-1205-443c-b318-8085f469503f"
      },
      "source": [
        "# 1에서 100까지 fizz, buzz, 10개씩 행\n",
        "for i in range(1, 101) :\n",
        "    print('Fizz'*(i%3==0) + 'Buzz'*(i%5==0)or i, end=' ')\n",
        "    if (i%10==0):\n",
        "        print()"
      ],
      "execution_count": 11,
      "outputs": [
        {
          "output_type": "stream",
          "text": [
            "1 2 Fizz 4 Buzz Fizz 7 8 Fizz Buzz \n",
            "11 Fizz 13 14 FizzBuzz 16 17 Fizz 19 Buzz \n",
            "Fizz 22 23 Fizz Buzz 26 Fizz 28 29 FizzBuzz \n",
            "31 32 Fizz 34 Buzz Fizz 37 38 Fizz Buzz \n",
            "41 Fizz 43 44 FizzBuzz 46 47 Fizz 49 Buzz \n",
            "Fizz 52 53 Fizz Buzz 56 Fizz 58 59 FizzBuzz \n",
            "61 62 Fizz 64 Buzz Fizz 67 68 Fizz Buzz \n",
            "71 Fizz 73 74 FizzBuzz 76 77 Fizz 79 Buzz \n",
            "Fizz 82 83 Fizz Buzz 86 Fizz 88 89 FizzBuzz \n",
            "91 92 Fizz 94 Buzz Fizz 97 98 Fizz Buzz \n"
          ],
          "name": "stdout"
        }
      ]
    },
    {
      "cell_type": "markdown",
      "metadata": {
        "id": "NBGSXbubz-hD"
      },
      "source": [
        "## 16.3 시퀀스 객체 반복"
      ]
    },
    {
      "cell_type": "markdown",
      "metadata": {
        "id": "zJ8ttKZw1ag7"
      },
      "source": [
        "* 변수 : 소문자로 사용 (class 명일때만 대문자로 사용)<br>\n",
        " 두 단어의 조합 : \n",
        "   <br> camelNotation (Java) : 두번째 단어의 시작을 대문자로\n",
        "   <br> snake_notation (Python) : _ 로 연결  "
      ]
    },
    {
      "cell_type": "markdown",
      "metadata": {
        "id": "TfymW6Or27dX"
      },
      "source": [
        "### list"
      ]
    },
    {
      "cell_type": "code",
      "metadata": {
        "colab": {
          "base_uri": "https://localhost:8080/"
        },
        "id": "WpFzBBS5zdvE",
        "outputId": "bc11dfbb-ee10-4629-8b35-a09f0be6c410"
      },
      "source": [
        "# 변수 이름에 의미 갖도록  신경쓸 것 (웬만하면 단어/단어의 조합으로 사용)\n",
        "fruits = ['apple', 'banana', 'cherry']\n",
        "for element in fruits :\n",
        "    print(element)          #반복문 안에서는 print() 사용해야 함. 그냥 변수 넣으면 출력 안됨"
      ],
      "execution_count": 13,
      "outputs": [
        {
          "output_type": "stream",
          "text": [
            "apple\n",
            "banana\n",
            "cherry\n"
          ],
          "name": "stdout"
        }
      ]
    },
    {
      "cell_type": "code",
      "metadata": {
        "colab": {
          "base_uri": "https://localhost:8080/"
        },
        "id": "NHjn3c330NOL",
        "outputId": "e6f18b79-5e69-4f0b-a20f-905618645068"
      },
      "source": [
        "# 위에랑 똑같은데, 변수를 '단수', '복수' 형태로 하는 게 더 좋음 (변수명을 의미 갖도록)\n",
        "for fruit in fruits :\n",
        "    print(fruit)"
      ],
      "execution_count": 15,
      "outputs": [
        {
          "output_type": "stream",
          "text": [
            "apple\n",
            "banana\n",
            "cherry\n"
          ],
          "name": "stdout"
        }
      ]
    },
    {
      "cell_type": "code",
      "metadata": {
        "colab": {
          "base_uri": "https://localhost:8080/"
        },
        "id": "CHNOraC10uoM",
        "outputId": "826cd4aa-f5ec-47ba-80b6-8cc55aad3ad9"
      },
      "source": [
        "# 위에랑 똑같은데, 변수를 list로 했을 때 \n",
        "fruit_list = ['apple', 'banana', 'cherry']\n",
        "for fruit in fruit_list :\n",
        "    print(fruit)"
      ],
      "execution_count": 16,
      "outputs": [
        {
          "output_type": "stream",
          "text": [
            "apple\n",
            "banana\n",
            "cherry\n"
          ],
          "name": "stdout"
        }
      ]
    },
    {
      "cell_type": "code",
      "metadata": {
        "colab": {
          "base_uri": "https://localhost:8080/"
        },
        "id": "HpFxtIbU06iA",
        "outputId": "b1c2acbd-912c-49d5-cd5a-300ea612e118"
      },
      "source": [
        "for letter in 'Python' :\n",
        "    print(letter)"
      ],
      "execution_count": 17,
      "outputs": [
        {
          "output_type": "stream",
          "text": [
            "P\n",
            "y\n",
            "t\n",
            "h\n",
            "o\n",
            "n\n"
          ],
          "name": "stdout"
        }
      ]
    },
    {
      "cell_type": "code",
      "metadata": {
        "colab": {
          "base_uri": "https://localhost:8080/"
        },
        "id": "oDu2Ko1L2YKN",
        "outputId": "19f708d2-6898-4815-e1b0-905e8277af0f"
      },
      "source": [
        "for letter in 'Python' :\n",
        "    print(letter, end='')"
      ],
      "execution_count": 18,
      "outputs": [
        {
          "output_type": "stream",
          "text": [
            "Python"
          ],
          "name": "stdout"
        }
      ]
    },
    {
      "cell_type": "code",
      "metadata": {
        "colab": {
          "base_uri": "https://localhost:8080/"
        },
        "id": "nF5hPf5Q2jbN",
        "outputId": "a3855a26-df57-439a-e989-3e38474238ce"
      },
      "source": [
        "for letter in reversed('Python') :\n",
        "    print(letter, end=\" \")"
      ],
      "execution_count": 19,
      "outputs": [
        {
          "output_type": "stream",
          "text": [
            "n o h t y P "
          ],
          "name": "stdout"
        }
      ]
    },
    {
      "cell_type": "markdown",
      "metadata": {
        "id": "Q5gyNdFt29bx"
      },
      "source": [
        "### tuple"
      ]
    },
    {
      "cell_type": "code",
      "metadata": {
        "colab": {
          "base_uri": "https://localhost:8080/"
        },
        "id": "ZiB5Wf0u2rjM",
        "outputId": "210d49f2-2466-4007-8f04-adaacd410f3a"
      },
      "source": [
        "for number in (10, 20, 30) :\n",
        "    print(number)"
      ],
      "execution_count": 20,
      "outputs": [
        {
          "output_type": "stream",
          "text": [
            "10\n",
            "20\n",
            "30\n"
          ],
          "name": "stdout"
        }
      ]
    },
    {
      "cell_type": "markdown",
      "metadata": {
        "id": "w36midoG3jB2"
      },
      "source": [
        "### Perfect Number\n",
        "- 자기 자신을 제외한 약수의 합이 자기 자신과 같은 수 \n",
        "- 예) 6의 약수 : 1, 2, 3, 6 \n",
        "- 6 = 1 + 2 + 3 > 6은 퍼펙트 넘버\n",
        "- 10000이하의 자연수 중에서는  4개만 존재 "
      ]
    },
    {
      "cell_type": "code",
      "metadata": {
        "colab": {
          "base_uri": "https://localhost:8080/"
        },
        "id": "rJLY6Qz-3BpN",
        "outputId": "f0a556ed-c27f-432c-a5a7-fc322ea15efd"
      },
      "source": [
        "# 1-10 까지 약수 찾기\n",
        "for i in range(2, 11):\n",
        "    for k in range(1, i):\n",
        "        if i % k == 0 :\n",
        "            print(f'{k}은/는 {i}의 약수')"
      ],
      "execution_count": 23,
      "outputs": [
        {
          "output_type": "stream",
          "text": [
            "1은/는 2의 약수\n",
            "1은/는 3의 약수\n",
            "1은/는 4의 약수\n",
            "2은/는 4의 약수\n",
            "1은/는 5의 약수\n",
            "1은/는 6의 약수\n",
            "2은/는 6의 약수\n",
            "3은/는 6의 약수\n",
            "1은/는 7의 약수\n",
            "1은/는 8의 약수\n",
            "2은/는 8의 약수\n",
            "4은/는 8의 약수\n",
            "1은/는 9의 약수\n",
            "3은/는 9의 약수\n",
            "1은/는 10의 약수\n",
            "2은/는 10의 약수\n",
            "5은/는 10의 약수\n"
          ],
          "name": "stdout"
        }
      ]
    },
    {
      "cell_type": "code",
      "metadata": {
        "colab": {
          "base_uri": "https://localhost:8080/",
          "height": 219
        },
        "id": "WRm40Hng4uwr",
        "outputId": "2d83d32a-1c44-4fc7-b4d1-eabf354702ce"
      },
      "source": [
        "# 1-10000 까지 퍼펙트 넘버 찾기 \n",
        "for i in range(2, 10001) :\n",
        "    for k in range(1, i) :\n",
        "        if sum(i % k == 0) == k :\n",
        "            print(k)"
      ],
      "execution_count": 25,
      "outputs": [
        {
          "output_type": "error",
          "ename": "TypeError",
          "evalue": "ignored",
          "traceback": [
            "\u001b[0;31m---------------------------------------------------------------------------\u001b[0m",
            "\u001b[0;31mTypeError\u001b[0m                                 Traceback (most recent call last)",
            "\u001b[0;32m<ipython-input-25-e1cd091ae389>\u001b[0m in \u001b[0;36m<module>\u001b[0;34m()\u001b[0m\n\u001b[1;32m      2\u001b[0m \u001b[0;32mfor\u001b[0m \u001b[0mi\u001b[0m \u001b[0;32min\u001b[0m \u001b[0mrange\u001b[0m\u001b[0;34m(\u001b[0m\u001b[0;36m2\u001b[0m\u001b[0;34m,\u001b[0m \u001b[0;36m10001\u001b[0m\u001b[0;34m)\u001b[0m \u001b[0;34m:\u001b[0m\u001b[0;34m\u001b[0m\u001b[0;34m\u001b[0m\u001b[0m\n\u001b[1;32m      3\u001b[0m     \u001b[0;32mfor\u001b[0m \u001b[0mk\u001b[0m \u001b[0;32min\u001b[0m \u001b[0mrange\u001b[0m\u001b[0;34m(\u001b[0m\u001b[0;36m1\u001b[0m\u001b[0;34m,\u001b[0m \u001b[0mi\u001b[0m\u001b[0;34m)\u001b[0m \u001b[0;34m:\u001b[0m\u001b[0;34m\u001b[0m\u001b[0;34m\u001b[0m\u001b[0m\n\u001b[0;32m----> 4\u001b[0;31m         \u001b[0;32mif\u001b[0m \u001b[0msum\u001b[0m\u001b[0;34m(\u001b[0m\u001b[0mi\u001b[0m \u001b[0;34m%\u001b[0m \u001b[0mk\u001b[0m \u001b[0;34m==\u001b[0m \u001b[0;36m0\u001b[0m\u001b[0;34m)\u001b[0m \u001b[0;34m==\u001b[0m \u001b[0mk\u001b[0m \u001b[0;34m:\u001b[0m\u001b[0;34m\u001b[0m\u001b[0;34m\u001b[0m\u001b[0m\n\u001b[0m\u001b[1;32m      5\u001b[0m             \u001b[0mprint\u001b[0m\u001b[0;34m(\u001b[0m\u001b[0mk\u001b[0m\u001b[0;34m)\u001b[0m\u001b[0;34m\u001b[0m\u001b[0;34m\u001b[0m\u001b[0m\n",
            "\u001b[0;31mTypeError\u001b[0m: 'bool' object is not iterable"
          ]
        }
      ]
    },
    {
      "cell_type": "code",
      "metadata": {
        "colab": {
          "base_uri": "https://localhost:8080/"
        },
        "id": "yrsGYVVB5o7q",
        "outputId": "d8799c24-7f48-45c3-f80e-2e2ea0ad3835"
      },
      "source": [
        "# 1-10000 까지 퍼펙트 넘버 찾기 (정답)\n",
        "for i in range(2, 10001) :\n",
        "    sum_of_divisor = 0            #새로운 변수를 만들어줘야 함(약수의 합)\n",
        "    for k in range(1, i):\n",
        "        if i % k == 0 :\n",
        "            sum_of_divisor += k \n",
        "    if i == sum_of_divisor:\n",
        "        print(i)"
      ],
      "execution_count": 27,
      "outputs": [
        {
          "output_type": "stream",
          "text": [
            "6\n",
            "28\n",
            "496\n",
            "8128\n"
          ],
          "name": "stdout"
        }
      ]
    },
    {
      "cell_type": "code",
      "metadata": {
        "colab": {
          "base_uri": "https://localhost:8080/"
        },
        "id": "dSNOxLX78jTB",
        "outputId": "c41d0287-2bc7-4da9-dad5-265f238509be"
      },
      "source": [
        "# 1-10000 까지 퍼펙트 넘버 찾기 (정답)\n",
        "perfect_numbers = []\n",
        "for i in range(2, 10001) :\n",
        "    divisor_list = []\n",
        "    for k in range(1, i):\n",
        "        if i % k == 0 :\n",
        "            divisor_list.append(k)\n",
        "    if i == sum(divisor_list):\n",
        "        perfect_numbers.append(i)\n",
        "print(perfect_numbers)"
      ],
      "execution_count": 29,
      "outputs": [
        {
          "output_type": "stream",
          "text": [
            "[6, 28, 496, 8128]\n"
          ],
          "name": "stdout"
        }
      ]
    },
    {
      "cell_type": "code",
      "metadata": {
        "id": "AmBP3QU99Vhe"
      },
      "source": [
        ""
      ],
      "execution_count": null,
      "outputs": []
    }
  ]
}