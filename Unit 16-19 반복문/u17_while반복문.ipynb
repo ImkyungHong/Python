{
  "nbformat": 4,
  "nbformat_minor": 0,
  "metadata": {
    "colab": {
      "name": "u17_while반복문.ipynb",
      "provenance": [],
      "collapsed_sections": []
    },
    "kernelspec": {
      "name": "python3",
      "display_name": "Python 3"
    },
    "language_info": {
      "name": "python"
    }
  },
  "cells": [
    {
      "cell_type": "markdown",
      "metadata": {
        "id": "OssyqiPjA959"
      },
      "source": [
        "# Unit 17. while 반복문"
      ]
    },
    {
      "cell_type": "markdown",
      "metadata": {
        "id": "dGRbz9KnBD8p"
      },
      "source": [
        "## 17.1 while 반복문\n",
        "- 반복횟수가 정해져 있는 반복문은 while을 쓰지 않는다.\n",
        "- for 문법 대신 사용"
      ]
    },
    {
      "cell_type": "code",
      "metadata": {
        "id": "BAvvTrvABKC_"
      },
      "source": [
        "# 기본 (거의 쓰지 않음)\n",
        "while 조건 :\n",
        "    조건이 참인 동안 loop을 반복"
      ],
      "execution_count": null,
      "outputs": []
    },
    {
      "cell_type": "markdown",
      "metadata": {
        "id": "WaY8zXc2CBx3"
      },
      "source": [
        "## 17.2 반복 횟수가 없는 while 반복문\n",
        "- 난수(random number) : 특정 주기로 반복되지 않으며 규칙 없이 무작위로 나열되는 숫자 (대표 : 주사위를 굴려서 나온 숫자)"
      ]
    },
    {
      "cell_type": "code",
      "metadata": {
        "id": "O08nDyqzBwOU"
      },
      "source": [
        "import random       #random 모듈을 가져옴"
      ],
      "execution_count": 4,
      "outputs": []
    },
    {
      "cell_type": "code",
      "metadata": {
        "colab": {
          "base_uri": "https://localhost:8080/"
        },
        "id": "BzgAU-D5CT_z",
        "outputId": "20b6b5ba-03f9-41cb-d8a1-0110998c2125"
      },
      "source": [
        "random.random()     #실행할때마다 다른 실수가 출력됨. -> 난수"
      ],
      "execution_count": 5,
      "outputs": [
        {
          "output_type": "execute_result",
          "data": {
            "text/plain": [
              "0.951973541500653"
            ]
          },
          "metadata": {
            "tags": []
          },
          "execution_count": 5
        }
      ]
    },
    {
      "cell_type": "code",
      "metadata": {
        "colab": {
          "base_uri": "https://localhost:8080/"
        },
        "id": "3ifJNvKyCVrV",
        "outputId": "b57f377d-7615-41dd-cfba-03088e514f16"
      },
      "source": [
        "random.randint(1,6)"
      ],
      "execution_count": 6,
      "outputs": [
        {
          "output_type": "execute_result",
          "data": {
            "text/plain": [
              "1"
            ]
          },
          "metadata": {
            "tags": []
          },
          "execution_count": 6
        }
      ]
    },
    {
      "cell_type": "code",
      "metadata": {
        "colab": {
          "base_uri": "https://localhost:8080/"
        },
        "id": "vc3rYaIFCiEV",
        "outputId": "fc7b3c32-5d37-4169-fa51-2e04a71a85e3"
      },
      "source": [
        "i = 0\n",
        "while i != 3 :\n",
        "    i = random.randint(1,6)\n",
        "    print(i)"
      ],
      "execution_count": 8,
      "outputs": [
        {
          "output_type": "stream",
          "text": [
            "4\n",
            "2\n",
            "3\n"
          ],
          "name": "stdout"
        }
      ]
    },
    {
      "cell_type": "code",
      "metadata": {
        "colab": {
          "base_uri": "https://localhost:8080/"
        },
        "id": "qu4TkXKQDW-t",
        "outputId": "71ea25ae-daeb-4e3a-eb1b-a113df9ab83c"
      },
      "source": [
        "i = 0\n",
        "dice = [1,2,3,4,5,6]\n",
        "while i != 3 :\n",
        "    i = random.choice(dice)\n",
        "    print(i)"
      ],
      "execution_count": 10,
      "outputs": [
        {
          "output_type": "stream",
          "text": [
            "1\n",
            "5\n",
            "6\n",
            "5\n",
            "3\n"
          ],
          "name": "stdout"
        }
      ]
    },
    {
      "cell_type": "code",
      "metadata": {
        "colab": {
          "base_uri": "https://localhost:8080/"
        },
        "id": "ZGqmKBslDjDk",
        "outputId": "6e4d655c-fe01-4267-948a-b70ad8cd6b72"
      },
      "source": [
        "random.sample(dice, 6)"
      ],
      "execution_count": 12,
      "outputs": [
        {
          "output_type": "execute_result",
          "data": {
            "text/plain": [
              "[1, 6, 3, 4, 5, 2]"
            ]
          },
          "metadata": {
            "tags": []
          },
          "execution_count": 12
        }
      ]
    },
    {
      "cell_type": "code",
      "metadata": {
        "id": "aI7097iTELNB"
      },
      "source": [
        ""
      ],
      "execution_count": null,
      "outputs": []
    }
  ]
}