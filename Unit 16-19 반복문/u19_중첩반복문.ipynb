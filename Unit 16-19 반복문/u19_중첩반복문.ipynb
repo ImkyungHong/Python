{
  "nbformat": 4,
  "nbformat_minor": 0,
  "metadata": {
    "colab": {
      "name": "u19_중첩반복문.ipynb",
      "provenance": [],
      "collapsed_sections": []
    },
    "kernelspec": {
      "name": "python3",
      "display_name": "Python 3"
    },
    "language_info": {
      "name": "python"
    }
  },
  "cells": [
    {
      "cell_type": "markdown",
      "metadata": {
        "id": "od85CUxSbMGt"
      },
      "source": [
        "# Unit 19. 중첩 반복문"
      ]
    },
    {
      "cell_type": "markdown",
      "metadata": {
        "id": "8iGLKYgjbTWm"
      },
      "source": [
        "## 19.1 중첩(nested) for loop"
      ]
    },
    {
      "cell_type": "code",
      "metadata": {
        "colab": {
          "base_uri": "https://localhost:8080/"
        },
        "id": "xXZcGL5TbKoy",
        "outputId": "d7095595-d645-4af5-8084-4610740ed68b"
      },
      "source": [
        "for i in range(1,6) :\n",
        "    for k in range(10, 60, 10) :\n",
        "        print(k, end=' ')\n",
        "    print(i)"
      ],
      "execution_count": 10,
      "outputs": [
        {
          "output_type": "stream",
          "text": [
            "10 20 30 40 50 1\n",
            "10 20 30 40 50 2\n",
            "10 20 30 40 50 3\n",
            "10 20 30 40 50 4\n",
            "10 20 30 40 50 5\n"
          ],
          "name": "stdout"
        }
      ]
    },
    {
      "cell_type": "markdown",
      "metadata": {
        "id": "9JsTF1xXcqRh"
      },
      "source": [
        "## 19.2 별 사각형 "
      ]
    },
    {
      "cell_type": "code",
      "metadata": {
        "colab": {
          "base_uri": "https://localhost:8080/"
        },
        "id": "DmWzAx66cOjg",
        "outputId": "6cbdb8c2-203c-4ebc-fa1a-268e3ac73a8f"
      },
      "source": [
        "for i in range(5) :\n",
        "    for _ in range(5) :\n",
        "        print('*', end='')\n",
        "    print()"
      ],
      "execution_count": 6,
      "outputs": [
        {
          "output_type": "stream",
          "text": [
            "*****\n",
            "*****\n",
            "*****\n",
            "*****\n",
            "*****\n"
          ],
          "name": "stdout"
        }
      ]
    },
    {
      "cell_type": "code",
      "metadata": {
        "colab": {
          "base_uri": "https://localhost:8080/"
        },
        "id": "Zxq3z0Nxc74L",
        "outputId": "9de6db19-72f0-4284-b2f8-dadb6eeb9f0a"
      },
      "source": [
        "# 평행사변형 \n",
        "for i in range(4) :\n",
        "    for k in range(0, i):           #blank 부분\n",
        "        print(' ', end='')\n",
        "    for _ in range(5) :             #star부분\n",
        "        print('*', end='')\n",
        "    print()"
      ],
      "execution_count": 7,
      "outputs": [
        {
          "output_type": "stream",
          "text": [
            "*****\n",
            " *****\n",
            "  *****\n",
            "   *****\n"
          ],
          "name": "stdout"
        }
      ]
    },
    {
      "cell_type": "code",
      "metadata": {
        "colab": {
          "base_uri": "https://localhost:8080/"
        },
        "id": "pNEbRg7rednb",
        "outputId": "7bc83733-3a73-4e1e-fc2c-ceb6bf2af2d8"
      },
      "source": [
        "for i in range(4) :\n",
        "    print(' '* i, '*'*5, sep='')"
      ],
      "execution_count": 8,
      "outputs": [
        {
          "output_type": "stream",
          "text": [
            "*****\n",
            " *****\n",
            "  *****\n",
            "   *****\n"
          ],
          "name": "stdout"
        }
      ]
    },
    {
      "cell_type": "markdown",
      "metadata": {
        "id": "if69m2iOfPin"
      },
      "source": [
        "## 19.3 계단식 별 모양"
      ]
    },
    {
      "cell_type": "code",
      "metadata": {
        "colab": {
          "base_uri": "https://localhost:8080/"
        },
        "id": "cE1Dz4Qse3Vd",
        "outputId": "449e6a29-a53f-4ba3-d67f-5bca7dd1f98c"
      },
      "source": [
        "for i in range(5) : \n",
        "    for _ in range(i+1) :\n",
        "        print('*', end='')\n",
        "    print()"
      ],
      "execution_count": 11,
      "outputs": [
        {
          "output_type": "stream",
          "text": [
            "*\n",
            "**\n",
            "***\n",
            "****\n",
            "*****\n"
          ],
          "name": "stdout"
        }
      ]
    },
    {
      "cell_type": "code",
      "metadata": {
        "colab": {
          "base_uri": "https://localhost:8080/"
        },
        "id": "BrAbzkZLg1kx",
        "outputId": "77917ca5-0cc3-4fd0-dbd3-beb38dc0b578"
      },
      "source": [
        "for i in range(1, 6) :\n",
        "    print('*' * i)"
      ],
      "execution_count": 15,
      "outputs": [
        {
          "output_type": "stream",
          "text": [
            "*\n",
            "**\n",
            "***\n",
            "****\n",
            "*****\n"
          ],
          "name": "stdout"
        }
      ]
    },
    {
      "cell_type": "code",
      "metadata": {
        "colab": {
          "base_uri": "https://localhost:8080/"
        },
        "id": "mvTmp-lDfzey",
        "outputId": "a462d8e2-bd59-4359-a9f8-531502869080"
      },
      "source": [
        "for i in range(5) :\n",
        "    for _ in range(i) :\n",
        "        print(' ', end='')\n",
        "    for _ in range(5-i) :\n",
        "        print('*', end='')\n",
        "    print()"
      ],
      "execution_count": 14,
      "outputs": [
        {
          "output_type": "stream",
          "text": [
            "*****\n",
            " ****\n",
            "  ***\n",
            "   **\n",
            "    *\n"
          ],
          "name": "stdout"
        }
      ]
    },
    {
      "cell_type": "code",
      "metadata": {
        "colab": {
          "base_uri": "https://localhost:8080/"
        },
        "id": "0hXiG2p1gvDf",
        "outputId": "c387ce93-4d55-4dec-f20c-0b426f6824d7"
      },
      "source": [
        "for i in range(5) : \n",
        "    print(' ' * i, '*' * (5-i), sep='')"
      ],
      "execution_count": 17,
      "outputs": [
        {
          "output_type": "stream",
          "text": [
            "*****\n",
            " ****\n",
            "  ***\n",
            "   **\n",
            "    *\n"
          ],
          "name": "stdout"
        }
      ]
    },
    {
      "cell_type": "markdown",
      "metadata": {
        "id": "1o_yB1z-h9ua"
      },
      "source": [
        "### 다이아몬드 그리기"
      ]
    },
    {
      "cell_type": "code",
      "metadata": {
        "colab": {
          "base_uri": "https://localhost:8080/"
        },
        "id": "iWSf5Dk5hRt5",
        "outputId": "eb685b8f-30c9-4f5c-a007-fb605b6a23e3"
      },
      "source": [
        "# 코드를 2가지로 나눠서 (위/아래)\n",
        "for i in range(5) :\n",
        "    for _ in range(4-i) :\n",
        "        print(' ', end='')\n",
        "    for _ in range(2*i+1) :\n",
        "        print('*', end='')\n",
        "    print()\n",
        "for i in range(4) :\n",
        "    for _ in range(i+1) :\n",
        "        print(' ', end='')\n",
        "    for _ in range(7-2*i) :\n",
        "        print('*', end='')\n",
        "    print()"
      ],
      "execution_count": 27,
      "outputs": [
        {
          "output_type": "stream",
          "text": [
            "    *\n",
            "   ***\n",
            "  *****\n",
            " *******\n",
            "*********\n",
            " *******\n",
            "  *****\n",
            "   ***\n",
            "    *\n"
          ],
          "name": "stdout"
        }
      ]
    },
    {
      "cell_type": "code",
      "metadata": {
        "colab": {
          "base_uri": "https://localhost:8080/"
        },
        "id": "21isV6STirHC",
        "outputId": "97166b2e-ddbe-4482-faff-c3f3f2c1b0ea"
      },
      "source": [
        "for i in range(5) : \n",
        "    print(' '*(4-i), '*'*(2*i+1), sep='')\n",
        "for i in range(4) :\n",
        "    print(' '*(i+1), '*'*(7-2*i), sep='')"
      ],
      "execution_count": 31,
      "outputs": [
        {
          "output_type": "stream",
          "text": [
            "    *\n",
            "   ***\n",
            "  *****\n",
            " *******\n",
            "*********\n",
            " *******\n",
            "  *****\n",
            "   ***\n",
            "    *\n"
          ],
          "name": "stdout"
        }
      ]
    },
    {
      "cell_type": "code",
      "metadata": {
        "id": "FA2v6wXrmUCw"
      },
      "source": [
        ""
      ],
      "execution_count": null,
      "outputs": []
    }
  ]
}