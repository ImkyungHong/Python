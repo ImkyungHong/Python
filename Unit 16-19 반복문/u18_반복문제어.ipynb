{
  "nbformat": 4,
  "nbformat_minor": 0,
  "metadata": {
    "colab": {
      "name": "u18_반복문제어.ipynb",
      "provenance": []
    },
    "kernelspec": {
      "name": "python3",
      "display_name": "Python 3"
    },
    "language_info": {
      "name": "python"
    }
  },
  "cells": [
    {
      "cell_type": "markdown",
      "metadata": {
        "id": "RT2WJhYdEwGo"
      },
      "source": [
        "# Unit 18. break, continue"
      ]
    },
    {
      "cell_type": "markdown",
      "metadata": {
        "id": "bmk34nKdE1ct"
      },
      "source": [
        "## 18.1 break로 반복문 끝내기"
      ]
    },
    {
      "cell_type": "code",
      "metadata": {
        "id": "9qlQsKK0EoNJ"
      },
      "source": [
        "import random"
      ],
      "execution_count": null,
      "outputs": []
    },
    {
      "cell_type": "code",
      "metadata": {
        "colab": {
          "base_uri": "https://localhost:8080/"
        },
        "id": "lwWny9O6FEIF",
        "outputId": "94b5f579-eb77-446e-9f4b-8103fd1b70f6"
      },
      "source": [
        "# 횟수가 정해져 있지 않기 때문에 돌릴 때마다 다름. 조건 만족하면 끝남(break)\n",
        "while True :\n",
        "    i = random.randint(1,6)\n",
        "    print(i)\n",
        "    if i == 3 :\n",
        "        break"
      ],
      "execution_count": null,
      "outputs": [
        {
          "output_type": "stream",
          "text": [
            "6\n",
            "4\n",
            "3\n"
          ],
          "name": "stdout"
        }
      ]
    },
    {
      "cell_type": "code",
      "metadata": {
        "colab": {
          "base_uri": "https://localhost:8080/"
        },
        "id": "HJ5Vrdn1FReW",
        "outputId": "f223255b-504c-4368-e11b-cf5d0caec02b"
      },
      "source": [
        "for i in range(5) :\n",
        "    print(i, end=' ')\n",
        "    for k in range(5) :\n",
        "        print('*', end='')\n",
        "        if i == k : \n",
        "            break"
      ],
      "execution_count": null,
      "outputs": [
        {
          "output_type": "stream",
          "text": [
            "0 *1 **2 ***3 ****4 *****"
          ],
          "name": "stdout"
        }
      ]
    },
    {
      "cell_type": "code",
      "metadata": {
        "colab": {
          "base_uri": "https://localhost:8080/"
        },
        "id": "zH9od26HF_SA",
        "outputId": "02b7db15-1f50-43ae-b43b-5a03de18cf1c"
      },
      "source": [
        "for i in range(5) :\n",
        "    print(i, end=' ')\n",
        "    for k in range(5) :\n",
        "        print('*', end='')\n",
        "        if i == k : \n",
        "            break\n",
        "    print()"
      ],
      "execution_count": null,
      "outputs": [
        {
          "output_type": "stream",
          "text": [
            "0 *\n",
            "1 **\n",
            "2 ***\n",
            "3 ****\n",
            "4 *****\n"
          ],
          "name": "stdout"
        }
      ]
    },
    {
      "cell_type": "markdown",
      "metadata": {
        "id": "qONZMt2CGsbX"
      },
      "source": [
        "## 18.2 continue"
      ]
    },
    {
      "cell_type": "code",
      "metadata": {
        "colab": {
          "base_uri": "https://localhost:8080/"
        },
        "id": "Rv8wjPDjGgBQ",
        "outputId": "0528b5ab-bd80-4147-9e4c-51ecb927acef"
      },
      "source": [
        "for i in range(10) :\n",
        "    if i % 2 == 0 :\n",
        "        continue    #짝수면 계속 돌려 \n",
        "    print(i)        #짝수가 아니면 그냥 출력"
      ],
      "execution_count": null,
      "outputs": [
        {
          "output_type": "stream",
          "text": [
            "1\n",
            "3\n",
            "5\n",
            "7\n",
            "9\n"
          ],
          "name": "stdout"
        }
      ]
    },
    {
      "cell_type": "code",
      "metadata": {
        "id": "ndtQOiStG2tl"
      },
      "source": [
        ""
      ],
      "execution_count": null,
      "outputs": []
    }
  ]
}