{
  "nbformat": 4,
  "nbformat_minor": 0,
  "metadata": {
    "colab": {
      "name": "u10_리스트_튜플.ipynb",
      "provenance": []
    },
    "kernelspec": {
      "name": "python3",
      "display_name": "Python 3"
    },
    "language_info": {
      "name": "python"
    }
  },
  "cells": [
    {
      "cell_type": "markdown",
      "metadata": {
        "id": "-8pZd9LsgRKP"
      },
      "source": [
        "# Unit 10. 리스트(list)와 튜플(tuple) "
      ]
    },
    {
      "cell_type": "markdown",
      "metadata": {
        "id": "gQ1L-NTch0QL"
      },
      "source": [
        "- 제일 많이 사용하는 것(list) : [ ]\n",
        "- 그 다음으로 사용하는 것(tuple) : ( )\n",
        "- dict, set(집합)사용 : { }\n",
        "- numpy 에서는 array : np.[ ]\n",
        "\n"
      ]
    },
    {
      "cell_type": "markdown",
      "metadata": {
        "id": "CK3owyKciDw_"
      },
      "source": [
        "## 10.1 리스트(list)"
      ]
    },
    {
      "cell_type": "code",
      "metadata": {
        "colab": {
          "base_uri": "https://localhost:8080/"
        },
        "id": "h_ICj9i2gLa4",
        "outputId": "525fb596-796f-4fb3-ad50-637c5c163c39"
      },
      "source": [
        "a = [38, 21, 53, 62, 19]\n",
        "a"
      ],
      "execution_count": 1,
      "outputs": [
        {
          "output_type": "execute_result",
          "data": {
            "text/plain": [
              "[38, 21, 53, 62, 19]"
            ]
          },
          "metadata": {
            "tags": []
          },
          "execution_count": 1
        }
      ]
    },
    {
      "cell_type": "code",
      "metadata": {
        "colab": {
          "base_uri": "https://localhost:8080/"
        },
        "id": "21-12Z_ViLjg",
        "outputId": "151ecaef-bd85-47e4-d204-7aba3a77f4df"
      },
      "source": [
        "# 파이썬에서는 list element가 다른 자료형도 가능\n",
        "# 문자형, 정수, 실수, 불, 리스트 등 다른 자료형 다 넣을 수 있음\n",
        "# but, 이렇게 쓰면 반복문으로 쓰기 어려움(권장하지 않음)\n",
        "person = ['James', 19, 175.3, True, [120, 80]]\n",
        "person"
      ],
      "execution_count": 4,
      "outputs": [
        {
          "output_type": "execute_result",
          "data": {
            "text/plain": [
              "['James', 19, 175.3, True, [120, 80]]"
            ]
          },
          "metadata": {
            "tags": []
          },
          "execution_count": 4
        }
      ]
    },
    {
      "cell_type": "code",
      "metadata": {
        "colab": {
          "base_uri": "https://localhost:8080/"
        },
        "id": "8wxu5ixaijIJ",
        "outputId": "658b4367-e8b8-44fb-b429-c8be83269828"
      },
      "source": [
        "#위의 person은 다음과 같은 dict로 변경하는 것이 권장됨.\n",
        "person_dict = {'name':'James', 'age':19, 'height':175.4, 'is_male':True, 'bp':[120,80]}\n",
        "person_dict"
      ],
      "execution_count": 5,
      "outputs": [
        {
          "output_type": "execute_result",
          "data": {
            "text/plain": [
              "{'age': 19, 'bp': [120, 80], 'height': 175.4, 'is_male': True, 'name': 'James'}"
            ]
          },
          "metadata": {
            "tags": []
          },
          "execution_count": 5
        }
      ]
    },
    {
      "cell_type": "markdown",
      "metadata": {
        "id": "Tt5xD8nQjzzJ"
      },
      "source": [
        "### 빈 리스트 만들기"
      ]
    },
    {
      "cell_type": "code",
      "metadata": {
        "colab": {
          "base_uri": "https://localhost:8080/"
        },
        "id": "El1fAW3KjTVy",
        "outputId": "e1d58f11-ca5a-4455-d4f5-f534114c0353"
      },
      "source": [
        "a = []\n",
        "b = list()\n",
        "a, b"
      ],
      "execution_count": 6,
      "outputs": [
        {
          "output_type": "execute_result",
          "data": {
            "text/plain": [
              "([], [])"
            ]
          },
          "metadata": {
            "tags": []
          },
          "execution_count": 6
        }
      ]
    },
    {
      "cell_type": "code",
      "metadata": {
        "colab": {
          "base_uri": "https://localhost:8080/"
        },
        "id": "FhynyQxRj8P4",
        "outputId": "fb0ede20-4b6d-48f6-a9c5-952c18075a6d"
      },
      "source": [
        "# 위의 경우처럼 빈 리스트 만들 때 선생님은 이렇게 사용하심\n",
        "a, b = [], []\n",
        "a, b"
      ],
      "execution_count": 7,
      "outputs": [
        {
          "output_type": "execute_result",
          "data": {
            "text/plain": [
              "([], [])"
            ]
          },
          "metadata": {
            "tags": []
          },
          "execution_count": 7
        }
      ]
    },
    {
      "cell_type": "markdown",
      "metadata": {
        "id": "ZJ1kirVlka4H"
      },
      "source": [
        "### range\n",
        "- range([시작숫자,] 끝나는 숫자+1 [, 증가분]) <br>\n",
        "- [시작숫자]: 옵션 (나와도 되고 안나와도 되고_ []로 묶어줌)\n",
        "- 파이썬응 '0' 부터 시작 : 끝나는 숫자+1 해야하는 것 <br>\n",
        "  예) range(10) : 끝나는 숫자 = 9 가 되기 때문에 '10'까지의 숫자를 희망한다면 '11'로 넣어야 하는 것.<br> 1-10 까지의 숫자 희망 : range(1, 11) <br> "
      ]
    },
    {
      "cell_type": "code",
      "metadata": {
        "colab": {
          "base_uri": "https://localhost:8080/"
        },
        "id": "UJx84_33kRzN",
        "outputId": "5cef7030-3641-45e1-f996-adc744eb050c"
      },
      "source": [
        "a = range(10)\n",
        "a\n",
        "# 이 경우 0-10 사이의 숫자(element)를 알 길이 없음. -> list(a) 사용"
      ],
      "execution_count": 10,
      "outputs": [
        {
          "output_type": "execute_result",
          "data": {
            "text/plain": [
              "range(0, 10)"
            ]
          },
          "metadata": {
            "tags": []
          },
          "execution_count": 10
        }
      ]
    },
    {
      "cell_type": "code",
      "metadata": {
        "colab": {
          "base_uri": "https://localhost:8080/"
        },
        "id": "PzVaEsVGk9pY",
        "outputId": "06186c5e-944a-4a32-f955-ebe6916efe9d"
      },
      "source": [
        "list(a) # 파이썬에서는 '0'이 시작숫자('1'부터 시작하는 게 아님)"
      ],
      "execution_count": 9,
      "outputs": [
        {
          "output_type": "execute_result",
          "data": {
            "text/plain": [
              "[0, 1, 2, 3, 4, 5, 6, 7, 8, 9]"
            ]
          },
          "metadata": {
            "tags": []
          },
          "execution_count": 9
        }
      ]
    },
    {
      "cell_type": "code",
      "metadata": {
        "colab": {
          "base_uri": "https://localhost:8080/"
        },
        "id": "sYUVGT8GlCD_",
        "outputId": "f0392ae6-97d2-4487-f3a4-ae1f65407f21"
      },
      "source": [
        "list(range(1,11))"
      ],
      "execution_count": 11,
      "outputs": [
        {
          "output_type": "execute_result",
          "data": {
            "text/plain": [
              "[1, 2, 3, 4, 5, 6, 7, 8, 9, 10]"
            ]
          },
          "metadata": {
            "tags": []
          },
          "execution_count": 11
        }
      ]
    },
    {
      "cell_type": "code",
      "metadata": {
        "colab": {
          "base_uri": "https://localhost:8080/"
        },
        "id": "y5IiDXwQlTz-",
        "outputId": "e231a58a-f044-4cfb-e538-ecedbc9141c8"
      },
      "source": [
        "#1-10까지 홀수 \n",
        "list(range(1,10,2))"
      ],
      "execution_count": 12,
      "outputs": [
        {
          "output_type": "execute_result",
          "data": {
            "text/plain": [
              "[1, 3, 5, 7, 9]"
            ]
          },
          "metadata": {
            "tags": []
          },
          "execution_count": 12
        }
      ]
    },
    {
      "cell_type": "code",
      "metadata": {
        "colab": {
          "base_uri": "https://localhost:8080/"
        },
        "id": "36rFpJCWlqB6",
        "outputId": "26de624a-78a4-4f3e-9d2d-50ee3a9addde"
      },
      "source": [
        "list(range(2, 11, 2))"
      ],
      "execution_count": 13,
      "outputs": [
        {
          "output_type": "execute_result",
          "data": {
            "text/plain": [
              "[2, 4, 6, 8, 10]"
            ]
          },
          "metadata": {
            "tags": []
          },
          "execution_count": 13
        }
      ]
    },
    {
      "cell_type": "code",
      "metadata": {
        "colab": {
          "base_uri": "https://localhost:8080/"
        },
        "id": "PZviSQsbly7F",
        "outputId": "cf3aeefa-3071-47a7-b7c3-fe3c2d8a4a1a"
      },
      "source": [
        "list(range(10,0,-1))"
      ],
      "execution_count": 14,
      "outputs": [
        {
          "output_type": "execute_result",
          "data": {
            "text/plain": [
              "[10, 9, 8, 7, 6, 5, 4, 3, 2, 1]"
            ]
          },
          "metadata": {
            "tags": []
          },
          "execution_count": 14
        }
      ]
    },
    {
      "cell_type": "markdown",
      "metadata": {
        "id": "Rt43CMYBotvt"
      },
      "source": [
        "## 10.2 튜플(tuple)\n",
        "- Read-only 특성(변경 불가)"
      ]
    },
    {
      "cell_type": "code",
      "metadata": {
        "colab": {
          "base_uri": "https://localhost:8080/"
        },
        "id": "fGPay9sxoghm",
        "outputId": "c66b47d3-4549-43ef-f545-89a5b8dfd19c"
      },
      "source": [
        "a = (38, 21, 47)\n",
        "a"
      ],
      "execution_count": 15,
      "outputs": [
        {
          "output_type": "execute_result",
          "data": {
            "text/plain": [
              "(38, 21, 47)"
            ]
          },
          "metadata": {
            "tags": []
          },
          "execution_count": 15
        }
      ]
    },
    {
      "cell_type": "code",
      "metadata": {
        "colab": {
          "base_uri": "https://localhost:8080/"
        },
        "id": "HKVu_BgBo3TA",
        "outputId": "e49d5839-28fe-4f96-da69-46665daadcc3"
      },
      "source": [
        "a = 38, 21, 47  #이거처럼 표현해도 됨(파이썬에서만 있는 방식)\n",
        "a"
      ],
      "execution_count": 16,
      "outputs": [
        {
          "output_type": "execute_result",
          "data": {
            "text/plain": [
              "(38, 21, 47)"
            ]
          },
          "metadata": {
            "tags": []
          },
          "execution_count": 16
        }
      ]
    },
    {
      "cell_type": "code",
      "metadata": {
        "colab": {
          "base_uri": "https://localhost:8080/"
        },
        "id": "mhPD5_pVo-R4",
        "outputId": "4a616f95-7fc1-4267-9cea-e98ebb9d82ef"
      },
      "source": [
        "#tuple도 list와 마찬가지로 다양한 자료형 섞어서 만들 수 있음\n",
        "person = ('James', 19, 175.3, True, [120, 80])\n",
        "person"
      ],
      "execution_count": 17,
      "outputs": [
        {
          "output_type": "execute_result",
          "data": {
            "text/plain": [
              "('James', 19, 175.3, True, [120, 80])"
            ]
          },
          "metadata": {
            "tags": []
          },
          "execution_count": 17
        }
      ]
    },
    {
      "cell_type": "code",
      "metadata": {
        "colab": {
          "base_uri": "https://localhost:8080/"
        },
        "id": "us-OTjPqpOcH",
        "outputId": "7ca67817-053b-46b4-dbfb-5ae287fe7494"
      },
      "source": [
        "# 빈 튜플 만들기. but 만드는 의미 없음 \n",
        "a = tuple()\n",
        "a"
      ],
      "execution_count": 19,
      "outputs": [
        {
          "output_type": "execute_result",
          "data": {
            "text/plain": [
              "()"
            ]
          },
          "metadata": {
            "tags": []
          },
          "execution_count": 19
        }
      ]
    },
    {
      "cell_type": "code",
      "metadata": {
        "colab": {
          "base_uri": "https://localhost:8080/"
        },
        "id": "vrdNn_9rpvh-",
        "outputId": "4c9befa1-3c79-4060-fc5c-0e115647dda3"
      },
      "source": [
        "# element가 하나 있을 때 (a=정수)\n",
        "a = (38)\n",
        "a"
      ],
      "execution_count": 20,
      "outputs": [
        {
          "output_type": "execute_result",
          "data": {
            "text/plain": [
              "38"
            ]
          },
          "metadata": {
            "tags": []
          },
          "execution_count": 20
        }
      ]
    },
    {
      "cell_type": "code",
      "metadata": {
        "colab": {
          "base_uri": "https://localhost:8080/"
        },
        "id": "u2N6EpJ7qKZA",
        "outputId": "30320f66-9029-45d9-c3dc-c9f9425d7a6c"
      },
      "source": [
        "# tuple로 element 하나 표현하고 싶을 경우 (a=tuple)\n",
        "# 데이터베이스에서 값을 줄 때 tuple을 기대하는 항목에서 이렇게 넣음\n",
        "a = (38,)\n",
        "a"
      ],
      "execution_count": 21,
      "outputs": [
        {
          "output_type": "execute_result",
          "data": {
            "text/plain": [
              "(38,)"
            ]
          },
          "metadata": {
            "tags": []
          },
          "execution_count": 21
        }
      ]
    },
    {
      "cell_type": "code",
      "metadata": {
        "colab": {
          "base_uri": "https://localhost:8080/"
        },
        "id": "8yyXUxM5qTld",
        "outputId": "7a229de1-924e-43f1-9cbe-f006f7824b2e"
      },
      "source": [
        "tuple(range(5))"
      ],
      "execution_count": 23,
      "outputs": [
        {
          "output_type": "execute_result",
          "data": {
            "text/plain": [
              "(0, 1, 2, 3, 4)"
            ]
          },
          "metadata": {
            "tags": []
          },
          "execution_count": 23
        }
      ]
    },
    {
      "cell_type": "markdown",
      "metadata": {
        "id": "fkZbSz4Hq9EF"
      },
      "source": [
        "### 리스트 <-> 튜플"
      ]
    },
    {
      "cell_type": "code",
      "metadata": {
        "colab": {
          "base_uri": "https://localhost:8080/"
        },
        "id": "dLavxcDBqt-A",
        "outputId": "0a44e29b-c429-48db-bb3f-8eb3000e0528"
      },
      "source": [
        "a = [1,3,4]\n",
        "b = tuple(a)\n",
        "b"
      ],
      "execution_count": 24,
      "outputs": [
        {
          "output_type": "execute_result",
          "data": {
            "text/plain": [
              "(1, 3, 4)"
            ]
          },
          "metadata": {
            "tags": []
          },
          "execution_count": 24
        }
      ]
    },
    {
      "cell_type": "code",
      "metadata": {
        "colab": {
          "base_uri": "https://localhost:8080/"
        },
        "id": "8lz6d8ObrEeu",
        "outputId": "c70126d2-2a2d-45f7-8f7f-9d9e23c43480"
      },
      "source": [
        "c = list(b)\n",
        "c"
      ],
      "execution_count": 25,
      "outputs": [
        {
          "output_type": "execute_result",
          "data": {
            "text/plain": [
              "[1, 3, 4]"
            ]
          },
          "metadata": {
            "tags": []
          },
          "execution_count": 25
        }
      ]
    },
    {
      "cell_type": "code",
      "metadata": {
        "colab": {
          "base_uri": "https://localhost:8080/",
          "height": 184
        },
        "id": "EsmM0iXOrKtK",
        "outputId": "ce296c6f-2f28-4973-a1ed-a1d7b3a7faf5"
      },
      "source": [
        "x = 10\n",
        "tuple(x)"
      ],
      "execution_count": 29,
      "outputs": [
        {
          "output_type": "error",
          "ename": "TypeError",
          "evalue": "ignored",
          "traceback": [
            "\u001b[0;31m---------------------------------------------------------------------------\u001b[0m",
            "\u001b[0;31mTypeError\u001b[0m                                 Traceback (most recent call last)",
            "\u001b[0;32m<ipython-input-29-cde32f6dd086>\u001b[0m in \u001b[0;36m<module>\u001b[0;34m()\u001b[0m\n\u001b[1;32m      1\u001b[0m \u001b[0mx\u001b[0m \u001b[0;34m=\u001b[0m \u001b[0;36m10\u001b[0m\u001b[0;34m\u001b[0m\u001b[0;34m\u001b[0m\u001b[0m\n\u001b[0;32m----> 2\u001b[0;31m \u001b[0mtuple\u001b[0m\u001b[0;34m(\u001b[0m\u001b[0mx\u001b[0m\u001b[0;34m)\u001b[0m\u001b[0;34m\u001b[0m\u001b[0;34m\u001b[0m\u001b[0m\n\u001b[0m",
            "\u001b[0;31mTypeError\u001b[0m: 'int' object is not iterable"
          ]
        }
      ]
    },
    {
      "cell_type": "code",
      "metadata": {
        "colab": {
          "base_uri": "https://localhost:8080/",
          "height": 184
        },
        "id": "7Gq47szGrUgW",
        "outputId": "8e1bd8eb-ca70-410f-dab6-8a142e5a81f7"
      },
      "source": [
        "x = 10\n",
        "tuple(x,)"
      ],
      "execution_count": 28,
      "outputs": [
        {
          "output_type": "error",
          "ename": "TypeError",
          "evalue": "ignored",
          "traceback": [
            "\u001b[0;31m---------------------------------------------------------------------------\u001b[0m",
            "\u001b[0;31mTypeError\u001b[0m                                 Traceback (most recent call last)",
            "\u001b[0;32m<ipython-input-28-a2507460135c>\u001b[0m in \u001b[0;36m<module>\u001b[0;34m()\u001b[0m\n\u001b[1;32m      1\u001b[0m \u001b[0mx\u001b[0m \u001b[0;34m=\u001b[0m \u001b[0;36m10\u001b[0m\u001b[0;34m\u001b[0m\u001b[0;34m\u001b[0m\u001b[0m\n\u001b[0;32m----> 2\u001b[0;31m \u001b[0mtuple\u001b[0m\u001b[0;34m(\u001b[0m\u001b[0mx\u001b[0m\u001b[0;34m,\u001b[0m\u001b[0;34m)\u001b[0m\u001b[0;34m\u001b[0m\u001b[0;34m\u001b[0m\u001b[0m\n\u001b[0m",
            "\u001b[0;31mTypeError\u001b[0m: 'int' object is not iterable"
          ]
        }
      ]
    },
    {
      "cell_type": "markdown",
      "metadata": {
        "id": "m6nrta1Yrgvg"
      },
      "source": [
        "###문자열"
      ]
    },
    {
      "cell_type": "code",
      "metadata": {
        "colab": {
          "base_uri": "https://localhost:8080/"
        },
        "id": "buPGfWBPrYYn",
        "outputId": "5bd494d4-096b-4e05-e713-fe0f94d071e2"
      },
      "source": [
        "tuple('Hello')"
      ],
      "execution_count": 30,
      "outputs": [
        {
          "output_type": "execute_result",
          "data": {
            "text/plain": [
              "('H', 'e', 'l', 'l', 'o')"
            ]
          },
          "metadata": {
            "tags": []
          },
          "execution_count": 30
        }
      ]
    },
    {
      "cell_type": "code",
      "metadata": {
        "colab": {
          "base_uri": "https://localhost:8080/"
        },
        "id": "jn_bq7WCrkqx",
        "outputId": "02f5040a-23f2-45fd-b16f-1b88253aaf63"
      },
      "source": [
        "list('안녕하세요')"
      ],
      "execution_count": 31,
      "outputs": [
        {
          "output_type": "execute_result",
          "data": {
            "text/plain": [
              "['안', '녕', '하', '세', '요']"
            ]
          },
          "metadata": {
            "tags": []
          },
          "execution_count": 31
        }
      ]
    },
    {
      "cell_type": "markdown",
      "metadata": {
        "id": "7WTnz3rar1q_"
      },
      "source": [
        "### 언패킹(unpacking)"
      ]
    },
    {
      "cell_type": "code",
      "metadata": {
        "colab": {
          "base_uri": "https://localhost:8080/"
        },
        "id": "FHiS7JaVrqR8",
        "outputId": "07c63a93-2ab2-4384-de05-ccf1ca22b3d0"
      },
      "source": [
        "#tuple unpacking\n",
        "a = (1,3,4)\n",
        "x, y, z = a\n",
        "x, y, z"
      ],
      "execution_count": 33,
      "outputs": [
        {
          "output_type": "execute_result",
          "data": {
            "text/plain": [
              "(1, 3, 4)"
            ]
          },
          "metadata": {
            "tags": []
          },
          "execution_count": 33
        }
      ]
    },
    {
      "cell_type": "code",
      "metadata": {
        "colab": {
          "base_uri": "https://localhost:8080/"
        },
        "id": "-RiKGqO-sBGX",
        "outputId": "f59e83af-46be-4484-9d78-56fa49162094"
      },
      "source": [
        "#list unpacking\n",
        "x, y, z = [1, 3, 5]\n",
        "x, y, z"
      ],
      "execution_count": 36,
      "outputs": [
        {
          "output_type": "execute_result",
          "data": {
            "text/plain": [
              "(1, 3, 5)"
            ]
          },
          "metadata": {
            "tags": []
          },
          "execution_count": 36
        }
      ]
    },
    {
      "cell_type": "code",
      "metadata": {
        "id": "wdkZrrxOsXRM"
      },
      "source": [
        ""
      ],
      "execution_count": null,
      "outputs": []
    }
  ]
}