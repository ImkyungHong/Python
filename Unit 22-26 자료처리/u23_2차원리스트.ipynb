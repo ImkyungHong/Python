{
  "nbformat": 4,
  "nbformat_minor": 0,
  "metadata": {
    "colab": {
      "name": "u23_2차원리스트.ipynb",
      "provenance": [],
      "collapsed_sections": []
    },
    "kernelspec": {
      "name": "python3",
      "display_name": "Python 3"
    },
    "language_info": {
      "name": "python"
    }
  },
  "cells": [
    {
      "cell_type": "markdown",
      "metadata": {
        "id": "tvdXnAao0OnT"
      },
      "source": [
        "# Unit 23. 2차원 리스트 사용하기"
      ]
    },
    {
      "cell_type": "markdown",
      "metadata": {
        "id": "RMMyViDS0YmH"
      },
      "source": [
        "## 23.1 생성 및 인덱싱"
      ]
    },
    {
      "cell_type": "code",
      "metadata": {
        "colab": {
          "base_uri": "https://localhost:8080/"
        },
        "id": "W-S1PQJvvvvH",
        "outputId": "cab8afd5-d55c-4e4c-8cd9-c284a0db137f"
      },
      "source": [
        "a = [[10,20], [30,40],[50,60]]\n",
        "a"
      ],
      "execution_count": null,
      "outputs": [
        {
          "output_type": "execute_result",
          "data": {
            "text/plain": [
              "[[10, 20], [30, 40], [50, 60]]"
            ]
          },
          "metadata": {
            "tags": []
          },
          "execution_count": 2
        }
      ]
    },
    {
      "cell_type": "code",
      "metadata": {
        "colab": {
          "base_uri": "https://localhost:8080/"
        },
        "id": "qX_kTOrV1CA8",
        "outputId": "deb66ceb-9b6b-4ab4-ccd6-108d101d0a1c"
      },
      "source": [
        "# a[행인덱스][열인덱스]\n",
        "# 30에 접근하려면\n",
        "a[1][0]"
      ],
      "execution_count": null,
      "outputs": [
        {
          "output_type": "execute_result",
          "data": {
            "text/plain": [
              "30"
            ]
          },
          "metadata": {
            "tags": []
          },
          "execution_count": 3
        }
      ]
    },
    {
      "cell_type": "code",
      "metadata": {
        "colab": {
          "base_uri": "https://localhost:8080/"
        },
        "id": "bomu4fYN1WfU",
        "outputId": "045ad9bd-723c-4b5e-f5cc-d1658b644db1"
      },
      "source": [
        "a[1][-1]=100        #a[1][1] 와 같음 (끝에서부터 하면 -1이니까)\n",
        "a"
      ],
      "execution_count": null,
      "outputs": [
        {
          "output_type": "execute_result",
          "data": {
            "text/plain": [
              "[[10, 20], [30, 100], [50, 60]]"
            ]
          },
          "metadata": {
            "tags": []
          },
          "execution_count": 11
        }
      ]
    },
    {
      "cell_type": "code",
      "metadata": {
        "colab": {
          "base_uri": "https://localhost:8080/"
        },
        "id": "lanrjhj_1kXl",
        "outputId": "c3548996-c79b-4446-ac6f-18fb103c27b1"
      },
      "source": [
        "import numpy as np\n",
        "b = np.arange(16).reshape(4,4)\n",
        "b"
      ],
      "execution_count": null,
      "outputs": [
        {
          "output_type": "execute_result",
          "data": {
            "text/plain": [
              "array([[ 0,  1,  2,  3],\n",
              "       [ 4,  5,  6,  7],\n",
              "       [ 8,  9, 10, 11],\n",
              "       [12, 13, 14, 15]])"
            ]
          },
          "metadata": {
            "tags": []
          },
          "execution_count": 7
        }
      ]
    },
    {
      "cell_type": "code",
      "metadata": {
        "colab": {
          "base_uri": "https://localhost:8080/"
        },
        "id": "7ZsYloK115go",
        "outputId": "00ebc889-f749-411c-cd73-f303a4ea2cda"
      },
      "source": [
        "b[1,1]"
      ],
      "execution_count": null,
      "outputs": [
        {
          "output_type": "execute_result",
          "data": {
            "text/plain": [
              "5"
            ]
          },
          "metadata": {
            "tags": []
          },
          "execution_count": 8
        }
      ]
    },
    {
      "cell_type": "code",
      "metadata": {
        "colab": {
          "base_uri": "https://localhost:8080/"
        },
        "id": "t1S5uH2Q2As6",
        "outputId": "d2709d2c-dcb6-4758-cf9b-06390c8fd74b"
      },
      "source": [
        "b[1:-1, 1:-1]"
      ],
      "execution_count": null,
      "outputs": [
        {
          "output_type": "execute_result",
          "data": {
            "text/plain": [
              "array([[ 5,  6],\n",
              "       [ 9, 10]])"
            ]
          },
          "metadata": {
            "tags": []
          },
          "execution_count": 9
        }
      ]
    },
    {
      "cell_type": "code",
      "metadata": {
        "colab": {
          "base_uri": "https://localhost:8080/"
        },
        "id": "0s3owEW12D7I",
        "outputId": "d88d83c9-588d-4b5b-801a-5e03b06c8e7e"
      },
      "source": [
        "a = []\n",
        "for i in range(4) :\n",
        "    t = []\n",
        "    for k in range(4):\n",
        "        t.append(i*4 + k)\n",
        "    a.append(t)\n",
        "\n",
        "a"
      ],
      "execution_count": null,
      "outputs": [
        {
          "output_type": "execute_result",
          "data": {
            "text/plain": [
              "[[0, 1, 2, 3], [4, 5, 6, 7], [8, 9, 10, 11], [12, 13, 14, 15]]"
            ]
          },
          "metadata": {
            "tags": []
          },
          "execution_count": 12
        }
      ]
    },
    {
      "cell_type": "code",
      "metadata": {
        "colab": {
          "base_uri": "https://localhost:8080/"
        },
        "id": "dXNoZ0al4q9g",
        "outputId": "3a0abfaa-4ae4-419e-dcbb-63427c06f859"
      },
      "source": [
        "[[i*4+k for k in range(4)] for i in range(4)]"
      ],
      "execution_count": null,
      "outputs": [
        {
          "output_type": "execute_result",
          "data": {
            "text/plain": [
              "[[0, 1, 2, 3], [4, 5, 6, 7], [8, 9, 10, 11], [12, 13, 14, 15]]"
            ]
          },
          "metadata": {
            "tags": []
          },
          "execution_count": 14
        }
      ]
    },
    {
      "cell_type": "code",
      "metadata": {
        "colab": {
          "base_uri": "https://localhost:8080/"
        },
        "id": "JE8q918m4RCM",
        "outputId": "f45112a0-df2e-4aa5-a2d6-370ebbd81a75"
      },
      "source": [
        "from pprint import pprint\n",
        "pprint(a, indent=4, width=30)"
      ],
      "execution_count": null,
      "outputs": [
        {
          "output_type": "stream",
          "text": [
            "[   [0, 1, 2, 3],\n",
            "    [4, 5, 6, 7],\n",
            "    [8, 9, 10, 11],\n",
            "    [12, 13, 14, 15]]\n"
          ],
          "name": "stdout"
        }
      ]
    },
    {
      "cell_type": "markdown",
      "metadata": {
        "id": "EVZjNSnB79B5"
      },
      "source": [
        "## 23.2 for 반복문 사용"
      ]
    },
    {
      "cell_type": "code",
      "metadata": {
        "colab": {
          "base_uri": "https://localhost:8080/"
        },
        "id": "WzlLW41h4e6P",
        "outputId": "0f3ea317-93d7-4802-b4a9-90023cf6e3a3"
      },
      "source": [
        "for row in a:\n",
        "    print(row)"
      ],
      "execution_count": null,
      "outputs": [
        {
          "output_type": "stream",
          "text": [
            "[0, 1, 2, 3]\n",
            "[4, 5, 6, 7]\n",
            "[8, 9, 10, 11]\n",
            "[12, 13, 14, 15]\n"
          ],
          "name": "stdout"
        }
      ]
    },
    {
      "cell_type": "code",
      "metadata": {
        "colab": {
          "base_uri": "https://localhost:8080/"
        },
        "id": "eHPqi8oE8C9K",
        "outputId": "e56d6352-0480-496e-dab1-28a07e8f283b"
      },
      "source": [
        "for row in a:\n",
        "    for element in row:\n",
        "        print(f'{element: 2d} ', end='')\n",
        "    print()"
      ],
      "execution_count": null,
      "outputs": [
        {
          "output_type": "stream",
          "text": [
            " 0  1  2  3 \n",
            " 4  5  6  7 \n",
            " 8  9  10  11 \n",
            " 12  13  14  15 \n"
          ],
          "name": "stdout"
        }
      ]
    },
    {
      "cell_type": "code",
      "metadata": {
        "colab": {
          "base_uri": "https://localhost:8080/"
        },
        "id": "4RejnEEw8XGD",
        "outputId": "45a038a2-f607-4c1b-9380-25a3fd9f99f3"
      },
      "source": [
        "for w,x,y,z in a:       #list unpacking\n",
        "    print(w,x,y,z)"
      ],
      "execution_count": null,
      "outputs": [
        {
          "output_type": "stream",
          "text": [
            "0 1 2 3\n",
            "4 5 6 7\n",
            "8 9 10 11\n",
            "12 13 14 15\n"
          ],
          "name": "stdout"
        }
      ]
    },
    {
      "cell_type": "markdown",
      "metadata": {
        "id": "kHH-NXid9IbY"
      },
      "source": [
        "## 23.3 반복문으로 리스트 만들기"
      ]
    },
    {
      "cell_type": "code",
      "metadata": {
        "id": "5NhWELZ48dmq",
        "colab": {
          "base_uri": "https://localhost:8080/"
        },
        "outputId": "2af0eb32-7846-4119-ae26-73eeb37b578b"
      },
      "source": [
        "a = [[0 for _ in range(2)] for _ in range(3)]\n",
        "a"
      ],
      "execution_count": 20,
      "outputs": [
        {
          "output_type": "execute_result",
          "data": {
            "text/plain": [
              "[[0, 0], [0, 0], [0, 0]]"
            ]
          },
          "metadata": {
            "tags": []
          },
          "execution_count": 20
        }
      ]
    },
    {
      "cell_type": "code",
      "metadata": {
        "colab": {
          "base_uri": "https://localhost:8080/"
        },
        "id": "dur7edHU-w7Y",
        "outputId": "2ab797d3-570a-4932-d2a8-d6935def0794"
      },
      "source": [
        "a = [[0]*2 for _ in range(3)]\n",
        "a"
      ],
      "execution_count": 21,
      "outputs": [
        {
          "output_type": "execute_result",
          "data": {
            "text/plain": [
              "[[0, 0], [0, 0], [0, 0]]"
            ]
          },
          "metadata": {
            "tags": []
          },
          "execution_count": 21
        }
      ]
    },
    {
      "cell_type": "code",
      "metadata": {
        "colab": {
          "base_uri": "https://localhost:8080/"
        },
        "id": "m3VjLhyk-31N",
        "outputId": "e1cec95e-c740-4995-db2f-32117ec9f215"
      },
      "source": [
        "number = [3,1,3,2,5]\n",
        "\n",
        "b = []\n",
        "for i in number :\n",
        "    line = []\n",
        "    for _ in range(i):\n",
        "        line.append(0)\n",
        "    b.append(line)\n",
        "\n",
        "b"
      ],
      "execution_count": 22,
      "outputs": [
        {
          "output_type": "execute_result",
          "data": {
            "text/plain": [
              "[[0, 0, 0], [0], [0, 0, 0], [0, 0], [0, 0, 0, 0, 0]]"
            ]
          },
          "metadata": {
            "tags": []
          },
          "execution_count": 22
        }
      ]
    },
    {
      "cell_type": "code",
      "metadata": {
        "colab": {
          "base_uri": "https://localhost:8080/"
        },
        "id": "-wNNACRR_CYq",
        "outputId": "a73d0a11-a5f3-4ab7-f361-37540cd50c91"
      },
      "source": [
        "[[0] * i for i in number]"
      ],
      "execution_count": 23,
      "outputs": [
        {
          "output_type": "execute_result",
          "data": {
            "text/plain": [
              "[[0, 0, 0], [0], [0, 0, 0], [0, 0], [0, 0, 0, 0, 0]]"
            ]
          },
          "metadata": {
            "tags": []
          },
          "execution_count": 23
        }
      ]
    },
    {
      "cell_type": "markdown",
      "metadata": {
        "id": "FcoKqTmP_GcZ"
      },
      "source": [
        "## 23.4 2차원 리스트의 할당과 복사"
      ]
    },
    {
      "cell_type": "code",
      "metadata": {
        "colab": {
          "base_uri": "https://localhost:8080/"
        },
        "id": "8H5v5Acj_FPR",
        "outputId": "7cf105e3-6315-42f8-90f3-b770345dbd02"
      },
      "source": [
        "a = [[10,20], [30,40]]\n",
        "b = a\n",
        "b[0][0] = 500\n",
        "a"
      ],
      "execution_count": 24,
      "outputs": [
        {
          "output_type": "execute_result",
          "data": {
            "text/plain": [
              "[[500, 20], [30, 40]]"
            ]
          },
          "metadata": {
            "tags": []
          },
          "execution_count": 24
        }
      ]
    },
    {
      "cell_type": "code",
      "metadata": {
        "colab": {
          "base_uri": "https://localhost:8080/"
        },
        "id": "XSPAUuLV_PkG",
        "outputId": "9c43b362-9465-492b-b703-93f5d3504408"
      },
      "source": [
        "a = [[10,20], [30,40]]\n",
        "import copy\n",
        "b = copy.deepcopy(a)\n",
        "b[0][0] = 500\n",
        "a"
      ],
      "execution_count": 25,
      "outputs": [
        {
          "output_type": "execute_result",
          "data": {
            "text/plain": [
              "[[10, 20], [30, 40]]"
            ]
          },
          "metadata": {
            "tags": []
          },
          "execution_count": 25
        }
      ]
    },
    {
      "cell_type": "code",
      "metadata": {
        "colab": {
          "base_uri": "https://localhost:8080/"
        },
        "id": "t6kg3Sk1APhZ",
        "outputId": "ed13b7f5-8159-4a44-b092-ce6210a5bd9c"
      },
      "source": [
        "b"
      ],
      "execution_count": 26,
      "outputs": [
        {
          "output_type": "execute_result",
          "data": {
            "text/plain": [
              "[[500, 20], [30, 40]]"
            ]
          },
          "metadata": {
            "tags": []
          },
          "execution_count": 26
        }
      ]
    },
    {
      "cell_type": "code",
      "metadata": {
        "id": "PGdPDta6ASCx"
      },
      "source": [
        ""
      ],
      "execution_count": null,
      "outputs": []
    }
  ]
}