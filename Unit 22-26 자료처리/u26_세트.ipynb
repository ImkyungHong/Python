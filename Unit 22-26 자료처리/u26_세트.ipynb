{
  "nbformat": 4,
  "nbformat_minor": 0,
  "metadata": {
    "colab": {
      "name": "u26_세트.ipynb",
      "provenance": [],
      "collapsed_sections": []
    },
    "kernelspec": {
      "name": "python3",
      "display_name": "Python 3"
    },
    "language_info": {
      "name": "python"
    }
  },
  "cells": [
    {
      "cell_type": "markdown",
      "metadata": {
        "id": "8_zk5gJn3xnO"
      },
      "source": [
        "# Unit 26. 세트(집합) 사용하기"
      ]
    },
    {
      "cell_type": "markdown",
      "metadata": {
        "id": "_h1jrcLE5fbH"
      },
      "source": [
        "## 26.1 생성"
      ]
    },
    {
      "cell_type": "code",
      "metadata": {
        "colab": {
          "base_uri": "https://localhost:8080/"
        },
        "id": "uKnF-DMO3uqY",
        "outputId": "1e2f3497-b17f-41b8-d7b8-1383a6db1441"
      },
      "source": [
        "fruits = {'apple', 'banana', 'cherry', 'orange', 'grape'}\n",
        "fruits"
      ],
      "execution_count": 1,
      "outputs": [
        {
          "output_type": "execute_result",
          "data": {
            "text/plain": [
              "{'apple', 'banana', 'cherry', 'grape', 'orange'}"
            ]
          },
          "metadata": {
            "tags": []
          },
          "execution_count": 1
        }
      ]
    },
    {
      "cell_type": "code",
      "metadata": {
        "colab": {
          "base_uri": "https://localhost:8080/"
        },
        "id": "Azbls9TW4JyW",
        "outputId": "9a3fd23b-3030-4828-9871-699cc7ce3130"
      },
      "source": [
        "type(fruits)"
      ],
      "execution_count": 2,
      "outputs": [
        {
          "output_type": "execute_result",
          "data": {
            "text/plain": [
              "set"
            ]
          },
          "metadata": {
            "tags": []
          },
          "execution_count": 2
        }
      ]
    },
    {
      "cell_type": "code",
      "metadata": {
        "colab": {
          "base_uri": "https://localhost:8080/"
        },
        "id": "UTEI8hMB4MC_",
        "outputId": "d6a383e1-b0c2-44d8-b30b-04614b66a614"
      },
      "source": [
        "# 'apple'을 한 번 더 넣었을 때 (중복이 되어도 하나만 나옴)\n",
        "fruits = {'apple', 'banana', 'cherry', 'orange', 'grape', 'apple'}\n",
        "fruits"
      ],
      "execution_count": 3,
      "outputs": [
        {
          "output_type": "execute_result",
          "data": {
            "text/plain": [
              "{'apple', 'banana', 'cherry', 'grape', 'orange'}"
            ]
          },
          "metadata": {
            "tags": []
          },
          "execution_count": 3
        }
      ]
    },
    {
      "cell_type": "code",
      "metadata": {
        "colab": {
          "base_uri": "https://localhost:8080/"
        },
        "id": "2Wc3YduV4iIg",
        "outputId": "f451da71-bbc5-44d2-bc78-3aacedf0f939"
      },
      "source": [
        "'peach' in fruits "
      ],
      "execution_count": 4,
      "outputs": [
        {
          "output_type": "execute_result",
          "data": {
            "text/plain": [
              "False"
            ]
          },
          "metadata": {
            "tags": []
          },
          "execution_count": 4
        }
      ]
    },
    {
      "cell_type": "code",
      "metadata": {
        "colab": {
          "base_uri": "https://localhost:8080/"
        },
        "id": "UdSoR6J54vLl",
        "outputId": "64832324-86c2-4d76-fc3d-c3b99dd2f573"
      },
      "source": [
        "'orange' in fruits"
      ],
      "execution_count": 5,
      "outputs": [
        {
          "output_type": "execute_result",
          "data": {
            "text/plain": [
              "True"
            ]
          },
          "metadata": {
            "tags": []
          },
          "execution_count": 5
        }
      ]
    },
    {
      "cell_type": "code",
      "metadata": {
        "colab": {
          "base_uri": "https://localhost:8080/"
        },
        "id": "i2pWePOZ4zvZ",
        "outputId": "39a4816b-f03a-4ccb-bec2-a1e61631d959"
      },
      "source": [
        "a = set('apple')\n",
        "a"
      ],
      "execution_count": 6,
      "outputs": [
        {
          "output_type": "execute_result",
          "data": {
            "text/plain": [
              "{'a', 'e', 'l', 'p'}"
            ]
          },
          "metadata": {
            "tags": []
          },
          "execution_count": 6
        }
      ]
    },
    {
      "cell_type": "code",
      "metadata": {
        "colab": {
          "base_uri": "https://localhost:8080/"
        },
        "id": "oMn2xSB-5OsV",
        "outputId": "1753f36a-0687-480e-ae2e-fa4cb1ec1624"
      },
      "source": [
        "set('안녕하세요?')"
      ],
      "execution_count": 8,
      "outputs": [
        {
          "output_type": "execute_result",
          "data": {
            "text/plain": [
              "{'?', '녕', '세', '안', '요', '하'}"
            ]
          },
          "metadata": {
            "tags": []
          },
          "execution_count": 8
        }
      ]
    },
    {
      "cell_type": "markdown",
      "metadata": {
        "id": "alL-y4Kd5Wnh"
      },
      "source": [
        "## 26.2 집합 연산 사용하기"
      ]
    },
    {
      "cell_type": "code",
      "metadata": {
        "colab": {
          "base_uri": "https://localhost:8080/"
        },
        "id": "-2rL0xoN5QzA",
        "outputId": "5cd88271-7bad-4b03-bb9f-04e9a5e76f72"
      },
      "source": [
        "a = set(range(4))\n",
        "b = set(range(2,6))\n",
        "a,b"
      ],
      "execution_count": 9,
      "outputs": [
        {
          "output_type": "execute_result",
          "data": {
            "text/plain": [
              "({0, 1, 2, 3}, {2, 3, 4, 5})"
            ]
          },
          "metadata": {
            "tags": []
          },
          "execution_count": 9
        }
      ]
    },
    {
      "cell_type": "code",
      "metadata": {
        "colab": {
          "base_uri": "https://localhost:8080/"
        },
        "id": "LregcgiE5u2k",
        "outputId": "90a94f9a-5edb-4c85-ed66-31d467bf2179"
      },
      "source": [
        "# 합집합(Union)\n",
        "a | b"
      ],
      "execution_count": 10,
      "outputs": [
        {
          "output_type": "execute_result",
          "data": {
            "text/plain": [
              "{0, 1, 2, 3, 4, 5}"
            ]
          },
          "metadata": {
            "tags": []
          },
          "execution_count": 10
        }
      ]
    },
    {
      "cell_type": "code",
      "metadata": {
        "colab": {
          "base_uri": "https://localhost:8080/"
        },
        "id": "J821HJOH56Ox",
        "outputId": "222d9f5d-238a-4676-b025-3bd3d8f9cef1"
      },
      "source": [
        "set.union(a,b)"
      ],
      "execution_count": 11,
      "outputs": [
        {
          "output_type": "execute_result",
          "data": {
            "text/plain": [
              "{0, 1, 2, 3, 4, 5}"
            ]
          },
          "metadata": {
            "tags": []
          },
          "execution_count": 11
        }
      ]
    },
    {
      "cell_type": "code",
      "metadata": {
        "colab": {
          "base_uri": "https://localhost:8080/"
        },
        "id": "aD1njAXp6C_I",
        "outputId": "f91e76ff-9d88-4193-dbeb-2ec99803a0da"
      },
      "source": [
        "# 교집합(intersection)\n",
        "a & b"
      ],
      "execution_count": 12,
      "outputs": [
        {
          "output_type": "execute_result",
          "data": {
            "text/plain": [
              "{2, 3}"
            ]
          },
          "metadata": {
            "tags": []
          },
          "execution_count": 12
        }
      ]
    },
    {
      "cell_type": "code",
      "metadata": {
        "colab": {
          "base_uri": "https://localhost:8080/"
        },
        "id": "fYQcZ-vZ6mrn",
        "outputId": "6773759c-98df-4df8-9310-17203e762776"
      },
      "source": [
        "set.intersection(a,b)"
      ],
      "execution_count": 13,
      "outputs": [
        {
          "output_type": "execute_result",
          "data": {
            "text/plain": [
              "{2, 3}"
            ]
          },
          "metadata": {
            "tags": []
          },
          "execution_count": 13
        }
      ]
    },
    {
      "cell_type": "code",
      "metadata": {
        "colab": {
          "base_uri": "https://localhost:8080/"
        },
        "id": "ZkKxvGI16omR",
        "outputId": "d1e5c09f-668a-4f03-e55d-db841994e5ed"
      },
      "source": [
        "# 차집합\n",
        "a - b"
      ],
      "execution_count": 14,
      "outputs": [
        {
          "output_type": "execute_result",
          "data": {
            "text/plain": [
              "{0, 1}"
            ]
          },
          "metadata": {
            "tags": []
          },
          "execution_count": 14
        }
      ]
    },
    {
      "cell_type": "code",
      "metadata": {
        "colab": {
          "base_uri": "https://localhost:8080/"
        },
        "id": "NYb_Unbw6rRu",
        "outputId": "984902d5-9428-4e50-c322-fadddfb058a2"
      },
      "source": [
        "set.difference(a,b)"
      ],
      "execution_count": 15,
      "outputs": [
        {
          "output_type": "execute_result",
          "data": {
            "text/plain": [
              "{0, 1}"
            ]
          },
          "metadata": {
            "tags": []
          },
          "execution_count": 15
        }
      ]
    },
    {
      "cell_type": "code",
      "metadata": {
        "colab": {
          "base_uri": "https://localhost:8080/"
        },
        "id": "HNfAZYk66s6C",
        "outputId": "838e1849-6402-4633-a861-6c416d5af8a3"
      },
      "source": [
        "# 대칭 차집합(symmetric difference) : 겹치지 않는 요소만 포함\n",
        "a ^ b"
      ],
      "execution_count": 18,
      "outputs": [
        {
          "output_type": "execute_result",
          "data": {
            "text/plain": [
              "{0, 1, 4, 5}"
            ]
          },
          "metadata": {
            "tags": []
          },
          "execution_count": 18
        }
      ]
    },
    {
      "cell_type": "code",
      "metadata": {
        "colab": {
          "base_uri": "https://localhost:8080/"
        },
        "id": "WdLBfYcJ6zVm",
        "outputId": "b94e551b-9374-4f6a-c18f-6ba1b5449545"
      },
      "source": [
        "set.symmetric_difference(a,b)"
      ],
      "execution_count": 17,
      "outputs": [
        {
          "output_type": "execute_result",
          "data": {
            "text/plain": [
              "{0, 1, 4, 5}"
            ]
          },
          "metadata": {
            "tags": []
          },
          "execution_count": 17
        }
      ]
    },
    {
      "cell_type": "markdown",
      "metadata": {
        "id": "toVg0JK17VCt"
      },
      "source": [
        "### 부분집합, 상위집합"
      ]
    },
    {
      "cell_type": "code",
      "metadata": {
        "colab": {
          "base_uri": "https://localhost:8080/"
        },
        "id": "x7O5Sd8U63Py",
        "outputId": "ed546d38-bfa5-459a-84ce-ec109817f85d"
      },
      "source": [
        "a <= {0,1,2,3}"
      ],
      "execution_count": 19,
      "outputs": [
        {
          "output_type": "execute_result",
          "data": {
            "text/plain": [
              "True"
            ]
          },
          "metadata": {
            "tags": []
          },
          "execution_count": 19
        }
      ]
    },
    {
      "cell_type": "code",
      "metadata": {
        "colab": {
          "base_uri": "https://localhost:8080/"
        },
        "id": "HO25UUAI7kuj",
        "outputId": "dbeb774f-2582-47ea-c452-ea46c2478ca6"
      },
      "source": [
        "a.issubset({0,1,2,3,4})"
      ],
      "execution_count": 20,
      "outputs": [
        {
          "output_type": "execute_result",
          "data": {
            "text/plain": [
              "True"
            ]
          },
          "metadata": {
            "tags": []
          },
          "execution_count": 20
        }
      ]
    },
    {
      "cell_type": "code",
      "metadata": {
        "colab": {
          "base_uri": "https://localhost:8080/"
        },
        "id": "gflkssDH7oMu",
        "outputId": "3f0cfb09-981b-4978-da9e-ea618fa1f10a"
      },
      "source": [
        "a.issuperset({1,2,3})"
      ],
      "execution_count": 21,
      "outputs": [
        {
          "output_type": "execute_result",
          "data": {
            "text/plain": [
              "True"
            ]
          },
          "metadata": {
            "tags": []
          },
          "execution_count": 21
        }
      ]
    },
    {
      "cell_type": "markdown",
      "metadata": {
        "id": "mAwHnwYv8K0h"
      },
      "source": [
        "### 값 비교"
      ]
    },
    {
      "cell_type": "code",
      "metadata": {
        "colab": {
          "base_uri": "https://localhost:8080/"
        },
        "id": "bZW8-Hd571Jj",
        "outputId": "e043fbb4-7387-48d0-c350-1f912fb66d8e"
      },
      "source": [
        "a == {3,1,0,2}"
      ],
      "execution_count": 22,
      "outputs": [
        {
          "output_type": "execute_result",
          "data": {
            "text/plain": [
              "True"
            ]
          },
          "metadata": {
            "tags": []
          },
          "execution_count": 22
        }
      ]
    },
    {
      "cell_type": "code",
      "metadata": {
        "colab": {
          "base_uri": "https://localhost:8080/"
        },
        "id": "FRbjLOUA8O85",
        "outputId": "33281437-ed2e-4f7a-8d8d-4101524a74ef"
      },
      "source": [
        "a.isdisjoint(b)     #b하고 겹치는게 없는지? -> Ture(없음), False(겹치는게 있음)"
      ],
      "execution_count": 25,
      "outputs": [
        {
          "output_type": "execute_result",
          "data": {
            "text/plain": [
              "False"
            ]
          },
          "metadata": {
            "tags": []
          },
          "execution_count": 25
        }
      ]
    },
    {
      "cell_type": "code",
      "metadata": {
        "colab": {
          "base_uri": "https://localhost:8080/"
        },
        "id": "Kz4_EwvL8Spk",
        "outputId": "22165859-2418-40c0-9feb-dafb1d081e70"
      },
      "source": [
        "a.isdisjoint({4,5,6,7})"
      ],
      "execution_count": 26,
      "outputs": [
        {
          "output_type": "execute_result",
          "data": {
            "text/plain": [
              "True"
            ]
          },
          "metadata": {
            "tags": []
          },
          "execution_count": 26
        }
      ]
    },
    {
      "cell_type": "markdown",
      "metadata": {
        "id": "F4R17jQB84NZ"
      },
      "source": [
        "## 26.3 세트 조작"
      ]
    },
    {
      "cell_type": "code",
      "metadata": {
        "colab": {
          "base_uri": "https://localhost:8080/"
        },
        "id": "32px8XTz8fx_",
        "outputId": "fee4ae37-bd2e-41a0-c2b5-f25c0b9769a5"
      },
      "source": [
        "a.add(4)\n",
        "a"
      ],
      "execution_count": 27,
      "outputs": [
        {
          "output_type": "execute_result",
          "data": {
            "text/plain": [
              "{0, 1, 2, 3, 4}"
            ]
          },
          "metadata": {
            "tags": []
          },
          "execution_count": 27
        }
      ]
    },
    {
      "cell_type": "code",
      "metadata": {
        "colab": {
          "base_uri": "https://localhost:8080/"
        },
        "id": "jQIn1ucx89ah",
        "outputId": "0b7e7f95-d0a1-4f22-b0f4-5a4eecba49c0"
      },
      "source": [
        "a.remove(4)\n",
        "a"
      ],
      "execution_count": 28,
      "outputs": [
        {
          "output_type": "execute_result",
          "data": {
            "text/plain": [
              "{0, 1, 2, 3}"
            ]
          },
          "metadata": {
            "tags": []
          },
          "execution_count": 28
        }
      ]
    },
    {
      "cell_type": "code",
      "metadata": {
        "colab": {
          "base_uri": "https://localhost:8080/"
        },
        "id": "K5PVmgWs8_gg",
        "outputId": "1831b24f-7f2d-456d-81b6-1c60af1bbf8a"
      },
      "source": [
        "#임의의 원소 삭제하기\n",
        "a.pop()"
      ],
      "execution_count": 29,
      "outputs": [
        {
          "output_type": "execute_result",
          "data": {
            "text/plain": [
              "0"
            ]
          },
          "metadata": {
            "tags": []
          },
          "execution_count": 29
        }
      ]
    },
    {
      "cell_type": "code",
      "metadata": {
        "colab": {
          "base_uri": "https://localhost:8080/"
        },
        "id": "2tkNs1fU9Noq",
        "outputId": "3966ed1e-352b-45a8-80b2-5bfadfaee647"
      },
      "source": [
        "a"
      ],
      "execution_count": 30,
      "outputs": [
        {
          "output_type": "execute_result",
          "data": {
            "text/plain": [
              "{1, 2, 3}"
            ]
          },
          "metadata": {
            "tags": []
          },
          "execution_count": 30
        }
      ]
    },
    {
      "cell_type": "code",
      "metadata": {
        "colab": {
          "base_uri": "https://localhost:8080/"
        },
        "id": "bt6om0qh9OO0",
        "outputId": "9f8b6c3a-ea18-4f77-b2dc-d172dbc789e7"
      },
      "source": [
        "len(a)"
      ],
      "execution_count": 31,
      "outputs": [
        {
          "output_type": "execute_result",
          "data": {
            "text/plain": [
              "3"
            ]
          },
          "metadata": {
            "tags": []
          },
          "execution_count": 31
        }
      ]
    },
    {
      "cell_type": "markdown",
      "metadata": {
        "id": "CbmZ-lNs9VUE"
      },
      "source": [
        "## 26.5 반복문으로 세트의 요소 모두 출력"
      ]
    },
    {
      "cell_type": "code",
      "metadata": {
        "id": "4-3mbVFf9O_w"
      },
      "source": [
        ""
      ],
      "execution_count": null,
      "outputs": []
    }
  ]
}