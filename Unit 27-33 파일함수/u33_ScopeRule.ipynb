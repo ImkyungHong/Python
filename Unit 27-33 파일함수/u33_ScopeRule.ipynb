{
  "nbformat": 4,
  "nbformat_minor": 0,
  "metadata": {
    "colab": {
      "name": "u33_ScopeRule.ipynb",
      "provenance": []
    },
    "kernelspec": {
      "name": "python3",
      "display_name": "Python 3"
    },
    "language_info": {
      "name": "python"
    }
  },
  "cells": [
    {
      "cell_type": "markdown",
      "metadata": {
        "id": "fpFi4iEgrk9w"
      },
      "source": [
        "# Unit 33. 변수의 사용범위(Scope Rule)\n",
        "- global은 local에서도 사용 가능하지만 \n",
        "- local은 local 안에서만 사용 가능 (함수 밖 불가)\n",
        "- 웬만하면 local에서 함수의 인자로 정해주는 것이 좋음! (local로 사용하는거)"
      ]
    },
    {
      "cell_type": "code",
      "metadata": {
        "colab": {
          "base_uri": "https://localhost:8080/"
        },
        "id": "ujrRaqo4rcQg",
        "outputId": "3fa2bd2f-5644-4e40-9b08-9d1e203440c8"
      },
      "source": [
        "x = 10              # 전역(global) 변수: 함수 밖에서 사용된 변수: 스크립트 전체 접근 가능\n",
        "def foo():\n",
        "    print(x)\n",
        "\n",
        "foo()\n",
        "print(x)"
      ],
      "execution_count": 2,
      "outputs": [
        {
          "output_type": "stream",
          "text": [
            "10\n",
            "10\n"
          ],
          "name": "stdout"
        }
      ]
    },
    {
      "cell_type": "code",
      "metadata": {
        "colab": {
          "base_uri": "https://localhost:8080/"
        },
        "id": "yjFBVCGWr1sv",
        "outputId": "ede0214a-bac2-4d7d-d844-77da27e1b34b"
      },
      "source": [
        "def foo():\n",
        "    y = 10          # 지역(local)변수: 함수 안에서 사용된 변수: 변수를 만든 함수 안에서만 가능\n",
        "    print(y)\n",
        "\n",
        "foo()"
      ],
      "execution_count": 4,
      "outputs": [
        {
          "output_type": "stream",
          "text": [
            "10\n"
          ],
          "name": "stdout"
        }
      ]
    },
    {
      "cell_type": "code",
      "metadata": {
        "colab": {
          "base_uri": "https://localhost:8080/",
          "height": 184
        },
        "id": "kYgsYv_VsJuF",
        "outputId": "b27a7000-3442-4b41-d78d-4877a26e0e17"
      },
      "source": [
        "# 함수 안에서 선언한 변수를 밖에서 출력하려면 def이 안됨\n",
        "print(y) "
      ],
      "execution_count": 5,
      "outputs": [
        {
          "output_type": "error",
          "ename": "NameError",
          "evalue": "ignored",
          "traceback": [
            "\u001b[0;31m---------------------------------------------------------------------------\u001b[0m",
            "\u001b[0;31mNameError\u001b[0m                                 Traceback (most recent call last)",
            "\u001b[0;32m<ipython-input-5-ad57f608f2f3>\u001b[0m in \u001b[0;36m<module>\u001b[0;34m()\u001b[0m\n\u001b[1;32m      1\u001b[0m \u001b[0;31m# 함수 안에서 선언한 변수를 밖에서 출력하려면 def이 안됨\u001b[0m\u001b[0;34m\u001b[0m\u001b[0;34m\u001b[0m\u001b[0;34m\u001b[0m\u001b[0m\n\u001b[0;32m----> 2\u001b[0;31m \u001b[0mprint\u001b[0m\u001b[0;34m(\u001b[0m\u001b[0my\u001b[0m\u001b[0;34m)\u001b[0m\u001b[0;34m\u001b[0m\u001b[0;34m\u001b[0m\u001b[0m\n\u001b[0m",
            "\u001b[0;31mNameError\u001b[0m: name 'y' is not defined"
          ]
        }
      ]
    },
    {
      "cell_type": "markdown",
      "metadata": {
        "id": "vlKewZQjtsJG"
      },
      "source": [
        "## 함수 안에서 전역 변수 변경하기"
      ]
    },
    {
      "cell_type": "code",
      "metadata": {
        "colab": {
          "base_uri": "https://localhost:8080/"
        },
        "id": "QdVxbY2msZvJ",
        "outputId": "b0c3d667-6845-4516-808f-83368d0ad73e"
      },
      "source": [
        "x = 10                      #전역(global)변수\n",
        "def foo():\n",
        "    x = 20                  #지역(local)변수\n",
        "    print(x)\n",
        "\n",
        "foo()\n",
        "print(x)"
      ],
      "execution_count": 6,
      "outputs": [
        {
          "output_type": "stream",
          "text": [
            "20\n",
            "10\n"
          ],
          "name": "stdout"
        }
      ]
    },
    {
      "cell_type": "code",
      "metadata": {
        "colab": {
          "base_uri": "https://localhost:8080/"
        },
        "id": "K98XK2Xat9Gu",
        "outputId": "e0fbf2c8-bc5e-4fd3-d61c-1ee7cb2ef866"
      },
      "source": [
        "# 로컬에서 전역 변수를 변경하려면 \n",
        "x = 10                     \n",
        "def foo():\n",
        "    global x            #x를 전역변수로 만듦\n",
        "    x = 20              #글로벌 변수               \n",
        "    print(x)\n",
        "\n",
        "foo()\n",
        "print(x)"
      ],
      "execution_count": 8,
      "outputs": [
        {
          "output_type": "stream",
          "text": [
            "20\n",
            "20\n"
          ],
          "name": "stdout"
        }
      ]
    },
    {
      "cell_type": "code",
      "metadata": {
        "colab": {
          "base_uri": "https://localhost:8080/"
        },
        "id": "xiBhGfYLuh1v",
        "outputId": "2b3deb21-b50b-4950-910a-d9e84c17417e"
      },
      "source": [
        "# 밖에 z라는 변수가 없을 때 : z라는 변수를 할당해주는 것 \n",
        "def foo():\n",
        "    global z\n",
        "    z = 10\n",
        "    print(z)\n",
        "\n",
        "foo()\n",
        "print(z)"
      ],
      "execution_count": 10,
      "outputs": [
        {
          "output_type": "stream",
          "text": [
            "10\n",
            "10\n"
          ],
          "name": "stdout"
        }
      ]
    },
    {
      "cell_type": "code",
      "metadata": {
        "id": "y9waE65RvFEz"
      },
      "source": [
        ""
      ],
      "execution_count": null,
      "outputs": []
    }
  ]
}