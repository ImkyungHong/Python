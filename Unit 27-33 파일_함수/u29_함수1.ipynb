{
  "nbformat": 4,
  "nbformat_minor": 0,
  "metadata": {
    "colab": {
      "name": "u29_함수.ipynb",
      "provenance": []
    },
    "kernelspec": {
      "name": "python3",
      "display_name": "Python 3"
    },
    "language_info": {
      "name": "python"
    }
  },
  "cells": [
    {
      "cell_type": "markdown",
      "metadata": {
        "id": "WvBPovbfM2cs"
      },
      "source": [
        "# Unit 29. 함수"
      ]
    },
    {
      "cell_type": "markdown",
      "metadata": {
        "id": "1jJS1cJEOmpP"
      },
      "source": [
        "## 29.1 출력 함수 만들기"
      ]
    },
    {
      "cell_type": "code",
      "metadata": {
        "id": "uhds6mkOMPIV"
      },
      "source": [
        "def hello():\n",
        "    print('Hello, world')"
      ],
      "execution_count": 1,
      "outputs": []
    },
    {
      "cell_type": "code",
      "metadata": {
        "colab": {
          "base_uri": "https://localhost:8080/"
        },
        "id": "1NtIvBJAO0t0",
        "outputId": "8d53b13e-23f6-4e1c-c723-7f71377a613f"
      },
      "source": [
        "hello()"
      ],
      "execution_count": 2,
      "outputs": [
        {
          "output_type": "stream",
          "text": [
            "Hello, world\n"
          ],
          "name": "stdout"
        }
      ]
    },
    {
      "cell_type": "code",
      "metadata": {
        "id": "FEsQIrX9O3QF"
      },
      "source": [
        "def hello():\n",
        "    pass"
      ],
      "execution_count": 3,
      "outputs": []
    },
    {
      "cell_type": "markdown",
      "metadata": {
        "id": "Dxnd3gaVPrrt"
      },
      "source": [
        "## 29.2 덧셈 함수 만들기"
      ]
    },
    {
      "cell_type": "code",
      "metadata": {
        "id": "kxhEKnkGPn7x"
      },
      "source": [
        "# 매개변수, parameter, arguement\n",
        "def add(a, b):\n",
        "    print(a+b)"
      ],
      "execution_count": 4,
      "outputs": []
    },
    {
      "cell_type": "code",
      "metadata": {
        "id": "ng_mMkw2Q2HN"
      },
      "source": [
        "# Docstrings\n",
        "def add(a,b):\n",
        "    \"\"\"    \n",
        "    이 함수는 a와 b를 더한 뒤 결과를 반환하는 함수입니다.\n",
        "    \"\"\"         # 파이썬 코딩 스타일에서는 독스트링에 \"\"\"\"를 권장\n",
        "    print(a+b)"
      ],
      "execution_count": 6,
      "outputs": []
    },
    {
      "cell_type": "code",
      "metadata": {
        "id": "i_2QdFQ4RJ8_"
      },
      "source": [
        "# 도움말 호출\n",
        "add?"
      ],
      "execution_count": 9,
      "outputs": []
    },
    {
      "cell_type": "markdown",
      "metadata": {
        "id": "OERLGjrdRUZY"
      },
      "source": [
        "## 29.3 결과값 반환"
      ]
    },
    {
      "cell_type": "code",
      "metadata": {
        "id": "2yshq1KaRLYo"
      },
      "source": [
        "def add(a,b):\n",
        "    return a+b"
      ],
      "execution_count": 10,
      "outputs": []
    },
    {
      "cell_type": "code",
      "metadata": {
        "colab": {
          "base_uri": "https://localhost:8080/"
        },
        "id": "G-19-ojARnDc",
        "outputId": "ce6a231c-fe5b-48e0-cd89-61aac8f0b621"
      },
      "source": [
        "add(4,5), add(10,20)"
      ],
      "execution_count": 11,
      "outputs": [
        {
          "output_type": "execute_result",
          "data": {
            "text/plain": [
              "(9, 30)"
            ]
          },
          "metadata": {
            "tags": []
          },
          "execution_count": 11
        }
      ]
    },
    {
      "cell_type": "code",
      "metadata": {
        "colab": {
          "base_uri": "https://localhost:8080/"
        },
        "id": "fhFmEBCrRtTI",
        "outputId": "341b882b-41d4-4825-e1a5-a8a6b9d28b0e"
      },
      "source": [
        "x = add(23,45)\n",
        "x"
      ],
      "execution_count": 12,
      "outputs": [
        {
          "output_type": "execute_result",
          "data": {
            "text/plain": [
              "68"
            ]
          },
          "metadata": {
            "tags": []
          },
          "execution_count": 12
        }
      ]
    },
    {
      "cell_type": "code",
      "metadata": {
        "id": "6F_CkvsXR3Zi"
      },
      "source": [
        "def is_ten(x):\n",
        "    return x==10"
      ],
      "execution_count": 13,
      "outputs": []
    },
    {
      "cell_type": "code",
      "metadata": {
        "colab": {
          "base_uri": "https://localhost:8080/"
        },
        "id": "ifFh_nVnSLuU",
        "outputId": "17429b70-fa9c-4c92-a1e6-ce663f24eb57"
      },
      "source": [
        "is_ten(101//10)"
      ],
      "execution_count": 14,
      "outputs": [
        {
          "output_type": "execute_result",
          "data": {
            "text/plain": [
              "True"
            ]
          },
          "metadata": {
            "tags": []
          },
          "execution_count": 14
        }
      ]
    },
    {
      "cell_type": "code",
      "metadata": {
        "id": "uZLilfgwSN2M"
      },
      "source": [
        "def not_ten(x):\n",
        "    if x==10:\n",
        "        return\n",
        "    else:\n",
        "        print('It is 10.')"
      ],
      "execution_count": 18,
      "outputs": []
    },
    {
      "cell_type": "code",
      "metadata": {
        "colab": {
          "base_uri": "https://localhost:8080/"
        },
        "id": "xvRipI8XSaHp",
        "outputId": "be4a7e8e-b9d5-45eb-b7db-c14dac5089c2"
      },
      "source": [
        "not_ten(5)"
      ],
      "execution_count": 19,
      "outputs": [
        {
          "output_type": "stream",
          "text": [
            "It is 10.\n"
          ],
          "name": "stdout"
        }
      ]
    },
    {
      "cell_type": "code",
      "metadata": {
        "id": "n9QEmHPHSfMF"
      },
      "source": [
        "not_ten(101//10)"
      ],
      "execution_count": 20,
      "outputs": []
    },
    {
      "cell_type": "markdown",
      "metadata": {
        "id": "Y0CEHcQmTaHW"
      },
      "source": [
        "## 29.4 여러개의 결과값 반환"
      ]
    },
    {
      "cell_type": "code",
      "metadata": {
        "id": "_DU8RG13SxVd"
      },
      "source": [
        "def add_sub(a,b):\n",
        "    return a+b, a-b"
      ],
      "execution_count": 21,
      "outputs": []
    },
    {
      "cell_type": "code",
      "metadata": {
        "id": "pyhs1g5CTjeA"
      },
      "source": [
        "x, y = add_sub(15,7)"
      ],
      "execution_count": 22,
      "outputs": []
    },
    {
      "cell_type": "code",
      "metadata": {
        "colab": {
          "base_uri": "https://localhost:8080/"
        },
        "id": "_pYN-rT2TnJa",
        "outputId": "359a342c-1ddb-4e55-d4a5-6d8e8a66b0e0"
      },
      "source": [
        "x, y"
      ],
      "execution_count": 24,
      "outputs": [
        {
          "output_type": "execute_result",
          "data": {
            "text/plain": [
              "(22, 8)"
            ]
          },
          "metadata": {
            "tags": []
          },
          "execution_count": 24
        }
      ]
    },
    {
      "cell_type": "markdown",
      "metadata": {
        "id": "4eHXMHSXUHSc"
      },
      "source": [
        "## 29.5 함수의 호출 과정"
      ]
    },
    {
      "cell_type": "code",
      "metadata": {
        "id": "KIt_PIaxTn5Z"
      },
      "source": [
        "# Stack을 이용한다"
      ],
      "execution_count": 25,
      "outputs": []
    },
    {
      "cell_type": "markdown",
      "metadata": {
        "id": "wUvCnwkcVV7Y"
      },
      "source": [
        "### 연습문제\n",
        "- 3자리수 정수 두개를 곱해서 나온 결과가 팔린드롬이 되도록 할 때, 가장 큰 숫자는?"
      ]
    },
    {
      "cell_type": "code",
      "metadata": {
        "id": "GfDG7qlob0Di"
      },
      "source": [
        "def is_palindrome(x):\n",
        "    s = str(x)\n",
        "    return s == s[::-1]"
      ],
      "execution_count": 29,
      "outputs": []
    },
    {
      "cell_type": "code",
      "metadata": {
        "colab": {
          "base_uri": "https://localhost:8080/"
        },
        "id": "1TEA1MildFkF",
        "outputId": "9ed75a1d-929d-4eab-f6ba-c3fcc44e29ae"
      },
      "source": [
        "is_palindrome(12345), is_palindrome(906609)"
      ],
      "execution_count": 30,
      "outputs": [
        {
          "output_type": "execute_result",
          "data": {
            "text/plain": [
              "(False, True)"
            ]
          },
          "metadata": {
            "tags": []
          },
          "execution_count": 30
        }
      ]
    },
    {
      "cell_type": "code",
      "metadata": {
        "colab": {
          "base_uri": "https://localhost:8080/"
        },
        "id": "1h2gOmvyVVOP",
        "outputId": "b6b54d94-73e3-49e0-ae2f-dbe24ef90353"
      },
      "source": [
        "max_pal, m, n = 0, 0, 0\n",
        "for i in range(100, 1000):\n",
        "    for k in range(i, 1000):\n",
        "        if is_palindrome(i*k):\n",
        "            if i*k > max_pal:\n",
        "                max_pal = i*k\n",
        "                m = i\n",
        "                n = k\n",
        "print(f'{m} x {n} = {max_pal}')"
      ],
      "execution_count": 32,
      "outputs": [
        {
          "output_type": "stream",
          "text": [
            "913 x 993 = 906609\n"
          ],
          "name": "stdout"
        }
      ]
    },
    {
      "cell_type": "code",
      "metadata": {
        "id": "kmHdrmhNeLTl"
      },
      "source": [
        ""
      ],
      "execution_count": null,
      "outputs": []
    }
  ]
}