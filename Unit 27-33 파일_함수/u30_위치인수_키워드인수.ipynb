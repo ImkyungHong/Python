{
  "nbformat": 4,
  "nbformat_minor": 0,
  "metadata": {
    "colab": {
      "name": "u30_위치인수_키워드인수.ipynb",
      "provenance": [],
      "collapsed_sections": []
    },
    "kernelspec": {
      "name": "python3",
      "display_name": "Python 3"
    },
    "language_info": {
      "name": "python"
    }
  },
  "cells": [
    {
      "cell_type": "markdown",
      "metadata": {
        "id": "0JWbuu-efrzs"
      },
      "source": [
        "# Unit 30. 위치 인수와 키워드 인수"
      ]
    },
    {
      "cell_type": "markdown",
      "metadata": {
        "id": "-_Jb50CjfvWe"
      },
      "source": [
        "## 30.1 위치 인수"
      ]
    },
    {
      "cell_type": "code",
      "metadata": {
        "colab": {
          "base_uri": "https://localhost:8080/"
        },
        "id": "7cP7UZrcfmDh",
        "outputId": "cbf7618e-3d78-4c96-d0e4-75f1c284e7b0"
      },
      "source": [
        "print(10,20,30)"
      ],
      "execution_count": 1,
      "outputs": [
        {
          "output_type": "stream",
          "text": [
            "10 20 30\n"
          ],
          "name": "stdout"
        }
      ]
    },
    {
      "cell_type": "code",
      "metadata": {
        "colab": {
          "base_uri": "https://localhost:8080/"
        },
        "id": "ttny9a3wf8Tt",
        "outputId": "d76cdb22-2b47-48b0-9a40-5fdc534d7eeb"
      },
      "source": [
        "print(10, 20, 30, sep=', ')"
      ],
      "execution_count": 3,
      "outputs": [
        {
          "output_type": "stream",
          "text": [
            "10, 20, 30\n"
          ],
          "name": "stdout"
        }
      ]
    },
    {
      "cell_type": "code",
      "metadata": {
        "colab": {
          "base_uri": "https://localhost:8080/"
        },
        "id": "M_dGPyIKgVkp",
        "outputId": "de84a509-bd03-4950-df84-be93cc97547b"
      },
      "source": [
        "print(tuple(range(10, 101, 10)))"
      ],
      "execution_count": 4,
      "outputs": [
        {
          "output_type": "stream",
          "text": [
            "(10, 20, 30, 40, 50, 60, 70, 80, 90, 100)\n"
          ],
          "name": "stdout"
        }
      ]
    },
    {
      "cell_type": "code",
      "metadata": {
        "colab": {
          "base_uri": "https://localhost:8080/"
        },
        "id": "NzCZZup5gdvI",
        "outputId": "d1258a73-3393-40d5-8e7a-695d53727f8b"
      },
      "source": [
        "print(10, 20, 30, 40, 50, 60, 70, 80, 90,100)"
      ],
      "execution_count": 5,
      "outputs": [
        {
          "output_type": "stream",
          "text": [
            "10 20 30 40 50 60 70 80 90 100\n"
          ],
          "name": "stdout"
        }
      ]
    },
    {
      "cell_type": "code",
      "metadata": {
        "id": "TlMxuVxLglXp"
      },
      "source": [
        "def print_numbers(a,b,c):\n",
        "    print(a)\n",
        "    print(b)\n",
        "    print(c)"
      ],
      "execution_count": 7,
      "outputs": []
    },
    {
      "cell_type": "code",
      "metadata": {
        "colab": {
          "base_uri": "https://localhost:8080/"
        },
        "id": "mvcxMk3Fg6vo",
        "outputId": "5ac5aefa-34be-4b22-ed39-1c8896f58956"
      },
      "source": [
        "print_numbers(10, 20, 30)"
      ],
      "execution_count": 8,
      "outputs": [
        {
          "output_type": "stream",
          "text": [
            "10\n",
            "20\n",
            "30\n"
          ],
          "name": "stdout"
        }
      ]
    },
    {
      "cell_type": "code",
      "metadata": {
        "colab": {
          "base_uri": "https://localhost:8080/"
        },
        "id": "F0d9RFD3g_Vy",
        "outputId": "707594db-45f0-4133-d9f5-ccf402a39248"
      },
      "source": [
        "# *x : 리스트 언패킹\n",
        "x = [10, 20, 30]\n",
        "print_numbers(*x)"
      ],
      "execution_count": 10,
      "outputs": [
        {
          "output_type": "stream",
          "text": [
            "10\n",
            "20\n",
            "30\n"
          ],
          "name": "stdout"
        }
      ]
    },
    {
      "cell_type": "code",
      "metadata": {
        "colab": {
          "base_uri": "https://localhost:8080/"
        },
        "id": "U0_U0l86id33",
        "outputId": "ada9ff55-cfed-4132-c638-5cc42cc1147f"
      },
      "source": [
        "# *y : 튜플 언패킹\n",
        "y = (10, 20, 30)\n",
        "print_numbers(*y)"
      ],
      "execution_count": 14,
      "outputs": [
        {
          "output_type": "stream",
          "text": [
            "10\n",
            "20\n",
            "30\n"
          ],
          "name": "stdout"
        }
      ]
    },
    {
      "cell_type": "code",
      "metadata": {
        "colab": {
          "base_uri": "https://localhost:8080/"
        },
        "id": "W1KeaVZOjBWQ",
        "outputId": "a9ad596d-098e-4784-c4a0-b560ad586064"
      },
      "source": [
        "# *x, *y : 리스트, 튜플 언패킹\n",
        "x = [10,20,30]\n",
        "y = (10,20,30)\n",
        "print_numbers(*x)\n",
        "print_numbers(*y)"
      ],
      "execution_count": 18,
      "outputs": [
        {
          "output_type": "stream",
          "text": [
            "10\n",
            "20\n",
            "30\n",
            "10\n",
            "20\n",
            "30\n"
          ],
          "name": "stdout"
        }
      ]
    },
    {
      "cell_type": "markdown",
      "metadata": {
        "id": "f2V2dw6tiKaB"
      },
      "source": [
        "### 가변 인수 함수"
      ]
    },
    {
      "cell_type": "code",
      "metadata": {
        "id": "k-E1JhmOhNfJ"
      },
      "source": [
        "def print_numbers(*args):\n",
        "    for arg in args:\n",
        "        print(arg)"
      ],
      "execution_count": 11,
      "outputs": []
    },
    {
      "cell_type": "code",
      "metadata": {
        "colab": {
          "base_uri": "https://localhost:8080/"
        },
        "id": "X1mRslDViQhl",
        "outputId": "c2ff9d47-b8bd-4284-ce0f-25bb3c2b59e7"
      },
      "source": [
        "print_numbers(10,20,30,40)"
      ],
      "execution_count": 12,
      "outputs": [
        {
          "output_type": "stream",
          "text": [
            "10\n",
            "20\n",
            "30\n",
            "40\n"
          ],
          "name": "stdout"
        }
      ]
    },
    {
      "cell_type": "code",
      "metadata": {
        "colab": {
          "base_uri": "https://localhost:8080/"
        },
        "id": "NSuW7SHsiS1q",
        "outputId": "63bd7b50-82e2-4cd4-d2fb-e601e4860c65"
      },
      "source": [
        "print_numbers(10)"
      ],
      "execution_count": 13,
      "outputs": [
        {
          "output_type": "stream",
          "text": [
            "10\n"
          ],
          "name": "stdout"
        }
      ]
    },
    {
      "cell_type": "markdown",
      "metadata": {
        "id": "SoSq3XrhiWMw"
      },
      "source": [
        "# 고정인수와 가변 인수"
      ]
    },
    {
      "cell_type": "code",
      "metadata": {
        "id": "AxPMyKCZiVRl"
      },
      "source": [
        "def print_numbers3(a, *args):\n",
        "    print(a)\n",
        "    print(args)"
      ],
      "execution_count": 15,
      "outputs": []
    },
    {
      "cell_type": "code",
      "metadata": {
        "colab": {
          "base_uri": "https://localhost:8080/"
        },
        "id": "uJfVCNipirHx",
        "outputId": "fd9bd999-03bc-45fe-8db7-297aa41b23c8"
      },
      "source": [
        "print_numbers3(1, 10, 20)"
      ],
      "execution_count": 16,
      "outputs": [
        {
          "output_type": "stream",
          "text": [
            "1\n",
            "(10, 20)\n"
          ],
          "name": "stdout"
        }
      ]
    },
    {
      "cell_type": "code",
      "metadata": {
        "colab": {
          "base_uri": "https://localhost:8080/"
        },
        "id": "k5TmEgg8iv5S",
        "outputId": "37557cc2-b1ee-4438-d79d-97287f51379a"
      },
      "source": [
        "print_numbers3(*x)"
      ],
      "execution_count": 17,
      "outputs": [
        {
          "output_type": "stream",
          "text": [
            "10\n",
            "(20, 30)\n"
          ],
          "name": "stdout"
        }
      ]
    },
    {
      "cell_type": "code",
      "metadata": {
        "id": "r-jSLv-ji_rG"
      },
      "source": [
        "# 가변(*args)이 고정(a)보다 먼저 나오면 에러 발생\n",
        "# 고정 위치 인수가 가변 위치 인수보다 먼저 나와야 함!!!\n",
        "def print_numbers4(*args, a):\n",
        "    print(args)\n",
        "    print(a)"
      ],
      "execution_count": 23,
      "outputs": []
    },
    {
      "cell_type": "code",
      "metadata": {
        "colab": {
          "base_uri": "https://localhost:8080/",
          "height": 167
        },
        "id": "y_kGMt72jXsx",
        "outputId": "78c679a3-eef6-4cb1-af4f-d2a4d842d6ae"
      },
      "source": [
        "print_numbers4(*x)"
      ],
      "execution_count": 24,
      "outputs": [
        {
          "output_type": "error",
          "ename": "TypeError",
          "evalue": "ignored",
          "traceback": [
            "\u001b[0;31m---------------------------------------------------------------------------\u001b[0m",
            "\u001b[0;31mTypeError\u001b[0m                                 Traceback (most recent call last)",
            "\u001b[0;32m<ipython-input-24-c9aba5af1127>\u001b[0m in \u001b[0;36m<module>\u001b[0;34m()\u001b[0m\n\u001b[0;32m----> 1\u001b[0;31m \u001b[0mprint_numbers4\u001b[0m\u001b[0;34m(\u001b[0m\u001b[0;34m*\u001b[0m\u001b[0mx\u001b[0m\u001b[0;34m)\u001b[0m\u001b[0;34m\u001b[0m\u001b[0;34m\u001b[0m\u001b[0m\n\u001b[0m",
            "\u001b[0;31mTypeError\u001b[0m: print_numbers4() missing 1 required keyword-only argument: 'a'"
          ]
        }
      ]
    },
    {
      "cell_type": "markdown",
      "metadata": {
        "id": "nHbhGrw3mZYx"
      },
      "source": [
        "## 30.2 키워드 인수"
      ]
    },
    {
      "cell_type": "code",
      "metadata": {
        "id": "4P21jaCmjbAg"
      },
      "source": [
        "def personal_info(name, age, addr):\n",
        "    print('이름:', name)\n",
        "    print('나이:', age)\n",
        "    print('주소:', addr)"
      ],
      "execution_count": 25,
      "outputs": []
    },
    {
      "cell_type": "code",
      "metadata": {
        "colab": {
          "base_uri": "https://localhost:8080/"
        },
        "id": "kPloETukmvuV",
        "outputId": "a7000c5d-cf1e-47e5-ae49-654f37dd08a7"
      },
      "source": [
        "personal_info('홍길동', 30, '서울 강남구 도곡동')"
      ],
      "execution_count": 26,
      "outputs": [
        {
          "output_type": "stream",
          "text": [
            "이름: 홍길동\n",
            "나이: 30\n",
            "주소: 서울 강남구 도곡동\n"
          ],
          "name": "stdout"
        }
      ]
    },
    {
      "cell_type": "code",
      "metadata": {
        "colab": {
          "base_uri": "https://localhost:8080/"
        },
        "id": "pjWwPmYtm5Cu",
        "outputId": "795f7341-c60f-47db-d875-120a02c1237c"
      },
      "source": [
        "# 위치와 관계없이 키워드가 같으니까 위의 결과랑 동일하게 나옴\n",
        "personal_info(age=30, addr='서울시 강남구', name='홍길')"
      ],
      "execution_count": 28,
      "outputs": [
        {
          "output_type": "stream",
          "text": [
            "이름: 홍길\n",
            "나이: 30\n",
            "주소: 서울시 강남구\n"
          ],
          "name": "stdout"
        }
      ]
    },
    {
      "cell_type": "markdown",
      "metadata": {
        "id": "EXT7laJtnbgR"
      },
      "source": [
        "## 30.3 키워드 인수와 딕셔너리 언패킹"
      ]
    },
    {
      "cell_type": "code",
      "metadata": {
        "id": "OP2ibt-WnFMt"
      },
      "source": [
        "x = {'name':'홍길동', 'age':30, 'addr': '서울시 강남구 도고동'}"
      ],
      "execution_count": 29,
      "outputs": []
    },
    {
      "cell_type": "code",
      "metadata": {
        "colab": {
          "base_uri": "https://localhost:8080/"
        },
        "id": "SiW2puQDn3sI",
        "outputId": "b0923d24-fdb0-49de-9a0f-fddd5a7fbe72"
      },
      "source": [
        "#딕셔너리 언패킹 : ** (key, value)\n",
        "personal_info(**x)"
      ],
      "execution_count": 33,
      "outputs": [
        {
          "output_type": "stream",
          "text": [
            "이름: 홍길동\n",
            "나이: 30\n",
            "주소: 서울시 강남구 도고동\n"
          ],
          "name": "stdout"
        }
      ]
    },
    {
      "cell_type": "code",
      "metadata": {
        "colab": {
          "base_uri": "https://localhost:8080/"
        },
        "id": "_1ETrr_Mn8SC",
        "outputId": "a667bfbf-dc3a-4e3c-de30-94720a716143"
      },
      "source": [
        "# *x는 x의 키를 불러냄\n",
        "personal_info(*x)"
      ],
      "execution_count": 35,
      "outputs": [
        {
          "output_type": "stream",
          "text": [
            "이름: name\n",
            "나이: age\n",
            "주소: addr\n"
          ],
          "name": "stdout"
        }
      ]
    },
    {
      "cell_type": "markdown",
      "metadata": {
        "id": "mckZNd6_ouaq"
      },
      "source": [
        "### 가변 키워드 인수"
      ]
    },
    {
      "cell_type": "code",
      "metadata": {
        "id": "TKuRZrmVoIqP"
      },
      "source": [
        "def personal_info2(**kwargs):\n",
        "    for key, value in kwargs.items():\n",
        "        print(f'{key}: {value}')"
      ],
      "execution_count": 36,
      "outputs": []
    },
    {
      "cell_type": "code",
      "metadata": {
        "colab": {
          "base_uri": "https://localhost:8080/"
        },
        "id": "uV4TcAymo6jj",
        "outputId": "23b85b0d-6286-4751-ca20-c4409f729cd0"
      },
      "source": [
        "personal_info2(**x)"
      ],
      "execution_count": 37,
      "outputs": [
        {
          "output_type": "stream",
          "text": [
            "name: 홍길동\n",
            "age: 30\n",
            "addr: 서울시 강남구 도고동\n"
          ],
          "name": "stdout"
        }
      ]
    },
    {
      "cell_type": "code",
      "metadata": {
        "colab": {
          "base_uri": "https://localhost:8080/"
        },
        "id": "lx83MWUqo-Xm",
        "outputId": "6f0e86ad-5105-4170-e2f5-794e42c21828"
      },
      "source": [
        "personal_info2(name='홍길도', age=30)"
      ],
      "execution_count": 38,
      "outputs": [
        {
          "output_type": "stream",
          "text": [
            "name: 홍길도\n",
            "age: 30\n"
          ],
          "name": "stdout"
        }
      ]
    },
    {
      "cell_type": "markdown",
      "metadata": {
        "id": "qIxtFPsupzHQ"
      },
      "source": [
        "### 고정 인수와 가변 키워드 인수"
      ]
    },
    {
      "cell_type": "code",
      "metadata": {
        "id": "C8SEk7dlpZHZ"
      },
      "source": [
        "def personal_info3(name, **kwargs):\n",
        "    print(name)\n",
        "    print(kwargs)"
      ],
      "execution_count": 41,
      "outputs": []
    },
    {
      "cell_type": "code",
      "metadata": {
        "colab": {
          "base_uri": "https://localhost:8080/"
        },
        "id": "rQctaCRUp6Xy",
        "outputId": "386eb5aa-b253-4f76-f0f1-7918ca787356"
      },
      "source": [
        "personal_info3(**x)"
      ],
      "execution_count": 42,
      "outputs": [
        {
          "output_type": "stream",
          "text": [
            "홍길동\n",
            "{'age': 30, 'addr': '서울시 강남구 도고동'}\n"
          ],
          "name": "stdout"
        }
      ]
    },
    {
      "cell_type": "markdown",
      "metadata": {
        "id": "sYqncZLiqnf4"
      },
      "source": [
        "### 위치 인수와 키워드 인수"
      ]
    },
    {
      "cell_type": "code",
      "metadata": {
        "id": "USOFQEzPp_TD"
      },
      "source": [
        "def my_print(*args, **kwargs):\n",
        "    print(*args, **kwargs)"
      ],
      "execution_count": 45,
      "outputs": []
    },
    {
      "cell_type": "code",
      "metadata": {
        "colab": {
          "base_uri": "https://localhost:8080/"
        },
        "id": "tnqG_3gzquUe",
        "outputId": "5ac02978-98c6-47d6-c6d9-cd88304b5392"
      },
      "source": [
        "my_print(10,20,30, sep=', ')"
      ],
      "execution_count": 46,
      "outputs": [
        {
          "output_type": "stream",
          "text": [
            "10, 20, 30\n"
          ],
          "name": "stdout"
        }
      ]
    },
    {
      "cell_type": "markdown",
      "metadata": {
        "id": "lRxTYA2BrXDM"
      },
      "source": [
        "## 30.4 매개변수에 초기값 지정"
      ]
    },
    {
      "cell_type": "code",
      "metadata": {
        "id": "CrugJk1Nqxk4"
      },
      "source": [
        "# 주소(addr)를 주지 않으면 초기값으로 '비공개' 나오도록\n",
        "def personal_info4(name, age, addr='비공개'):\n",
        "    print('이름:', name)\n",
        "    print('나이:', age)\n",
        "    print('주소:', addr) "
      ],
      "execution_count": 50,
      "outputs": []
    },
    {
      "cell_type": "code",
      "metadata": {
        "colab": {
          "base_uri": "https://localhost:8080/"
        },
        "id": "OeRjYQufrrtj",
        "outputId": "66059303-ad6e-4295-e100-95bbfbf795a6"
      },
      "source": [
        "personal_info4('홍길동', 30)"
      ],
      "execution_count": 51,
      "outputs": [
        {
          "output_type": "stream",
          "text": [
            "이름: 홍길동\n",
            "나이: 30\n",
            "주소: 비공개\n"
          ],
          "name": "stdout"
        }
      ]
    },
    {
      "cell_type": "code",
      "metadata": {
        "colab": {
          "base_uri": "https://localhost:8080/"
        },
        "id": "jR2SNv7MrxOl",
        "outputId": "c60af202-1e5f-492a-f046-819cd62d3583"
      },
      "source": [
        "personal_info4(**x)"
      ],
      "execution_count": 52,
      "outputs": [
        {
          "output_type": "stream",
          "text": [
            "이름: 홍길동\n",
            "나이: 30\n",
            "주소: 서울시 강남구 도고동\n"
          ],
          "name": "stdout"
        }
      ]
    },
    {
      "cell_type": "code",
      "metadata": {
        "id": "IveG2OmJr5PG"
      },
      "source": [
        ""
      ],
      "execution_count": null,
      "outputs": []
    }
  ]
}