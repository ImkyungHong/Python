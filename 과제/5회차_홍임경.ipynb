{
  "nbformat": 4,
  "nbformat_minor": 0,
  "metadata": {
    "colab": {
      "name": "5회차_홍임경.ipynb",
      "provenance": [],
      "collapsed_sections": []
    },
    "kernelspec": {
      "name": "python3",
      "display_name": "Python 3"
    },
    "language_info": {
      "name": "python"
    }
  },
  "cells": [
    {
      "cell_type": "markdown",
      "metadata": {
        "id": "vhkSjpqHwIAT"
      },
      "source": [
        "## 8.4 연습문제 : 합격여부 출력하기\n",
        "#### 국어, 영어, 수학, 과학 점수가 있을 때 한 과목이라도 50점 미만이면 불합격이라고 정했습니다. 다음 소스 코드를 완성하여 합격이면 True, 불합격이면 False가 출력되게 만드세요."
      ]
    },
    {
      "cell_type": "code",
      "metadata": {
        "colab": {
          "base_uri": "https://localhost:8080/"
        },
        "id": "dbiztBEwv501",
        "outputId": "15073999-45c6-44bd-f96a-37062f35eb6f"
      },
      "source": [
        "kor = 92\n",
        "eng = 47\n",
        "mat = 86\n",
        "sci = 81\n",
        "\n",
        "print(kor >= 50 and eng >= 50 and mat >= 50 and sci >= 50)"
      ],
      "execution_count": null,
      "outputs": [
        {
          "output_type": "stream",
          "text": [
            "False\n"
          ],
          "name": "stdout"
        }
      ]
    },
    {
      "cell_type": "markdown",
      "metadata": {
        "id": "uDfI73ebxioG"
      },
      "source": [
        "## 8.5 심사문제 : 합격여부 출력하기\n",
        "#### 표준 입력으로 국어, 영어, 수학, 과학 점수가 입력됩니다. 국어는 90점 이상, 영어는 80점 초과, 수학은 85점 초과, 과학은 80점 이상일 때 합격이라고 정했습니다(한 과목이라도 조건에 만족하지 않으면 불합격). 다음 소스 코드를 완성하여 합격이면 True, 불합격이면 False가 출력되게 만드세요(input에서 안내 문자열은 출력하지 않아야 합니다)."
      ]
    },
    {
      "cell_type": "code",
      "metadata": {
        "colab": {
          "base_uri": "https://localhost:8080/"
        },
        "id": "VH2Xd8d704oY",
        "outputId": "803a4efd-5a27-44b3-9e84-6874b0d68448"
      },
      "source": [
        "kor, eng, mat, sci = map(int, input('국어, 영어, 수학, 과학 점수> ').split())"
      ],
      "execution_count": 12,
      "outputs": [
        {
          "output_type": "stream",
          "text": [
            "국어, 영어, 수학, 과학 점수> 90 81 86 80\n"
          ],
          "name": "stdout"
        }
      ]
    },
    {
      "cell_type": "code",
      "metadata": {
        "colab": {
          "base_uri": "https://localhost:8080/"
        },
        "id": "SvnUwOodx_Hx",
        "outputId": "37573683-a0a7-4f85-a96e-75effb6b62e9"
      },
      "source": [
        "print(kor >= 90 and eng > 80 and mat > 85 and sci >= 80)"
      ],
      "execution_count": 13,
      "outputs": [
        {
          "output_type": "stream",
          "text": [
            "True\n"
          ],
          "name": "stdout"
        }
      ]
    },
    {
      "cell_type": "code",
      "metadata": {
        "id": "kl_eTET2yfKz",
        "colab": {
          "base_uri": "https://localhost:8080/"
        },
        "outputId": "d3e52608-1ee5-49ed-c95a-f15f02b8af88"
      },
      "source": [
        "kor, eng, mat, sci = map(int, input('국어, 영어, 수학, 과학 점수> ').split())"
      ],
      "execution_count": 15,
      "outputs": [
        {
          "output_type": "stream",
          "text": [
            "국어, 영어, 수학, 과학 점수> 90 80 85 80\n"
          ],
          "name": "stdout"
        }
      ]
    },
    {
      "cell_type": "code",
      "metadata": {
        "colab": {
          "base_uri": "https://localhost:8080/"
        },
        "id": "hjIjEHOI1J9q",
        "outputId": "afd3e6a8-8490-4964-9423-b3d198a2b1eb"
      },
      "source": [
        "print(kor >= 90 and eng > 80 and mat > 85 and sci >= 80)"
      ],
      "execution_count": 16,
      "outputs": [
        {
          "output_type": "stream",
          "text": [
            "False\n"
          ],
          "name": "stdout"
        }
      ]
    },
    {
      "cell_type": "code",
      "metadata": {
        "id": "Woxw6OA01MQu"
      },
      "source": [
        ""
      ],
      "execution_count": null,
      "outputs": []
    },
    {
      "cell_type": "markdown",
      "metadata": {
        "id": "ikcLwYAO1UUG"
      },
      "source": [
        "## 9.3 연습문제: 여러 줄로 된 문자열 사용하기\n",
        "#### 다음 소스 코드를 완성하여 실행 결과대로 문자열이 출력되게 만드세요.\n"
      ]
    },
    {
      "cell_type": "markdown",
      "metadata": {
        "id": "nIDgqsBo1i_A"
      },
      "source": [
        " **실행결과**  <br>\n",
        "Python is a programming language that lets you work quickly <br>\n",
        "and <br>\n",
        "integrate systems more effectively.<br>"
      ]
    },
    {
      "cell_type": "code",
      "metadata": {
        "colab": {
          "base_uri": "https://localhost:8080/"
        },
        "id": "klmgv5Bd1bDd",
        "outputId": "0a3b820b-01f9-4226-ce31-e7b3998f0d4e"
      },
      "source": [
        "s = '''Python is a programming language that lets you work quickly\n",
        "and\n",
        "integrate systems more effectively.'''\n",
        "print(s)"
      ],
      "execution_count": 20,
      "outputs": [
        {
          "output_type": "stream",
          "text": [
            "Python is a programming language that lets you work quickly\n",
            "and\n",
            "integrate systems more effectively.\n"
          ],
          "name": "stdout"
        }
      ]
    },
    {
      "cell_type": "markdown",
      "metadata": {
        "id": "M2TkCqqo2tiI"
      },
      "source": [
        "## 9.4 심사문제: 여러 줄로 된 문자열 사용하기\n",
        "#### 다음 소스 코드를 완성하여 실행 결과대로 문자열이 출력되게 만드세요."
      ]
    },
    {
      "cell_type": "markdown",
      "metadata": {
        "id": "cX3sFgbY2yAa"
      },
      "source": [
        " **실행결과**  <br>\n",
        "'Python' is a \"programming language\" <br>\n",
        "that lets you work quickly <br>\n",
        "and <br>\n",
        "integrate systems more effectively.<br>"
      ]
    },
    {
      "cell_type": "code",
      "metadata": {
        "colab": {
          "base_uri": "https://localhost:8080/"
        },
        "id": "x0BKeKvT2tT6",
        "outputId": "07099e38-b140-4659-d8db-36f796c7ec88"
      },
      "source": [
        "s =''''Python' is a \"programming language\"\n",
        "that lets you work quickly\n",
        "and\n",
        "integrate systmes more effectively. '''\n",
        "print(s)"
      ],
      "execution_count": 24,
      "outputs": [
        {
          "output_type": "stream",
          "text": [
            "'Python' is a \"programming language\"\n",
            "that lets you work quickly\n",
            "and\n",
            "integrate systmes more effectively. \n"
          ],
          "name": "stdout"
        }
      ]
    },
    {
      "cell_type": "markdown",
      "metadata": {
        "id": "bWSyUOAg4Rbt"
      },
      "source": [
        "## 10.4 연습문제: range로 리스트 만들기\n",
        "#### 다음 소스 코드를 완성하여 리스트 [5, 3, 1, -1, -3, -5, -7, -9]가 출력되게 만드세요. 리스트를 만들 때는 range를 사용해야 합니다."
      ]
    },
    {
      "cell_type": "code",
      "metadata": {
        "colab": {
          "base_uri": "https://localhost:8080/"
        },
        "id": "x9xKudew3bLx",
        "outputId": "aeccdfca-1c12-4dfe-b4ef-2b723a896a27"
      },
      "source": [
        "a = list(range(5, -10, -2))\n",
        "a"
      ],
      "execution_count": 25,
      "outputs": [
        {
          "output_type": "execute_result",
          "data": {
            "text/plain": [
              "[5, 3, 1, -1, -3, -5, -7, -9]"
            ]
          },
          "metadata": {
            "tags": []
          },
          "execution_count": 25
        }
      ]
    },
    {
      "cell_type": "markdown",
      "metadata": {
        "id": "8KVIu57i40LV"
      },
      "source": [
        "## 10.5 심사문제: range로 튜플 만들기\n",
        "#### 표준 입력으로 정수가 입력됩니다. range의 시작하는 숫자는 -10, 끝나는 숫자는 10이며 입력된 정수만큼 증가하는 숫자가 들어가도록 튜플을 만들고, 해당 튜플을 출력하는 프로그램을 만드세요(input에서 안내 문자열은 출력하지 않아야 합니다)."
      ]
    },
    {
      "cell_type": "code",
      "metadata": {
        "colab": {
          "base_uri": "https://localhost:8080/"
        },
        "id": "eCArB4Xh4lP3",
        "outputId": "47c46cf1-b57f-4e56-c9be-4ee4a549be18"
      },
      "source": [
        "# 2 입력시\n",
        "a = tuple(range(-10, 11, int(input())))\n",
        "a"
      ],
      "execution_count": 114,
      "outputs": [
        {
          "output_type": "stream",
          "text": [
            "2\n"
          ],
          "name": "stdout"
        },
        {
          "output_type": "execute_result",
          "data": {
            "text/plain": [
              "(-10, -8, -6, -4, -2, 0, 2, 4, 6, 8, 10)"
            ]
          },
          "metadata": {
            "tags": []
          },
          "execution_count": 114
        }
      ]
    },
    {
      "cell_type": "code",
      "metadata": {
        "colab": {
          "base_uri": "https://localhost:8080/"
        },
        "id": "3b--P9nC5XCX",
        "outputId": "2a117bc6-fc5a-4556-eca0-8d313ff34b55"
      },
      "source": [
        "# 3 입력시\n",
        "a = tuple(range(-10, 11, int(input())))\n",
        "a"
      ],
      "execution_count": 115,
      "outputs": [
        {
          "output_type": "stream",
          "text": [
            "3\n"
          ],
          "name": "stdout"
        },
        {
          "output_type": "execute_result",
          "data": {
            "text/plain": [
              "(-10, -7, -4, -1, 2, 5, 8)"
            ]
          },
          "metadata": {
            "tags": []
          },
          "execution_count": 115
        }
      ]
    },
    {
      "cell_type": "markdown",
      "metadata": {
        "id": "gIiyoVp69UDW"
      },
      "source": [
        "## 11.6 연습문제: 최근 3년간 인구 출력하기\n",
        "#### 리스트 year에 연도, population에 서울시 인구수가 저장되어 있습니다. <br> 다음 소스 코드를 완성하여 최근 3년간 연도와 인구수가 리스트로 출력되게 만드세요."
      ]
    },
    {
      "cell_type": "code",
      "metadata": {
        "id": "mCXIBxJN9TtQ"
      },
      "source": [
        "year = [2011, 2012, 2013, 2014, 2015, 2016, 2017, 2018]\n",
        "population = [10249679, 10195318, 10143645, 10103233, 10022181, 9930616, 9857426, 9838892]"
      ],
      "execution_count": 54,
      "outputs": []
    },
    {
      "cell_type": "code",
      "metadata": {
        "colab": {
          "base_uri": "https://localhost:8080/"
        },
        "id": "9VTPBlon838j",
        "outputId": "7447ed6d-52c8-41c2-b2d0-99be15837164"
      },
      "source": [
        "print(year[-3:])\n",
        "print(population[-3:])"
      ],
      "execution_count": 55,
      "outputs": [
        {
          "output_type": "stream",
          "text": [
            "[2016, 2017, 2018]\n",
            "[9930616, 9857426, 9838892]\n"
          ],
          "name": "stdout"
        }
      ]
    },
    {
      "cell_type": "markdown",
      "metadata": {
        "id": "mQZ5nNaZ-ddz"
      },
      "source": [
        "## 11.7 연습문제: 인덱스가 홀수인 요소 출력하기\n",
        "#### 다음 소스 코드를 완성하여 튜플 n에서 인덱스가 홀수인 요소들이 출력되게 만드세요."
      ]
    },
    {
      "cell_type": "code",
      "metadata": {
        "id": "nVd5Ra_T-YS7"
      },
      "source": [
        "n = -32, 75, 97, -10, 9, 32, 4, -15, 0, 76, 14, 2"
      ],
      "execution_count": 56,
      "outputs": []
    },
    {
      "cell_type": "code",
      "metadata": {
        "colab": {
          "base_uri": "https://localhost:8080/"
        },
        "id": "0xAZJbXp-jnv",
        "outputId": "6cf1e715-14fd-4a5f-f6f4-b44982d305ee"
      },
      "source": [
        "n[1::2]"
      ],
      "execution_count": 60,
      "outputs": [
        {
          "output_type": "execute_result",
          "data": {
            "text/plain": [
              "(75, -10, 32, -15, 76, 2)"
            ]
          },
          "metadata": {
            "tags": []
          },
          "execution_count": 60
        }
      ]
    },
    {
      "cell_type": "markdown",
      "metadata": {
        "id": "ejajsoIgAu0P"
      },
      "source": [
        "## 11.8 심사문제: 리스트의 마지막 부분 삭제하기\n",
        "#### 표준 입력으로 숫자 또는 문자열 여러 개가 입력되어 리스트 x에 저장됩니다<br> (입력되는 숫자 또는 문자열의 개수는 정해져 있지 않음).<br> 다음 소스 코드를 완성하여 리스트 x의 마지막 요소 5개를 삭제한 뒤 튜플로 출력되게 만드세요."
      ]
    },
    {
      "cell_type": "code",
      "metadata": {
        "colab": {
          "base_uri": "https://localhost:8080/"
        },
        "id": "Np942fiA_Lq9",
        "outputId": "2ae9579d-31f7-431e-f6c9-105bc4701a6e"
      },
      "source": [
        "# 1 2 3 4 5 6 7 8 9 10 입력\n",
        "x = input().split()"
      ],
      "execution_count": 62,
      "outputs": [
        {
          "output_type": "stream",
          "text": [
            "1 2 3 4 5 6 7 8 9 10\n"
          ],
          "name": "stdout"
        }
      ]
    },
    {
      "cell_type": "code",
      "metadata": {
        "colab": {
          "base_uri": "https://localhost:8080/"
        },
        "id": "XWHYu4mxA6fj",
        "outputId": "361954d3-0151-4b83-bc51-a935e5b7e752"
      },
      "source": [
        "del x[5:11]\n",
        "tuple(x)"
      ],
      "execution_count": 68,
      "outputs": [
        {
          "output_type": "execute_result",
          "data": {
            "text/plain": [
              "('1', '2', '3', '4', '5')"
            ]
          },
          "metadata": {
            "tags": []
          },
          "execution_count": 68
        }
      ]
    },
    {
      "cell_type": "code",
      "metadata": {
        "colab": {
          "base_uri": "https://localhost:8080/"
        },
        "id": "ZvU9G0D-BUOt",
        "outputId": "c102ba72-9962-477b-f565-5a84673132a2"
      },
      "source": [
        "# 패스\n",
        "x = input().split()"
      ],
      "execution_count": 70,
      "outputs": [
        {
          "output_type": "stream",
          "text": [
            "oven bat pony total leak wreck curl crop space navy loss knee\n"
          ],
          "name": "stdout"
        }
      ]
    },
    {
      "cell_type": "code",
      "metadata": {
        "colab": {
          "base_uri": "https://localhost:8080/"
        },
        "id": "u1O7oaJvEGDE",
        "outputId": "b1ed18d6-fa9b-46e4-b331-ce3788d71167"
      },
      "source": [
        "del x[-1:-5]\n",
        "tuple(x)"
      ],
      "execution_count": 82,
      "outputs": [
        {
          "output_type": "execute_result",
          "data": {
            "text/plain": [
              "()"
            ]
          },
          "metadata": {
            "tags": []
          },
          "execution_count": 82
        }
      ]
    },
    {
      "cell_type": "markdown",
      "metadata": {
        "id": "S-ii6TeDFAun"
      },
      "source": [
        "## 11.9 심사문제: 문자열에서 인덱스가 홀수인 문자와 짝수인 문자 연결하기\n",
        "#### 표준 입력으로 문자열 두 개가 각 줄에 입력됩니다(문자열의 길이는 정해져 있지 않음). <br> 첫 번째 문자열에서 인덱스가 홀수인 문자와 두 번째 문자열에서 인덱스가 짝수인 문자를 연결하여 출력하는 프로그램을 만드세요<br>(input에서 안내 문자열은 출력하지 않아야 합니다). <br>연결 순서는 첫 번째 문자열, 두 번째 문자열 순입니다. <br>그리고 0은 짝수로 처리합니다."
      ]
    },
    {
      "cell_type": "code",
      "metadata": {
        "id": "p9EygfmQEjip"
      },
      "source": [
        "# 패스\n",
        "x = 'python '\n",
        "y = 'python'"
      ],
      "execution_count": 94,
      "outputs": []
    },
    {
      "cell_type": "code",
      "metadata": {
        "id": "NwJ3TvRfGqqx"
      },
      "source": [
        "# 패스\n",
        "a = 'apple'\n",
        "b = 'strawberry'"
      ],
      "execution_count": 95,
      "outputs": []
    },
    {
      "cell_type": "markdown",
      "metadata": {
        "id": "jvYV1iI9IuhI"
      },
      "source": [
        "## 12.4 연습문제: 딕셔너리에 게임 캐릭터 능력치 저장하기\n",
        "#### 다음 소스 코드를 완성하여 게임 캐릭터의 체력(health)과 이동 속도(movement speed)가 출력되게 만드세요."
      ]
    },
    {
      "cell_type": "code",
      "metadata": {
        "id": "jhR4lVphIivL"
      },
      "source": [
        "camille = {\n",
        "    'health': 575.6,\n",
        "    'health_regen': 1.7,\n",
        "    'mana': 338.8,\n",
        "    'mana_regen': 1.63,\n",
        "    'melee': 125,\n",
        "    'attack_damage': 60,\n",
        "    'attack_speed': 0.625,\n",
        "    'armor': 26,\n",
        "    'magic_resistance': 32.1,\n",
        "    'movement_speed': 340\n",
        "}"
      ],
      "execution_count": 96,
      "outputs": []
    },
    {
      "cell_type": "code",
      "metadata": {
        "colab": {
          "base_uri": "https://localhost:8080/"
        },
        "id": "ywhWP6cWJJjd",
        "outputId": "72364db7-9ea2-4ec4-9c5d-619b1a8438f5"
      },
      "source": [
        "print(camille['health'])\n",
        "print(camille['movement_speed'])"
      ],
      "execution_count": 99,
      "outputs": [
        {
          "output_type": "stream",
          "text": [
            "575.6\n",
            "340\n"
          ],
          "name": "stdout"
        }
      ]
    },
    {
      "cell_type": "markdown",
      "metadata": {
        "id": "gpn6d78IJT_3"
      },
      "source": [
        "## 12.5 심사문제: 딕셔너리에 게임 캐릭터 능력치 저장하기\n",
        "#### 표준 입력으로 문자열 여러 개와 숫자(실수) 여러 개가 두 줄로 입력됩니다. <br> 입력된 첫 번째 줄은 키, 두 번째 줄은 값으로 하여 딕셔너리를 생성한 뒤 딕셔너리를 출력하는 프로그램을 만드세요.<br> input().split()의 결과를 변수 한 개에 저장하면 리스트로 저장됩니다."
      ]
    },
    {
      "cell_type": "code",
      "metadata": {
        "colab": {
          "base_uri": "https://localhost:8080/"
        },
        "id": "WMUZiAq-JO5q",
        "outputId": "508200cf-84b3-47e4-da97-bd9ae75d56a0"
      },
      "source": [
        "lux = {\n",
        "    'health' : 575.6,\n",
        "    'health_regen': 1.7,\n",
        "    'mana' : 338.8,\n",
        "    'mana_regen' : 1.63,\n",
        "}\n",
        "lux"
      ],
      "execution_count": 104,
      "outputs": [
        {
          "output_type": "execute_result",
          "data": {
            "text/plain": [
              "{'health': 575.6, 'health_regen': 1.7, 'mana': 338.8, 'mana_regen': 1.63}"
            ]
          },
          "metadata": {
            "tags": []
          },
          "execution_count": 104
        }
      ]
    },
    {
      "cell_type": "code",
      "metadata": {
        "colab": {
          "base_uri": "https://localhost:8080/"
        },
        "id": "X2kR93DyKPPn",
        "outputId": "eb0bacb5-e8df-4395-fdd0-e1a392e78c7a"
      },
      "source": [
        "lux2 = {\n",
        "    'health' : 575.6,\n",
        "    'mana': 308.8,\n",
        "    'melee' : 600,\n",
        "    'attack_speed' : 0.625,\n",
        "    'magic_resistance' : 35.7,\n",
        "}\n",
        "lux2"
      ],
      "execution_count": 109,
      "outputs": [
        {
          "output_type": "execute_result",
          "data": {
            "text/plain": [
              "{'attack_speed': 0.625,\n",
              " 'health': 575.6,\n",
              " 'magic_resistance': 35.7,\n",
              " 'mana': 308.8,\n",
              " 'melee': 600}"
            ]
          },
          "metadata": {
            "tags": []
          },
          "execution_count": 109
        }
      ]
    },
    {
      "cell_type": "markdown",
      "metadata": {
        "id": "RCqMV-TYMgJ1"
      },
      "source": [
        "## 13.6 연습문제: if 조건문 사용하기\n",
        "#### 다음 소스 코드를 완성하여 x의 값이 10이 아닐 때 'ok'가 출력되게 만드세요."
      ]
    },
    {
      "cell_type": "code",
      "metadata": {
        "colab": {
          "base_uri": "https://localhost:8080/"
        },
        "id": "Sq8xkg6tK9wV",
        "outputId": "99b152c2-8b6c-4ccb-ed54-61f91e84b86d"
      },
      "source": [
        "x = 5\n",
        "if x != 10 :\n",
        "    print('ok')"
      ],
      "execution_count": 111,
      "outputs": [
        {
          "output_type": "stream",
          "text": [
            "ok\n"
          ],
          "name": "stdout"
        }
      ]
    },
    {
      "cell_type": "markdown",
      "metadata": {
        "id": "9o_25LTRM2Zm"
      },
      "source": [
        "## 13.7 심사문제: 온라인 할인 쿠폰 시스템 만들기\n",
        "\n",
        "#### 표준 입력으로 가격(정수)과 쿠폰 이름이 각 줄에 입력됩니다. <br> Cash3000 쿠폰은 3,000원, Cash5000 쿠폰은 5,000원을 할인합니다.<br> 쿠폰에 따라 할인된 가격을 출력하는 프로그램을 만드세요<br>(input에서 안내 문자열은 출력하지 않아야 합니다)."
      ]
    },
    {
      "cell_type": "markdown",
      "metadata": {
        "id": "MNptrLPKS9qY"
      },
      "source": [
        "## 14.6 연습문제: 합격 여부 판단하기\n",
        "\n",
        "#### A 기업의 입사 시험은 필기 시험 점수가 80점 이상이면서 코딩 시험을 통과해야 합격이라고 정했습니다(코딩 시험 통과 여부는 True, False로 구분). 다음 소스 코드를 완성하여 '합격', '불합격'이 출력되게 만드세요."
      ]
    },
    {
      "cell_type": "code",
      "metadata": {
        "colab": {
          "base_uri": "https://localhost:8080/"
        },
        "id": "R9e0Ys9nTI5E",
        "outputId": "7975a8cd-5b85-4a63-b85c-6e0d72ca625a"
      },
      "source": [
        "written_test = 75\n",
        "coding_test = True\n",
        "if written_test >= 80 and coding_test == True :\n",
        "    print('합격')\n",
        "else :\n",
        "    print('불합격')"
      ],
      "execution_count": 124,
      "outputs": [
        {
          "output_type": "stream",
          "text": [
            "불합격\n"
          ],
          "name": "stdout"
        }
      ]
    },
    {
      "cell_type": "markdown",
      "metadata": {
        "id": "i9Bj2c8DUBXY"
      },
      "source": [
        "## 14.7 심사문제: 합격 여부 판단하기\n",
        "\n",
        "#### 표준 입력으로 국어, 영어, 수학, 과학 점수가 입력됩니다.<br> 여기서 네 과목의 평균 점수가 80점 이상일 때 합격이라고 정했습니다.<br> 평균 점수에 따라 '합격', '불합격'을 출력하는 프로그램을 만드세요(input에서 안내 문자열은 출력하지 않아야 합니다). <br> 단, 점수는 0점부터 100점까지만 입력받을 수 있으며 범위를 벗어났다면 <br> '잘못된 점수'를 출력하고 합격, 불합격 여부는 출력하지 않아야 합니다."
      ]
    },
    {
      "cell_type": "code",
      "metadata": {
        "colab": {
          "base_uri": "https://localhost:8080/"
        },
        "id": "qoGRsH0vTeyv",
        "outputId": "d71eb25a-38ce-4005-aff7-6d739476ec5d"
      },
      "source": [
        "kor, eng, mat, sci = map(int, input('국어, 영어, 수학, 과학 점수> ').split())\n",
        "a = (kor + eng + mat + sci) // 4\n",
        "if a >= 80:\n",
        "    print('합격')\n",
        "else: \n",
        "    if a < 80:\n",
        "        print('불합격')\n",
        "    else:\n",
        "        if a >100 :\n",
        "            print('잘못된 점수')"
      ],
      "execution_count": 128,
      "outputs": [
        {
          "output_type": "stream",
          "text": [
            "국어, 영어, 수학, 과학 점수> 89 72 93 82\n",
            "합격\n"
          ],
          "name": "stdout"
        }
      ]
    },
    {
      "cell_type": "code",
      "metadata": {
        "colab": {
          "base_uri": "https://localhost:8080/"
        },
        "id": "zrByhT8gWThi",
        "outputId": "188551bf-95da-4ee7-fe0c-bb0919d14108"
      },
      "source": [
        "kor, eng, mat, sci = map(int, input('국어, 영어, 수학, 과학 점수> ').split())\n",
        "a = (kor + eng + mat + sci) // 4\n",
        "if a >= 80:\n",
        "    print('합격')\n",
        "else: \n",
        "    if a < 80:\n",
        "        print('불합격')\n",
        "    else:\n",
        "        if a >100 :\n",
        "            print('잘못된 점수')"
      ],
      "execution_count": 129,
      "outputs": [
        {
          "output_type": "stream",
          "text": [
            "국어, 영어, 수학, 과학 점수> 100 79 68 71\n",
            "불합격\n"
          ],
          "name": "stdout"
        }
      ]
    },
    {
      "cell_type": "code",
      "metadata": {
        "colab": {
          "base_uri": "https://localhost:8080/"
        },
        "id": "Cm4RxJOdWgob",
        "outputId": "af6580be-36e2-4e43-9c3c-4eab885e3c29"
      },
      "source": [
        "# 요소의 조건문(?)\n",
        "kor, eng, mat, sci = map(int, input('국어, 영어, 수학, 과학 점수> ').split())\n",
        "a = (kor + eng + mat + sci) // 4\n",
        "if a >= 80:\n",
        "    print('합격')\n",
        "else: \n",
        "    if a < 80:\n",
        "        print('불합격')\n",
        "    else:\n",
        "        if b > 100:\n",
        "            print('잘못된 점수')"
      ],
      "execution_count": 137,
      "outputs": [
        {
          "output_type": "stream",
          "text": [
            "국어, 영어, 수학, 과학 점수> 99 85 101 90\n",
            "합격\n"
          ],
          "name": "stdout"
        }
      ]
    },
    {
      "cell_type": "code",
      "metadata": {
        "id": "gjWbp5piWkdX"
      },
      "source": [
        ""
      ],
      "execution_count": 135,
      "outputs": []
    }
  ]
}