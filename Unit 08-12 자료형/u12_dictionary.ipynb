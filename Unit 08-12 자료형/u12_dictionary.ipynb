{
  "nbformat": 4,
  "nbformat_minor": 0,
  "metadata": {
    "colab": {
      "name": "u12_dictionary.ipynb",
      "provenance": [],
      "collapsed_sections": []
    },
    "kernelspec": {
      "name": "python3",
      "display_name": "Python 3"
    },
    "language_info": {
      "name": "python"
    }
  },
  "cells": [
    {
      "cell_type": "markdown",
      "metadata": {
        "id": "GGaV0i76RzE8"
      },
      "source": [
        "# Unit 12. 딕셔너리(Dictionary)\n",
        "- Javascript 에서는 Object 임\n",
        "- obj.key"
      ]
    },
    {
      "cell_type": "code",
      "metadata": {
        "colab": {
          "base_uri": "https://localhost:8080/"
        },
        "id": "3giRKYFtRvxt",
        "outputId": "0f4a5e50-06cf-47f4-fee6-65983f7f779a"
      },
      "source": [
        "lux = [490, 334, 550, 18.72]\n",
        "lux"
      ],
      "execution_count": 1,
      "outputs": [
        {
          "output_type": "execute_result",
          "data": {
            "text/plain": [
              "[490, 334, 550, 18.72]"
            ]
          },
          "metadata": {
            "tags": []
          },
          "execution_count": 1
        }
      ]
    },
    {
      "cell_type": "code",
      "metadata": {
        "colab": {
          "base_uri": "https://localhost:8080/"
        },
        "id": "eHmyQupOSBkU",
        "outputId": "83a9f32e-fece-4f62-c8cd-bc27381094fd"
      },
      "source": [
        "lux = {\n",
        "    'health': 490,      #체력\n",
        "    'mana' : 334,       #마력\n",
        "    'melee' : 550,      #사거리\n",
        "    'armor' : 18.72     #방어력\n",
        "}\n",
        "lux"
      ],
      "execution_count": 2,
      "outputs": [
        {
          "output_type": "execute_result",
          "data": {
            "text/plain": [
              "{'armor': 18.72, 'health': 490, 'mana': 334, 'melee': 550}"
            ]
          },
          "metadata": {
            "tags": []
          },
          "execution_count": 2
        }
      ]
    },
    {
      "cell_type": "markdown",
      "metadata": {
        "id": "IpfaPUAoSrIz"
      },
      "source": [
        "## 12.1 딕셔너리 생성"
      ]
    },
    {
      "cell_type": "code",
      "metadata": {
        "colab": {
          "base_uri": "https://localhost:8080/"
        },
        "id": "i30MkKPfSnAg",
        "outputId": "f5120c36-d95f-4789-c532-ae393e9d7688"
      },
      "source": [
        "# key 이름이 중복될 경우 가장 뒤에 있는 값만 사용됨\n",
        "lux = {\n",
        "    'health': 490,      #체력\n",
        "    'health': 800, \n",
        "    'mana' : 334,       #마력\n",
        "    'melee' : 550,      #사거리\n",
        "    'armor' : 18.72     #방어력\n",
        "}\n",
        "lux"
      ],
      "execution_count": 4,
      "outputs": [
        {
          "output_type": "execute_result",
          "data": {
            "text/plain": [
              "{'armor': 18.72, 'health': 800, 'mana': 334, 'melee': 550}"
            ]
          },
          "metadata": {
            "tags": []
          },
          "execution_count": 4
        }
      ]
    },
    {
      "cell_type": "code",
      "metadata": {
        "colab": {
          "base_uri": "https://localhost:8080/"
        },
        "id": "IvrEiHz5T2X3",
        "outputId": "dfc27fd2-d733-4fa9-b78a-516f7c07d93f"
      },
      "source": [
        "# 빈 dict 만들기\n",
        "a = {}\n",
        "b = dict()\n",
        "a, b"
      ],
      "execution_count": 5,
      "outputs": [
        {
          "output_type": "execute_result",
          "data": {
            "text/plain": [
              "({}, {})"
            ]
          },
          "metadata": {
            "tags": []
          },
          "execution_count": 5
        }
      ]
    },
    {
      "cell_type": "code",
      "metadata": {
        "colab": {
          "base_uri": "https://localhost:8080/"
        },
        "id": "D4XtBy-FUFRz",
        "outputId": "f01423cd-3bd8-45aa-eb91-6da9c2d4024d"
      },
      "source": [
        "a = set((1, 2, 3))\n",
        "a"
      ],
      "execution_count": 6,
      "outputs": [
        {
          "output_type": "execute_result",
          "data": {
            "text/plain": [
              "{1, 2, 3}"
            ]
          },
          "metadata": {
            "tags": []
          },
          "execution_count": 6
        }
      ]
    },
    {
      "cell_type": "code",
      "metadata": {
        "colab": {
          "base_uri": "https://localhost:8080/"
        },
        "id": "sTmlFRe8VHIq",
        "outputId": "0513f45f-631f-428f-b9cc-bfc34a29218c"
      },
      "source": [
        "# 2개의 list를 zip함수 이용하여 엮어주는 것\n",
        "a = ['a', 'b', 'c', 'd']\n",
        "b = [1,2,3,4]\n",
        "dict(zip(a,b))"
      ],
      "execution_count": 8,
      "outputs": [
        {
          "output_type": "execute_result",
          "data": {
            "text/plain": [
              "{'a': 1, 'b': 2, 'c': 3, 'd': 4}"
            ]
          },
          "metadata": {
            "tags": []
          },
          "execution_count": 8
        }
      ]
    },
    {
      "cell_type": "markdown",
      "metadata": {
        "id": "iKNUA65IWBRU"
      },
      "source": [
        "## 12.2 딕셔너리 키에 접근하고 값 할당하기"
      ]
    },
    {
      "cell_type": "code",
      "metadata": {
        "colab": {
          "base_uri": "https://localhost:8080/"
        },
        "id": "z_zkw25YVo5G",
        "outputId": "5412bf36-ca26-4fb7-a125-42e58ba884c8"
      },
      "source": [
        "# 딕셔너리에 키를 지정하지 않으면 {}포함 딕셔너리 전체 출력됨\n",
        "# 알파벳 순으로 sorting 되어 출력됨\n",
        "lux"
      ],
      "execution_count": 9,
      "outputs": [
        {
          "output_type": "execute_result",
          "data": {
            "text/plain": [
              "{'armor': 18.72, 'health': 800, 'mana': 334, 'melee': 550}"
            ]
          },
          "metadata": {
            "tags": []
          },
          "execution_count": 9
        }
      ]
    },
    {
      "cell_type": "code",
      "metadata": {
        "colab": {
          "base_uri": "https://localhost:8080/"
        },
        "id": "kUvjIKPoWFAb",
        "outputId": "f6c7faa2-beff-4edc-a0f0-314b68ce3c31"
      },
      "source": [
        "# 값을 구하기 위해서는 해당하는 키를 입력\n",
        "# 값은 입력한대로 출력됨 (알파벳순X)\n",
        "lux['mana'], lux['armor']"
      ],
      "execution_count": 11,
      "outputs": [
        {
          "output_type": "execute_result",
          "data": {
            "text/plain": [
              "(334, 18.72)"
            ]
          },
          "metadata": {
            "tags": []
          },
          "execution_count": 11
        }
      ]
    },
    {
      "cell_type": "code",
      "metadata": {
        "colab": {
          "base_uri": "https://localhost:8080/"
        },
        "id": "BWUNr204WJ4V",
        "outputId": "86607cf6-e87a-4e8e-8626-74e8112716b8"
      },
      "source": [
        "# 키 값이 기존 dict에 없으면 새로 추가됨\n",
        "lux['new'] = 10\n",
        "lux"
      ],
      "execution_count": 12,
      "outputs": [
        {
          "output_type": "execute_result",
          "data": {
            "text/plain": [
              "{'armor': 18.72, 'health': 800, 'mana': 334, 'melee': 550, 'new': 10}"
            ]
          },
          "metadata": {
            "tags": []
          },
          "execution_count": 12
        }
      ]
    },
    {
      "cell_type": "code",
      "metadata": {
        "colab": {
          "base_uri": "https://localhost:8080/"
        },
        "id": "N7E4aOtTXLny",
        "outputId": "af6ece51-a33b-4a7f-ce78-c8d0146758e8"
      },
      "source": [
        "# 키 값이 기존 dict에 있으면 값이 변경됨\n",
        "lux['mana'] = 1000\n",
        "lux"
      ],
      "execution_count": 14,
      "outputs": [
        {
          "output_type": "execute_result",
          "data": {
            "text/plain": [
              "{'armor': 18.72, 'health': 800, 'mana': 1000, 'melee': 550, 'new': 10}"
            ]
          },
          "metadata": {
            "tags": []
          },
          "execution_count": 14
        }
      ]
    },
    {
      "cell_type": "code",
      "metadata": {
        "colab": {
          "base_uri": "https://localhost:8080/"
        },
        "id": "JyoVdiV0XdDc",
        "outputId": "1d7ab473-7fa3-407c-c450-2b1dad3a9a00"
      },
      "source": [
        "'mana' in lux"
      ],
      "execution_count": 15,
      "outputs": [
        {
          "output_type": "execute_result",
          "data": {
            "text/plain": [
              "True"
            ]
          },
          "metadata": {
            "tags": []
          },
          "execution_count": 15
        }
      ]
    },
    {
      "cell_type": "code",
      "metadata": {
        "colab": {
          "base_uri": "https://localhost:8080/"
        },
        "id": "DJpR3qdjYL-7",
        "outputId": "d692116e-cb08-41d4-edc9-65af6fd36817"
      },
      "source": [
        "# 'mana' 항목이 존재하면 기존 값 + 100, 없으면 값이 50이 되게 만드시오\n",
        "e = {'mana' : 150}\n",
        "\n",
        "if 'mana' in e: \n",
        "    e['mana'] = e['mana'] + 100\n",
        "else:\n",
        "    e['mana'] = 50\n",
        "\n",
        "e    "
      ],
      "execution_count": 16,
      "outputs": [
        {
          "output_type": "execute_result",
          "data": {
            "text/plain": [
              "{'mana': 250}"
            ]
          },
          "metadata": {
            "tags": []
          },
          "execution_count": 16
        }
      ]
    },
    {
      "cell_type": "code",
      "metadata": {
        "colab": {
          "base_uri": "https://localhost:8080/"
        },
        "id": "5F7uOzGuY6vD",
        "outputId": "cebaf58e-1ca5-468e-8247-7c9ab7187f8d"
      },
      "source": [
        "# 'mana' 항목이 존재하면 기존 값 + 100, 없으면 값이 50이 되게 만드시오\n",
        "e = {}\n",
        "\n",
        "if 'mana' in e: \n",
        "    e['mana'] = e['mana'] + 100\n",
        "else:\n",
        "    e['mana'] = 50\n",
        "\n",
        "e    "
      ],
      "execution_count": 17,
      "outputs": [
        {
          "output_type": "execute_result",
          "data": {
            "text/plain": [
              "{'mana': 50}"
            ]
          },
          "metadata": {
            "tags": []
          },
          "execution_count": 17
        }
      ]
    },
    {
      "cell_type": "markdown",
      "metadata": {
        "id": "5eY0xI56ZN4O"
      },
      "source": [
        "### 딕셔너리 키의 개수"
      ]
    },
    {
      "cell_type": "code",
      "metadata": {
        "colab": {
          "base_uri": "https://localhost:8080/"
        },
        "id": "kdAncMNsY9Zu",
        "outputId": "85fe41b7-1606-4da6-bcc7-b43ea99776ff"
      },
      "source": [
        "lux"
      ],
      "execution_count": 18,
      "outputs": [
        {
          "output_type": "execute_result",
          "data": {
            "text/plain": [
              "{'armor': 18.72, 'health': 800, 'mana': 1000, 'melee': 550, 'new': 10}"
            ]
          },
          "metadata": {
            "tags": []
          },
          "execution_count": 18
        }
      ]
    },
    {
      "cell_type": "code",
      "metadata": {
        "colab": {
          "base_uri": "https://localhost:8080/"
        },
        "id": "yoD1TSLhZRQ5",
        "outputId": "dd68c232-45dd-4a61-8a23-70ce958ad0c0"
      },
      "source": [
        "len(lux)"
      ],
      "execution_count": 19,
      "outputs": [
        {
          "output_type": "execute_result",
          "data": {
            "text/plain": [
              "5"
            ]
          },
          "metadata": {
            "tags": []
          },
          "execution_count": 19
        }
      ]
    },
    {
      "cell_type": "markdown",
      "metadata": {
        "id": "EJvj0UzBbhdG"
      },
      "source": [
        "### 반복문, 추후 학습 예정"
      ]
    },
    {
      "cell_type": "code",
      "metadata": {
        "colab": {
          "base_uri": "https://localhost:8080/"
        },
        "id": "96vqyDnEZSl3",
        "outputId": "d6a55e4d-f719-4ce4-dee3-22094d97bdda"
      },
      "source": [
        "lux.keys()"
      ],
      "execution_count": 20,
      "outputs": [
        {
          "output_type": "execute_result",
          "data": {
            "text/plain": [
              "dict_keys(['health', 'mana', 'melee', 'armor', 'new'])"
            ]
          },
          "metadata": {
            "tags": []
          },
          "execution_count": 20
        }
      ]
    },
    {
      "cell_type": "code",
      "metadata": {
        "colab": {
          "base_uri": "https://localhost:8080/"
        },
        "id": "n1SMnbIQalGT",
        "outputId": "09248869-47fe-4a4d-cebd-cafb14832fed"
      },
      "source": [
        "for key in lux.keys():\n",
        "    print(f'{key}: {lux[key]}')"
      ],
      "execution_count": 22,
      "outputs": [
        {
          "output_type": "stream",
          "text": [
            "health: 800\n",
            "mana: 1000\n",
            "melee: 550\n",
            "armor: 18.72\n",
            "new: 10\n"
          ],
          "name": "stdout"
        }
      ]
    },
    {
      "cell_type": "code",
      "metadata": {
        "colab": {
          "base_uri": "https://localhost:8080/"
        },
        "id": "zcs19M1ya1V_",
        "outputId": "8132e080-53a2-4734-cfb9-1362a3f25d65"
      },
      "source": [
        "for key, value in lux.items():\n",
        "    print(f'{key}: {value}')"
      ],
      "execution_count": 23,
      "outputs": [
        {
          "output_type": "stream",
          "text": [
            "health: 800\n",
            "mana: 1000\n",
            "melee: 550\n",
            "armor: 18.72\n",
            "new: 10\n"
          ],
          "name": "stdout"
        }
      ]
    },
    {
      "cell_type": "code",
      "metadata": {
        "id": "eZyx2et_bQM_"
      },
      "source": [
        ""
      ],
      "execution_count": null,
      "outputs": []
    }
  ]
}