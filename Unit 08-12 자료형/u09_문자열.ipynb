{
  "nbformat": 4,
  "nbformat_minor": 0,
  "metadata": {
    "colab": {
      "name": "u09_문자열.ipynb",
      "provenance": [],
      "collapsed_sections": []
    },
    "kernelspec": {
      "name": "python3",
      "display_name": "Python 3"
    },
    "language_info": {
      "name": "python"
    }
  },
  "cells": [
    {
      "cell_type": "markdown",
      "metadata": {
        "id": "AVdQGl8cbymW"
      },
      "source": [
        "# Unit 9. 문자열"
      ]
    },
    {
      "cell_type": "code",
      "metadata": {
        "colab": {
          "base_uri": "https://localhost:8080/"
        },
        "id": "pD3WHfbuWktf",
        "outputId": "28fd9e39-4ce7-47f8-d9ae-611f126e517d"
      },
      "source": [
        "hello = 'Hello, world!'\n",
        "hello2 = \"Hello, world!\"\n",
        "hello, hello2"
      ],
      "execution_count": 3,
      "outputs": [
        {
          "output_type": "execute_result",
          "data": {
            "text/plain": [
              "('Hello, world!', 'Hello, world!')"
            ]
          },
          "metadata": {
            "tags": []
          },
          "execution_count": 3
        }
      ]
    },
    {
      "cell_type": "code",
      "metadata": {
        "colab": {
          "base_uri": "https://localhost:8080/",
          "height": 35
        },
        "id": "wBR5j7wkbxNe",
        "outputId": "7cf0c5c7-8bf8-453f-f1ec-07d9df7f2536"
      },
      "source": [
        "multiline = '''Hello!\n",
        "World!'''\n",
        "multiline\n",
        "# ''' ''', \"\"\" \"\"\" : 여러 줄로 된 문자열. 변수로 입력하지 않으면 string 으로 인정함\n",
        "# jupyter에서만 가능. py에서는 반드시 오류남"
      ],
      "execution_count": 5,
      "outputs": [
        {
          "output_type": "execute_result",
          "data": {
            "application/vnd.google.colaboratory.intrinsic+json": {
              "type": "string"
            },
            "text/plain": [
              "'Hello!\\nWorld!'"
            ]
          },
          "metadata": {
            "tags": []
          },
          "execution_count": 5
        }
      ]
    },
    {
      "cell_type": "code",
      "metadata": {
        "colab": {
          "base_uri": "https://localhost:8080/",
          "height": 35
        },
        "id": "TTzA4he7dWZd",
        "outputId": "3563e44e-0dd2-47f3-ffe2-2606e4fcb5e3"
      },
      "source": [
        "multi = 'Hello!\\nWorld!'\n",
        "multi"
      ],
      "execution_count": 6,
      "outputs": [
        {
          "output_type": "execute_result",
          "data": {
            "application/vnd.google.colaboratory.intrinsic+json": {
              "type": "string"
            },
            "text/plain": [
              "'Hello!\\nWorld!'"
            ]
          },
          "metadata": {
            "tags": []
          },
          "execution_count": 6
        }
      ]
    },
    {
      "cell_type": "code",
      "metadata": {
        "colab": {
          "base_uri": "https://localhost:8080/"
        },
        "id": "nhSiiZcOdpvW",
        "outputId": "c5f93290-858b-49ee-b0be-4a49886b6d9f"
      },
      "source": [
        "print(multi)\n",
        "# print는 우리가 의도한 대로 보여 줌(줄바꿔서)"
      ],
      "execution_count": 7,
      "outputs": [
        {
          "output_type": "stream",
          "text": [
            "Hello!\n",
            "World!\n"
          ],
          "name": "stdout"
        }
      ]
    },
    {
      "cell_type": "code",
      "metadata": {
        "colab": {
          "base_uri": "https://localhost:8080/",
          "height": 132
        },
        "id": "yqfMbY8-d0or",
        "outputId": "376308ea-4e4f-4f23-ca2a-65fe94b56115"
      },
      "source": [
        "s = 'Python isn't difficult.\n",
        "# 문장 안에 ' 나왔을 때 문장 전체가 string이 안 되기 때문에 에러 발생 "
      ],
      "execution_count": 8,
      "outputs": [
        {
          "output_type": "error",
          "ename": "SyntaxError",
          "evalue": "ignored",
          "traceback": [
            "\u001b[0;36m  File \u001b[0;32m\"<ipython-input-8-03c3eaec3df9>\"\u001b[0;36m, line \u001b[0;32m1\u001b[0m\n\u001b[0;31m    s = 'Python isn't difficult.\u001b[0m\n\u001b[0m                    ^\u001b[0m\n\u001b[0;31mSyntaxError\u001b[0m\u001b[0;31m:\u001b[0m invalid syntax\n"
          ]
        }
      ]
    },
    {
      "cell_type": "code",
      "metadata": {
        "colab": {
          "base_uri": "https://localhost:8080/",
          "height": 35
        },
        "id": "FE4TlBx8ecGo",
        "outputId": "91482193-f953-488f-c427-d15dccbba365"
      },
      "source": [
        "s = \"Python isn't difficult.\"\n",
        "s\n",
        "# 문장 밖에 \"\"로 묶어주면 가능함 (문장 안에 \"\" 있을 경우 밖에 ''로 묶어주기)"
      ],
      "execution_count": 9,
      "outputs": [
        {
          "output_type": "execute_result",
          "data": {
            "application/vnd.google.colaboratory.intrinsic+json": {
              "type": "string"
            },
            "text/plain": [
              "\"Python isn't difficult.\""
            ]
          },
          "metadata": {
            "tags": []
          },
          "execution_count": 9
        }
      ]
    },
    {
      "cell_type": "code",
      "metadata": {
        "colab": {
          "base_uri": "https://localhost:8080/",
          "height": 35
        },
        "id": "AMWZZWkLekad",
        "outputId": "4853601f-5a1c-4515-9c17-5d933b687ed1"
      },
      "source": [
        "s = 'Python isn\\t difficult.'\n",
        "s\n",
        "# 백 슬래시: 기존의 의미가 없으면 있게 하는 것, 있으면 없게 하는 것. "
      ],
      "execution_count": 10,
      "outputs": [
        {
          "output_type": "execute_result",
          "data": {
            "application/vnd.google.colaboratory.intrinsic+json": {
              "type": "string"
            },
            "text/plain": [
              "'Python isn\\t difficult.'"
            ]
          },
          "metadata": {
            "tags": []
          },
          "execution_count": 10
        }
      ]
    },
    {
      "cell_type": "code",
      "metadata": {
        "id": "JDgfHvKbe80-"
      },
      "source": [
        ""
      ],
      "execution_count": null,
      "outputs": []
    }
  ]
}