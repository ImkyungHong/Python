{
  "nbformat": 4,
  "nbformat_minor": 2,
  "metadata": {
    "colab": {
      "name": "u09_문자열.ipynb",
      "provenance": [],
      "collapsed_sections": []
    },
    "kernelspec": {
      "name": "python3",
      "display_name": "Python 3.8.10 64-bit ('base': conda)"
    },
    "language_info": {
      "name": "python",
      "version": "3.8.10",
      "mimetype": "text/x-python",
      "codemirror_mode": {
        "name": "ipython",
        "version": 3
      },
      "pygments_lexer": "ipython3",
      "nbconvert_exporter": "python",
      "file_extension": ".py"
    },
    "interpreter": {
      "hash": "2c5373b56045d27805095073b4fd3831b9681fb378d55d950933c3cade222603"
    }
  },
  "cells": [
    {
      "cell_type": "markdown",
      "source": [
        "# Unit 9. 문자열"
      ],
      "metadata": {
        "id": "AVdQGl8cbymW"
      }
    },
    {
      "cell_type": "code",
      "execution_count": 3,
      "source": [
        "hello = 'Hello, world!'\r\n",
        "hello2 = \"Hello, world!\"\r\n",
        "hello, hello2"
      ],
      "outputs": [
        {
          "output_type": "execute_result",
          "data": {
            "text/plain": [
              "('Hello, world!', 'Hello, world!')"
            ]
          },
          "metadata": {
            "tags": []
          },
          "execution_count": 3
        }
      ],
      "metadata": {
        "colab": {
          "base_uri": "https://localhost:8080/"
        },
        "id": "pD3WHfbuWktf",
        "outputId": "28fd9e39-4ce7-47f8-d9ae-611f126e517d"
      }
    },
    {
      "cell_type": "code",
      "execution_count": 5,
      "source": [
        "multiline = '''Hello!\r\n",
        "World!'''\r\n",
        "multiline\r\n",
        "# ''' ''', \"\"\" \"\"\" : 여러 줄로 된 문자열. 변수로 입력하지 않으면 string 으로 인정함\r\n",
        "# jupyter에서만 가능. py에서는 반드시 오류남"
      ],
      "outputs": [
        {
          "output_type": "execute_result",
          "data": {
            "text/plain": [
              "'Hello!\\nWorld!'"
            ],
            "application/vnd.google.colaboratory.intrinsic+json": {
              "type": "string"
            }
          },
          "metadata": {
            "tags": []
          },
          "execution_count": 5
        }
      ],
      "metadata": {
        "colab": {
          "base_uri": "https://localhost:8080/",
          "height": 35
        },
        "id": "wBR5j7wkbxNe",
        "outputId": "7cf0c5c7-8bf8-453f-f1ec-07d9df7f2536"
      }
    },
    {
      "cell_type": "code",
      "execution_count": 6,
      "source": [
        "multi = 'Hello!\\nWorld!'\r\n",
        "multi"
      ],
      "outputs": [
        {
          "output_type": "execute_result",
          "data": {
            "text/plain": [
              "'Hello!\\nWorld!'"
            ],
            "application/vnd.google.colaboratory.intrinsic+json": {
              "type": "string"
            }
          },
          "metadata": {
            "tags": []
          },
          "execution_count": 6
        }
      ],
      "metadata": {
        "colab": {
          "base_uri": "https://localhost:8080/",
          "height": 35
        },
        "id": "TTzA4he7dWZd",
        "outputId": "3563e44e-0dd2-47f3-ffe2-2606e4fcb5e3"
      }
    },
    {
      "cell_type": "code",
      "execution_count": 7,
      "source": [
        "print(multi)\r\n",
        "# print는 우리가 의도한 대로 보여 줌(줄바꿔서)"
      ],
      "outputs": [
        {
          "output_type": "stream",
          "name": "stdout",
          "text": [
            "Hello!\n",
            "World!\n"
          ]
        }
      ],
      "metadata": {
        "colab": {
          "base_uri": "https://localhost:8080/"
        },
        "id": "nhSiiZcOdpvW",
        "outputId": "c5f93290-858b-49ee-b0be-4a49886b6d9f"
      }
    },
    {
      "cell_type": "code",
      "execution_count": 8,
      "source": [
        "s = 'Python isn't difficult.\r\n",
        "# 문장 안에 ' 나왔을 때 문장 전체가 string이 안 되기 때문에 에러 발생 "
      ],
      "outputs": [
        {
          "output_type": "error",
          "ename": "SyntaxError",
          "evalue": "ignored",
          "traceback": [
            "\u001b[0;36m  File \u001b[0;32m\"<ipython-input-8-03c3eaec3df9>\"\u001b[0;36m, line \u001b[0;32m1\u001b[0m\n\u001b[0;31m    s = 'Python isn't difficult.\u001b[0m\n\u001b[0m                    ^\u001b[0m\n\u001b[0;31mSyntaxError\u001b[0m\u001b[0;31m:\u001b[0m invalid syntax\n"
          ]
        }
      ],
      "metadata": {
        "colab": {
          "base_uri": "https://localhost:8080/",
          "height": 132
        },
        "id": "yqfMbY8-d0or",
        "outputId": "376308ea-4e4f-4f23-ca2a-65fe94b56115"
      }
    },
    {
      "cell_type": "code",
      "execution_count": 9,
      "source": [
        "s = \"Python isn't difficult.\"\r\n",
        "s\r\n",
        "# 문장 밖에 \"\"로 묶어주면 가능함 (문장 안에 \"\" 있을 경우 밖에 ''로 묶어주기)"
      ],
      "outputs": [
        {
          "output_type": "execute_result",
          "data": {
            "text/plain": [
              "\"Python isn't difficult.\""
            ],
            "application/vnd.google.colaboratory.intrinsic+json": {
              "type": "string"
            }
          },
          "metadata": {
            "tags": []
          },
          "execution_count": 9
        }
      ],
      "metadata": {
        "colab": {
          "base_uri": "https://localhost:8080/",
          "height": 35
        },
        "id": "FE4TlBx8ecGo",
        "outputId": "91482193-f953-488f-c427-d15dccbba365"
      }
    },
    {
      "cell_type": "code",
      "execution_count": 10,
      "source": [
        "s = 'Python isn\\t difficult.'\r\n",
        "s\r\n",
        "# 백 슬래시: 기존의 의미가 없으면 있게 하는 것, 있으면 없게 하는 것. "
      ],
      "outputs": [
        {
          "output_type": "execute_result",
          "data": {
            "text/plain": [
              "'Python isn\\t difficult.'"
            ],
            "application/vnd.google.colaboratory.intrinsic+json": {
              "type": "string"
            }
          },
          "metadata": {
            "tags": []
          },
          "execution_count": 10
        }
      ],
      "metadata": {
        "colab": {
          "base_uri": "https://localhost:8080/",
          "height": 35
        },
        "id": "AMWZZWkLekad",
        "outputId": "4853601f-5a1c-4515-9c17-5d933b687ed1"
      }
    },
    {
      "cell_type": "code",
      "execution_count": 1,
      "source": [
        "food = 'Python\\'s favorite food is perl'\r\n",
        "food"
      ],
      "outputs": [
        {
          "output_type": "execute_result",
          "data": {
            "text/plain": [
              "\"Python's favorite food is perl\""
            ]
          },
          "metadata": {},
          "execution_count": 1
        }
      ],
      "metadata": {
        "id": "JDgfHvKbe80-"
      }
    },
    {
      "cell_type": "code",
      "execution_count": 3,
      "source": [
        "print('=' *50)\r\n",
        "print('my program')\r\n",
        "print('=' * 50)"
      ],
      "outputs": [
        {
          "output_type": "stream",
          "name": "stdout",
          "text": [
            "==================================================\n",
            "my program\n",
            "==================================================\n"
          ]
        }
      ],
      "metadata": {}
    },
    {
      "cell_type": "code",
      "execution_count": null,
      "source": [],
      "outputs": [],
      "metadata": {}
    }
  ]
}