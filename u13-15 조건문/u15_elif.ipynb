{
  "nbformat": 4,
  "nbformat_minor": 0,
  "metadata": {
    "colab": {
      "name": "u15_elif.ipynb",
      "provenance": []
    },
    "kernelspec": {
      "name": "python3",
      "display_name": "Python 3"
    },
    "language_info": {
      "name": "python"
    }
  },
  "cells": [
    {
      "cell_type": "code",
      "metadata": {
        "colab": {
          "base_uri": "https://localhost:8080/"
        },
        "id": "0AVu9LFTgS6m",
        "outputId": "0b7b1e77-5f6f-418a-8a12-aade7f069c14"
      },
      "source": [
        "x = 20\n",
        "if x == 10 :\n",
        "    print('It is 10.')\n",
        "elif x == 20 :\n",
        "    print('It is 20')"
      ],
      "execution_count": 1,
      "outputs": [
        {
          "output_type": "stream",
          "text": [
            "It is 20\n"
          ],
          "name": "stdout"
        }
      ]
    },
    {
      "cell_type": "code",
      "metadata": {
        "colab": {
          "base_uri": "https://localhost:8080/"
        },
        "id": "oIwMdWQQobqb",
        "outputId": "9db51277-1194-4777-b197-bc61aee122bf"
      },
      "source": [
        "# 숫자 - 입력, 3의 배수면 fizz, 5의 배수면 buzz, 15의 배수면 fizzbuzz\n",
        "x= int(input())\n",
        "if x % 3 == 0 :\n",
        "    print('fizz')\n",
        "elif x % 5 == 0 :\n",
        "    print('buzz')\n",
        "elif x % 15 == 0 :\n",
        "    print('fizzbuzz')"
      ],
      "execution_count": 3,
      "outputs": [
        {
          "output_type": "stream",
          "text": [
            "3\n",
            "fizz\n"
          ],
          "name": "stdout"
        }
      ]
    },
    {
      "cell_type": "code",
      "metadata": {
        "colab": {
          "base_uri": "https://localhost:8080/"
        },
        "id": "XS2dGZB8ptVr",
        "outputId": "899e405c-ab82-4e76-f821-b2458996c166"
      },
      "source": [
        "# 위의 문제 선생님 해설\n",
        "number = int(input())\n",
        "\n",
        "if number % 15 == 0 :       #제일 좁은/엄격한 범위부터 시작해야함\n",
        "    print('fizzbuzz')\n",
        "elif number % 5 == 0 :\n",
        "    print('buzz')\n",
        "elif number % 3 == 0 :\n",
        "    print('fizz')          \n",
        "else :\n",
        "    print(number)"
      ],
      "execution_count": 8,
      "outputs": [
        {
          "output_type": "stream",
          "text": [
            "14\n",
            "14\n"
          ],
          "name": "stdout"
        }
      ]
    },
    {
      "cell_type": "code",
      "metadata": {
        "colab": {
          "base_uri": "https://localhost:8080/"
        },
        "id": "LWVUVz7BqZpG",
        "outputId": "28758aad-36c4-4c24-b1ee-cd9cfaf1fd03"
      },
      "source": [
        "# 위의 해설 한 줄로 했을 시 (반복문, or의 특성을 알아둬)\n",
        "print('Fizz'*(number%3==0) + 'Buzz'*(number%5==0) or number)             # *는 반복문을 의미"
      ],
      "execution_count": 9,
      "outputs": [
        {
          "output_type": "stream",
          "text": [
            "14\n"
          ],
          "name": "stdout"
        }
      ]
    },
    {
      "cell_type": "code",
      "metadata": {
        "id": "1pBMNTFbrabY"
      },
      "source": [
        ""
      ],
      "execution_count": null,
      "outputs": []
    }
  ]
}