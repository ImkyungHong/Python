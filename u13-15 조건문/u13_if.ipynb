{
  "nbformat": 4,
  "nbformat_minor": 0,
  "metadata": {
    "colab": {
      "name": "u13_if.ipynb",
      "provenance": [],
      "collapsed_sections": []
    },
    "kernelspec": {
      "name": "python3",
      "display_name": "Python 3"
    },
    "language_info": {
      "name": "python"
    }
  },
  "cells": [
    {
      "cell_type": "markdown",
      "metadata": {
        "id": "hFkE8l7agthD"
      },
      "source": [
        "# Unit 13. if 조건문"
      ]
    },
    {
      "cell_type": "markdown",
      "metadata": {
        "id": "SQ_1ChQ3heFv"
      },
      "source": [
        "## 13.1 if 조건문\n",
        "- 결과가 True, False 로 나오면 됨"
      ]
    },
    {
      "cell_type": "code",
      "metadata": {
        "colab": {
          "base_uri": "https://localhost:8080/"
        },
        "id": "-u5jX_zbgN-Q",
        "outputId": "66e53ba3-a8ae-423a-c439-3ee5b0e8d4cd"
      },
      "source": [
        "x = 10\n",
        "if x == 10:     #조건식\n",
        "    print('It is 10.')  #조건식이 만족할 때 실행할 코드 "
      ],
      "execution_count": 1,
      "outputs": [
        {
          "output_type": "stream",
          "text": [
            "It is 10.\n"
          ],
          "name": "stdout"
        }
      ]
    },
    {
      "cell_type": "code",
      "metadata": {
        "colab": {
          "base_uri": "https://localhost:8080/"
        },
        "id": "flcJP6uMhw5D",
        "outputId": "29958bd0-303c-4786-e14d-0afc72ff0002"
      },
      "source": [
        "\n",
        "x = 9\n",
        "if x :          # x가 0이 아니면 참\n",
        "    print('It is 10.')"
      ],
      "execution_count": 2,
      "outputs": [
        {
          "output_type": "stream",
          "text": [
            "It is 10.\n"
          ],
          "name": "stdout"
        }
      ]
    },
    {
      "cell_type": "markdown",
      "metadata": {
        "id": "6dtH7FzEizbp"
      },
      "source": [
        "## 13.2 들여쓰기"
      ]
    },
    {
      "cell_type": "code",
      "metadata": {
        "colab": {
          "base_uri": "https://localhost:8080/",
          "height": 132
        },
        "id": "0pbDWDxfiRef",
        "outputId": "0345c63e-232c-4e7b-9ccb-790f97d4c49c"
      },
      "source": [
        "# print 부분 들여쓰기 잘못으로 에러 발생\n",
        "x = 10\n",
        "\n",
        "if x == 10:\n",
        "    print('x값은')\n",
        "        print('10입니다')"
      ],
      "execution_count": 3,
      "outputs": [
        {
          "output_type": "error",
          "ename": "IndentationError",
          "evalue": "ignored",
          "traceback": [
            "\u001b[0;36m  File \u001b[0;32m\"<ipython-input-3-a1ae9e9d6c57>\"\u001b[0;36m, line \u001b[0;32m6\u001b[0m\n\u001b[0;31m    print('10입니다')\u001b[0m\n\u001b[0m    ^\u001b[0m\n\u001b[0;31mIndentationError\u001b[0m\u001b[0;31m:\u001b[0m unexpected indent\n"
          ]
        }
      ]
    },
    {
      "cell_type": "code",
      "metadata": {
        "colab": {
          "base_uri": "https://localhost:8080/"
        },
        "id": "6IVgM8zhjTgJ",
        "outputId": "d15e6f49-59fc-4dcf-d52d-97e16a04e4f1"
      },
      "source": [
        "x = 9\n",
        "\n",
        "if x == 10:\n",
        "    print('x값은')              \n",
        "    print('10입니다')           # 여기까지 if 조건문에 해당 -> 결과가 거짓이라 출력x\n",
        "print('언제나 출력됩니다.')     # if와는 상관 없는 코드이기 때문에 출력"
      ],
      "execution_count": 5,
      "outputs": [
        {
          "output_type": "stream",
          "text": [
            "언제나 출력됩니다.\n"
          ],
          "name": "stdout"
        }
      ]
    },
    {
      "cell_type": "markdown",
      "metadata": {
        "id": "o3i_UJ-dj8WV"
      },
      "source": [
        "## 13.3 중첩 if 조건문"
      ]
    },
    {
      "cell_type": "code",
      "metadata": {
        "colab": {
          "base_uri": "https://localhost:8080/"
        },
        "id": "itBOAoNmjb8I",
        "outputId": "fb2d53e9-7973-4c0a-f92c-7dae8b226c02"
      },
      "source": [
        "x = 15\n",
        "if x > 10:\n",
        "    print('10보다 큰 숫자입니다.')\n",
        "    if x == 15 :\n",
        "        print('15입니다.')\n",
        "    if x == 20 :\n",
        "        print('20입니다.')"
      ],
      "execution_count": 6,
      "outputs": [
        {
          "output_type": "stream",
          "text": [
            "10보다 큰 숫자입니다.\n",
            "15입니다.\n"
          ],
          "name": "stdout"
        }
      ]
    },
    {
      "cell_type": "markdown",
      "metadata": {
        "id": "HxGAexb4lCzV"
      },
      "source": [
        "## 13.4 사용자가 입력한 값에 if 조건문 사용하기"
      ]
    },
    {
      "cell_type": "code",
      "metadata": {
        "colab": {
          "base_uri": "https://localhost:8080/"
        },
        "id": "VB0GX5TDkdBv",
        "outputId": "3be7ceea-0fbe-4962-a138-fc73913242a0"
      },
      "source": [
        "x = int(input('정수를 입력하세요> '))\n",
        "if x > 10:\n",
        "    print('10보다 큰 숫자입니다.')\n",
        "    if x == 15 :\n",
        "        print('15입니다.')\n",
        "    if x == 20 :\n",
        "        print('20입니다.')"
      ],
      "execution_count": 7,
      "outputs": [
        {
          "output_type": "stream",
          "text": [
            "정수를 입력하세요> 20\n",
            "10보다 큰 숫자입니다.\n",
            "20입니다.\n"
          ],
          "name": "stdout"
        }
      ]
    },
    {
      "cell_type": "code",
      "metadata": {
        "id": "Opl9jooFk-TW"
      },
      "source": [
        ""
      ],
      "execution_count": null,
      "outputs": []
    }
  ]
}