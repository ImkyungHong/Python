{
  "nbformat": 4,
  "nbformat_minor": 0,
  "metadata": {
    "colab": {
      "name": "u44_모듈과패키지.ipynb",
      "provenance": []
    },
    "kernelspec": {
      "name": "python3",
      "display_name": "Python 3"
    },
    "language_info": {
      "name": "python"
    }
  },
  "cells": [
    {
      "cell_type": "code",
      "metadata": {
        "colab": {
          "base_uri": "https://localhost:8080/"
        },
        "id": "Xep_KRzUgdXy",
        "outputId": "04214be7-05d8-4196-a1f5-30b7a595ec41"
      },
      "source": [
        "import math\n",
        "math.pi"
      ],
      "execution_count": 1,
      "outputs": [
        {
          "output_type": "execute_result",
          "data": {
            "text/plain": [
              "3.141592653589793"
            ]
          },
          "metadata": {
            "tags": []
          },
          "execution_count": 1
        }
      ]
    },
    {
      "cell_type": "code",
      "metadata": {
        "colab": {
          "base_uri": "https://localhost:8080/"
        },
        "id": "33tzcYKxgjDg",
        "outputId": "4775ae70-d065-4e41-a3c4-497ae9c32a84"
      },
      "source": [
        "math.sqrt(2), math.log2(2), math.sin(math.pi/2)"
      ],
      "execution_count": 3,
      "outputs": [
        {
          "output_type": "execute_result",
          "data": {
            "text/plain": [
              "(1.4142135623730951, 1.0, 1.0)"
            ]
          },
          "metadata": {
            "tags": []
          },
          "execution_count": 3
        }
      ]
    },
    {
      "cell_type": "code",
      "metadata": {
        "colab": {
          "base_uri": "https://localhost:8080/"
        },
        "id": "WzZOk3fognXR",
        "outputId": "32285a70-2dd8-4d9c-c925-4f9dc8a50859"
      },
      "source": [
        "# aliasing\n",
        "import math as m\n",
        "round(m.pi, 4), m.log2(2), round(m.sqrt(2),4)"
      ],
      "execution_count": 4,
      "outputs": [
        {
          "output_type": "execute_result",
          "data": {
            "text/plain": [
              "(3.1416, 1.0, 1.4142)"
            ]
          },
          "metadata": {
            "tags": []
          },
          "execution_count": 4
        }
      ]
    },
    {
      "cell_type": "code",
      "metadata": {
        "colab": {
          "base_uri": "https://localhost:8080/"
        },
        "id": "HJZCc0MthfAA",
        "outputId": "f35951b3-9611-468b-8095-0b47eb54d44a"
      },
      "source": [
        "# from을 통해서 함수, 클래스, 전역변수 등을 가져올 수 있음\n",
        "from math import sqrt, pi\n",
        "round(pi,4), round(sqrt(2))"
      ],
      "execution_count": 6,
      "outputs": [
        {
          "output_type": "execute_result",
          "data": {
            "text/plain": [
              "(3.1416, 1)"
            ]
          },
          "metadata": {
            "tags": []
          },
          "execution_count": 6
        }
      ]
    },
    {
      "cell_type": "code",
      "metadata": {
        "colab": {
          "base_uri": "https://localhost:8080/"
        },
        "id": "fS1QdMuuhrs-",
        "outputId": "fb14083c-396f-4707-f14b-41fd97a52ca0"
      },
      "source": [
        "# 모든 것을 가져옴\n",
        "from math import *\n",
        "log2(2), sin(pi/2)"
      ],
      "execution_count": 7,
      "outputs": [
        {
          "output_type": "execute_result",
          "data": {
            "text/plain": [
              "(1.0, 1.0)"
            ]
          },
          "metadata": {
            "tags": []
          },
          "execution_count": 7
        }
      ]
    },
    {
      "cell_type": "markdown",
      "metadata": {
        "id": "VgPqpwlYi3_b"
      },
      "source": [
        "## 44.2 import 패키지"
      ]
    },
    {
      "cell_type": "code",
      "metadata": {
        "colab": {
          "base_uri": "https://localhost:8080/"
        },
        "id": "cV1qomOciQ7X",
        "outputId": "17238a39-409b-4685-e0ac-6583baf7cf12"
      },
      "source": [
        "import urllib.request\n",
        "res = urllib.request.urlopen('http://www.google.com')\n",
        "res.status"
      ],
      "execution_count": 8,
      "outputs": [
        {
          "output_type": "execute_result",
          "data": {
            "text/plain": [
              "200"
            ]
          },
          "metadata": {
            "tags": []
          },
          "execution_count": 8
        }
      ]
    },
    {
      "cell_type": "code",
      "metadata": {
        "colab": {
          "base_uri": "https://localhost:8080/"
        },
        "id": "FzXVXu1-jNbi",
        "outputId": "cc0b2f3c-29b2-4e34-fe90-ca4494199ec6"
      },
      "source": [
        "from urllib.request import urlopen\n",
        "res = urlopen('http://www.google.com')\n",
        "res.status"
      ],
      "execution_count": 10,
      "outputs": [
        {
          "output_type": "execute_result",
          "data": {
            "text/plain": [
              "200"
            ]
          },
          "metadata": {
            "tags": []
          },
          "execution_count": 10
        }
      ]
    },
    {
      "cell_type": "code",
      "metadata": {
        "id": "3HMZPdbKjh2x"
      },
      "source": [
        "# Scikit-Learn 패키지\n",
        "from sklearn.model_selection import train_test_split, GridSearchCV"
      ],
      "execution_count": 11,
      "outputs": []
    },
    {
      "cell_type": "code",
      "metadata": {
        "id": "vM47qgCxkF0o"
      },
      "source": [
        ""
      ],
      "execution_count": null,
      "outputs": []
    }
  ]
}