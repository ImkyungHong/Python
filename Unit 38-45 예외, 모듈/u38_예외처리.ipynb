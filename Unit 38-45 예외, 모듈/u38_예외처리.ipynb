{
  "nbformat": 4,
  "nbformat_minor": 0,
  "metadata": {
    "colab": {
      "name": "u38_예외처리.ipynb",
      "provenance": []
    },
    "kernelspec": {
      "name": "python3",
      "display_name": "Python 3"
    },
    "language_info": {
      "name": "python"
    }
  },
  "cells": [
    {
      "cell_type": "markdown",
      "metadata": {
        "id": "K3gNUkuTsCeW"
      },
      "source": [
        "# Unit 38. 예외처리"
      ]
    },
    {
      "cell_type": "markdown",
      "metadata": {
        "id": "xaPjMhDytGW6"
      },
      "source": [
        "## 38.1 try except"
      ]
    },
    {
      "cell_type": "code",
      "metadata": {
        "colab": {
          "base_uri": "https://localhost:8080/"
        },
        "id": "CejpM9Xjsoln",
        "outputId": "2612e67e-8eee-4c45-90a7-6a88a03704bf"
      },
      "source": [
        "a = [1, 2, 3]\n",
        "try:\n",
        "    a[4]\n",
        "except:\n",
        "    print('예외발생')"
      ],
      "execution_count": 2,
      "outputs": [
        {
          "output_type": "stream",
          "text": [
            "예외발생\n"
          ],
          "name": "stdout"
        }
      ]
    },
    {
      "cell_type": "markdown",
      "metadata": {
        "id": "xRJiS4AMwpwu"
      },
      "source": [
        "### 특정 예외만 처리하기"
      ]
    },
    {
      "cell_type": "code",
      "metadata": {
        "colab": {
          "base_uri": "https://localhost:8080/",
          "height": 236
        },
        "id": "hT-PiFV7tnh_",
        "outputId": "bbd4211c-6f35-49be-9603-10db5e2447e8"
      },
      "source": [
        "try:\n",
        "    int('10d')\n",
        "except ZeroDivisionError:\n",
        "    print('0으로 나눌 수 없습니다.')\n",
        "except IndexError:\n",
        "    print('Index Error 발생')"
      ],
      "execution_count": 5,
      "outputs": [
        {
          "output_type": "error",
          "ename": "ValueError",
          "evalue": "ignored",
          "traceback": [
            "\u001b[0;31m---------------------------------------------------------------------------\u001b[0m",
            "\u001b[0;31mValueError\u001b[0m                                Traceback (most recent call last)",
            "\u001b[0;32m<ipython-input-5-ee9b0c9a0598>\u001b[0m in \u001b[0;36m<module>\u001b[0;34m()\u001b[0m\n\u001b[1;32m      1\u001b[0m \u001b[0;32mtry\u001b[0m\u001b[0;34m:\u001b[0m\u001b[0;34m\u001b[0m\u001b[0;34m\u001b[0m\u001b[0m\n\u001b[0;32m----> 2\u001b[0;31m     \u001b[0mint\u001b[0m\u001b[0;34m(\u001b[0m\u001b[0;34m'10d'\u001b[0m\u001b[0;34m)\u001b[0m\u001b[0;34m\u001b[0m\u001b[0;34m\u001b[0m\u001b[0m\n\u001b[0m\u001b[1;32m      3\u001b[0m \u001b[0;32mexcept\u001b[0m \u001b[0mZeroDivisionError\u001b[0m\u001b[0;34m:\u001b[0m\u001b[0;34m\u001b[0m\u001b[0;34m\u001b[0m\u001b[0m\n\u001b[1;32m      4\u001b[0m     \u001b[0mprint\u001b[0m\u001b[0;34m(\u001b[0m\u001b[0;34m'0으로 나눌 수 없습니다.'\u001b[0m\u001b[0;34m)\u001b[0m\u001b[0;34m\u001b[0m\u001b[0;34m\u001b[0m\u001b[0m\n\u001b[1;32m      5\u001b[0m \u001b[0;32mexcept\u001b[0m \u001b[0mIndexError\u001b[0m\u001b[0;34m:\u001b[0m\u001b[0;34m\u001b[0m\u001b[0;34m\u001b[0m\u001b[0m\n",
            "\u001b[0;31mValueError\u001b[0m: invalid literal for int() with base 10: '10d'"
          ]
        }
      ]
    },
    {
      "cell_type": "code",
      "metadata": {
        "colab": {
          "base_uri": "https://localhost:8080/"
        },
        "id": "n220PObZv8pD",
        "outputId": "c35f7654-895a-49e1-97e7-1876c2614bc2"
      },
      "source": [
        "# 위의 Error 발생 안 하려면 세분화  \n",
        "try:\n",
        "    int('10d')\n",
        "except ZeroDivisionError:\n",
        "    print('0으로 나눌 수 없습니다.')\n",
        "except IndexError:\n",
        "    print('Index Error 발생')\n",
        "except ValueError:\n",
        "    print('Value Error 발생')"
      ],
      "execution_count": 6,
      "outputs": [
        {
          "output_type": "stream",
          "text": [
            "Value Error 발생\n"
          ],
          "name": "stdout"
        }
      ]
    },
    {
      "cell_type": "markdown",
      "metadata": {
        "id": "Fduoi_x6xBK7"
      },
      "source": [
        "### 예외의 에러 메시지 받아오기\n",
        "try:<br> \n",
        "　　실행할 코드<br> \n",
        "except 예외 as 변수:<br> \n",
        "　　예외가 발생했을 때 처리하는 코드"
      ]
    },
    {
      "cell_type": "code",
      "metadata": {
        "colab": {
          "base_uri": "https://localhost:8080/"
        },
        "id": "h-JF6C5mwH12",
        "outputId": "e8dd3c9a-2f41-4ddb-9e47-918e563553a1"
      },
      "source": [
        "try:\n",
        "    int('10d')\n",
        "except Exception as e:          # Exception을 앞으로 e라고 부르겠다 (alias)\n",
        "    print(e)                    # Exception 개체의 __str__() method"
      ],
      "execution_count": 7,
      "outputs": [
        {
          "output_type": "stream",
          "text": [
            "invalid literal for int() with base 10: '10d'\n"
          ],
          "name": "stdout"
        }
      ]
    },
    {
      "cell_type": "markdown",
      "metadata": {
        "id": "39TzXq-NxjSS"
      },
      "source": [
        "## 38.2 else-finally"
      ]
    },
    {
      "cell_type": "code",
      "metadata": {
        "colab": {
          "base_uri": "https://localhost:8080/"
        },
        "id": "dcTWBr2TxP3l",
        "outputId": "02dacd99-d2d7-4d4d-c49c-9bbf8e717267"
      },
      "source": [
        "try:\n",
        "    x = int(input('나눌 숫자 입력 > '))\n",
        "    y = 10 / x\n",
        "except Exception as e:\n",
        "    print(e)\n",
        "else:\n",
        "    print(y)"
      ],
      "execution_count": 8,
      "outputs": [
        {
          "output_type": "stream",
          "text": [
            "나눌 숫자 입력 > 5r\n",
            "invalid literal for int() with base 10: '5r'\n"
          ],
          "name": "stdout"
        }
      ]
    },
    {
      "cell_type": "code",
      "metadata": {
        "colab": {
          "base_uri": "https://localhost:8080/"
        },
        "id": "vHs66lX52PRE",
        "outputId": "8e5fd715-6c51-430a-9407-873205b07713"
      },
      "source": [
        "# 예외와 상관없이 항상 실행 \n",
        "try:\n",
        "    x = int(input('나눌 숫자 입력 > '))\n",
        "    y = 10 / x\n",
        "except Exception as e:\n",
        "    print(e)\n",
        "else:\n",
        "    print(y)\n",
        "finally:\n",
        "    print('코드 실행 종료')"
      ],
      "execution_count": 10,
      "outputs": [
        {
          "output_type": "stream",
          "text": [
            "나눌 숫자 입력 > 0\n",
            "division by zero\n",
            "코드 실행 종료\n"
          ],
          "name": "stdout"
        }
      ]
    },
    {
      "cell_type": "markdown",
      "metadata": {
        "id": "WHP--4SZ3dc2"
      },
      "source": [
        "## 38.3 예외 발생시키기"
      ]
    },
    {
      "cell_type": "code",
      "metadata": {
        "colab": {
          "base_uri": "https://localhost:8080/"
        },
        "id": "sk89Bu4o2ZgE",
        "outputId": "7e942fae-4c02-4009-a23d-a6ed90d616b5"
      },
      "source": [
        "import random\n",
        "try:\n",
        "    x = random.randint(1, 10)\n",
        "    print(x)\n",
        "    if x % 3 != 0:\n",
        "        raise Exception('3의 배수가 아닙니다.') \n",
        "except Exception as e:\n",
        "    print('예외 발생', e)"
      ],
      "execution_count": 12,
      "outputs": [
        {
          "output_type": "stream",
          "text": [
            "5\n",
            "예외 발생 3의 배수가 아닙니다.\n"
          ],
          "name": "stdout"
        }
      ]
    },
    {
      "cell_type": "code",
      "metadata": {
        "id": "5BbXmOuT5UQS"
      },
      "source": [
        "def multiple11(x):\n",
        "    if x % 11 != 0:\n",
        "        raise Exception('11의 배수가 아닙니다.')\n",
        "    print(x)"
      ],
      "execution_count": 13,
      "outputs": []
    },
    {
      "cell_type": "code",
      "metadata": {
        "colab": {
          "base_uri": "https://localhost:8080/"
        },
        "id": "jaybtTFI6Wgv",
        "outputId": "4e993656-9d5d-40ba-b47d-7508cf416c25"
      },
      "source": [
        "try:\n",
        "    multiple11(100)\n",
        "except Exception as e:\n",
        "    print('예외발생 -', e)"
      ],
      "execution_count": 14,
      "outputs": [
        {
          "output_type": "stream",
          "text": [
            "예외발생 - 11의 배수가 아닙니다.\n"
          ],
          "name": "stdout"
        }
      ]
    },
    {
      "cell_type": "code",
      "metadata": {
        "id": "BIDBxkm36edp"
      },
      "source": [
        "try:\n",
        "for():\n",
        "    for():\n",
        "        for():\n",
        "            if 조건:\n",
        "                raise Exception()       #loop을 완전 탈출\n",
        "except:\n",
        "    ;                                   #Null, 빈 문장으로 해도 ok"
      ],
      "execution_count": null,
      "outputs": []
    },
    {
      "cell_type": "markdown",
      "metadata": {
        "id": "pZzhcQQM7lsW"
      },
      "source": [
        "## 38.4 예외 만들기"
      ]
    },
    {
      "cell_type": "code",
      "metadata": {
        "id": "DtQEzV3S7Uda"
      },
      "source": [
        "# Exception 객체를 상속받아 객체를 만들면 됨"
      ],
      "execution_count": null,
      "outputs": []
    }
  ]
}