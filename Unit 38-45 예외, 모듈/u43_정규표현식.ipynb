{
  "nbformat": 4,
  "nbformat_minor": 0,
  "metadata": {
    "colab": {
      "name": "u43_정규표현식.ipynb",
      "provenance": []
    },
    "kernelspec": {
      "name": "python3",
      "display_name": "Python 3"
    },
    "language_info": {
      "name": "python"
    }
  },
  "cells": [
    {
      "cell_type": "markdown",
      "metadata": {
        "id": "kp4BmOX_-_MZ"
      },
      "source": [
        "# Unit 43. 정규표현식"
      ]
    },
    {
      "cell_type": "markdown",
      "metadata": {
        "id": "JnWibwRs_MVI"
      },
      "source": [
        "### 문자열 판단"
      ]
    },
    {
      "cell_type": "code",
      "metadata": {
        "colab": {
          "base_uri": "https://localhost:8080/"
        },
        "id": "CcbTuVYV8Nzx",
        "outputId": "158ce8dd-1609-4adb-c4e5-580ece7c4394"
      },
      "source": [
        "import re\n",
        "re.match('Hello', 'Hello, world!')      #패턴, 문자열"
      ],
      "execution_count": 1,
      "outputs": [
        {
          "output_type": "execute_result",
          "data": {
            "text/plain": [
              "<re.Match object; span=(0, 5), match='Hello'>"
            ]
          },
          "metadata": {
            "tags": []
          },
          "execution_count": 1
        }
      ]
    },
    {
      "cell_type": "code",
      "metadata": {
        "colab": {
          "base_uri": "https://localhost:8080/"
        },
        "id": "Y5Yol3Jp_cDQ",
        "outputId": "2d115e42-3023-458e-b53a-ba797a22b032"
      },
      "source": [
        "z = re.match('Hello', 'Hello, world!')\n",
        "if z:\n",
        "    print('Found!!')\n",
        "else:\n",
        "    print('Not found.')"
      ],
      "execution_count": 2,
      "outputs": [
        {
          "output_type": "stream",
          "text": [
            "Found!!\n"
          ],
          "name": "stdout"
        }
      ]
    },
    {
      "cell_type": "code",
      "metadata": {
        "colab": {
          "base_uri": "https://localhost:8080/"
        },
        "id": "rQ5Hke68C3RB",
        "outputId": "51307405-162e-4382-96f8-e7d84937404f"
      },
      "source": [
        "# match()는 문장의 처음에서 찾음\n",
        "if re.match('world', 'Hello, world!'):\n",
        "    print('Found!!')\n",
        "else:\n",
        "    print('Not found.')"
      ],
      "execution_count": 3,
      "outputs": [
        {
          "output_type": "stream",
          "text": [
            "Not found.\n"
          ],
          "name": "stdout"
        }
      ]
    },
    {
      "cell_type": "code",
      "metadata": {
        "colab": {
          "base_uri": "https://localhost:8080/"
        },
        "id": "6KWWuRejDO-T",
        "outputId": "8f2a54cd-0075-4c73-9f5e-3c87182dcadc"
      },
      "source": [
        "# search()는 모든 문장에서 찾음\n",
        "if re.search('world', 'Hello, world!'):\n",
        "    print('Found!!')\n",
        "else:\n",
        "    print('Not found.')"
      ],
      "execution_count": 4,
      "outputs": [
        {
          "output_type": "stream",
          "text": [
            "Found!!\n"
          ],
          "name": "stdout"
        }
      ]
    },
    {
      "cell_type": "markdown",
      "metadata": {
        "id": "0a34Ox6ADpJW"
      },
      "source": [
        "## 43.2 범위 판단하기"
      ]
    },
    {
      "cell_type": "code",
      "metadata": {
        "colab": {
          "base_uri": "https://localhost:8080/"
        },
        "id": "kjZxQiQuDaKy",
        "outputId": "c7b2ef1c-4777-4fa3-eadc-d876342908c7"
      },
      "source": [
        "# 휴대전화 번호 형식\n",
        "pattern = '01[0-9]-[0-9]{4}-[0-9]{4}'\n",
        "text = '010-1234-5678'\n",
        "if re.match(pattern, text):             # pattern을 text에서 찾아지면\n",
        "    print('올바른 휴대전화번호')\n",
        "else:\n",
        "    print('잘못된 휴대전화번호')"
      ],
      "execution_count": 5,
      "outputs": [
        {
          "output_type": "stream",
          "text": [
            "올바른 휴대전화번호\n"
          ],
          "name": "stdout"
        }
      ]
    },
    {
      "cell_type": "code",
      "metadata": {
        "colab": {
          "base_uri": "https://localhost:8080/"
        },
        "id": "y44XftaxErko",
        "outputId": "80a38d17-6149-4818-de3a-b573573984b7"
      },
      "source": [
        "# 휴대전화 번호 형식\n",
        "pattern = '01[0-9]-[0-9]{4}-[0-9]{4}'\n",
        "text = '02-1234-5678'\n",
        "if re.match(pattern, text):             # pattern을 text에서 찾아지면\n",
        "    print('올바른 휴대전화번호')\n",
        "else:\n",
        "    print('잘못된 휴대전화번호')"
      ],
      "execution_count": 6,
      "outputs": [
        {
          "output_type": "stream",
          "text": [
            "잘못된 휴대전화번호\n"
          ],
          "name": "stdout"
        }
      ]
    },
    {
      "cell_type": "code",
      "metadata": {
        "colab": {
          "base_uri": "https://localhost:8080/"
        },
        "id": "anxeCGGWE05S",
        "outputId": "1b48b847-3451-4ba6-fd7e-70223b2319b1"
      },
      "source": [
        "#한글 패턴\n",
        "hangul = '[ㄱ-ㅎ ㅏ-ㅣ가-힇]+'\n",
        "text = '홍길동'\n",
        "if re.search(hangul, text):\n",
        "    print('한글이 있음')\n",
        "else:\n",
        "    print('한글이 없음')"
      ],
      "execution_count": 7,
      "outputs": [
        {
          "output_type": "stream",
          "text": [
            "한글이 있음\n"
          ],
          "name": "stdout"
        }
      ]
    },
    {
      "cell_type": "code",
      "metadata": {
        "colab": {
          "base_uri": "https://localhost:8080/"
        },
        "id": "wS_eIjmTFwXd",
        "outputId": "d5ba5b91-5a03-49ae-ff95-4f13855a8eab"
      },
      "source": [
        "hangul = '[ㄱ-ㅎ ㅏ-ㅣ가-힇]+'\n",
        "text = 'abc'\n",
        "if re.search(hangul, text):\n",
        "    print('한글이 있음')\n",
        "else:\n",
        "    print('한글이 없음')"
      ],
      "execution_count": 8,
      "outputs": [
        {
          "output_type": "stream",
          "text": [
            "한글이 없음\n"
          ],
          "name": "stdout"
        }
      ]
    },
    {
      "cell_type": "markdown",
      "metadata": {
        "id": "sA5bur1AGHH4"
      },
      "source": [
        "## 43.4 문자열 바꾸기 (제일 중요)"
      ]
    },
    {
      "cell_type": "code",
      "metadata": {
        "colab": {
          "base_uri": "https://localhost:8080/",
          "height": 35
        },
        "id": "yO6W0im9F0CQ",
        "outputId": "0dd169fc-08d3-4a3e-9634-ed399c2d3b25"
      },
      "source": [
        "# re.sub('패턴', '바꿀 문자열', '문자열') ,| =or의미\n",
        "re.sub('apple|orange', 'fruit', 'apple box orange tree')"
      ],
      "execution_count": 10,
      "outputs": [
        {
          "output_type": "execute_result",
          "data": {
            "application/vnd.google.colaboratory.intrinsic+json": {
              "type": "string"
            },
            "text/plain": [
              "'fruit box fruit tree'"
            ]
          },
          "metadata": {
            "tags": []
          },
          "execution_count": 10
        }
      ]
    },
    {
      "cell_type": "code",
      "metadata": {
        "colab": {
          "base_uri": "https://localhost:8080/",
          "height": 35
        },
        "id": "G7YXiMfBGeSL",
        "outputId": "be3173e9-46a5-4265-ef2a-b1eafe10c302"
      },
      "source": [
        "re.sub('[0-9]+', 'n', '1 2 Fizz 4 Buzz Fizz 7 8 Fizz Buzz 11 12')"
      ],
      "execution_count": 11,
      "outputs": [
        {
          "output_type": "execute_result",
          "data": {
            "application/vnd.google.colaboratory.intrinsic+json": {
              "type": "string"
            },
            "text/plain": [
              "'n n Fizz n Buzz Fizz n n Fizz Buzz n n'"
            ]
          },
          "metadata": {
            "tags": []
          },
          "execution_count": 11
        }
      ]
    },
    {
      "cell_type": "code",
      "metadata": {
        "id": "WUK39Fb-G6wz"
      },
      "source": [
        ""
      ],
      "execution_count": null,
      "outputs": []
    }
  ]
}